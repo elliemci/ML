{
 "cells": [
  {
   "cell_type": "code",
   "execution_count": 1,
   "metadata": {},
   "outputs": [],
   "source": [
    "import torch"
   ]
  },
  {
   "cell_type": "code",
   "execution_count": 2,
   "metadata": {},
   "outputs": [],
   "source": [
    "torch_scalar = torch.tensor(3.14) \n",
    "\n",
    "torch_vector = torch.tensor([1, 2, 3, 4]) \n",
    "\n",
    "torch_matrix = torch.tensor([[1, 2,], \n",
    "                             [3, 4,], \n",
    "                             [5, 6,], \n",
    "                             [7, 8,]])\n",
    "\n",
    "torch_tensor3d = torch.tensor([ \n",
    "                             [ \n",
    "                             [ 1, 2, 3], \n",
    "                             [ 4, 5, 6], \n",
    "                             ], \n",
    "                             [ \n",
    "                             [ 7, 8, 9], \n",
    "                             [10, 11, 12], \n",
    "                             ], \n",
    "                             [ \n",
    "                             [13, 14, 15], \n",
    "                             [16, 17, 18], \n",
    "                             ], \n",
    "                             [\n",
    "                             [19, 20, 21],\n",
    "                             [22, 23, 24],\n",
    "                             ] \n",
    "                               ])"
   ]
  },
  {
   "cell_type": "code",
   "execution_count": 3,
   "metadata": {},
   "outputs": [
    {
     "name": "stdout",
     "output_type": "stream",
     "text": [
      "torch.Size([4, 2, 3])\n"
     ]
    }
   ],
   "source": [
    "print(torch_tensor3d.shape)"
   ]
  },
  {
   "cell_type": "code",
   "execution_count": 7,
   "metadata": {},
   "outputs": [
    {
     "name": "stdout",
     "output_type": "stream",
     "text": [
      "tensor([[[[0.3524, 0.4507, 0.2161, 0.9981],\n",
      "          [0.5525, 0.4884, 0.2660, 0.1320],\n",
      "          [0.5637, 0.4651, 0.0887, 0.4414]],\n",
      "\n",
      "         [[0.0666, 0.8154, 0.7380, 0.8317],\n",
      "          [0.0706, 0.8821, 0.7173, 0.1812],\n",
      "          [0.9311, 0.7071, 0.0156, 0.5766]]],\n",
      "\n",
      "\n",
      "        [[[0.5385, 0.3507, 0.3990, 0.7817],\n",
      "          [0.6153, 0.2109, 0.2839, 0.2538],\n",
      "          [0.6239, 0.8546, 0.4572, 0.0064]],\n",
      "\n",
      "         [[0.3042, 0.8055, 0.7169, 0.6306],\n",
      "          [0.8854, 0.3743, 0.4303, 0.6220],\n",
      "          [0.9158, 0.1365, 0.2115, 0.4584]]]])\n"
     ]
    }
   ],
   "source": [
    "# Create a 4-dimensional tensor with size 2x3x4x5\n",
    "tensor_4d = torch.rand((2, 2, 3, 4))\n",
    "print(tensor_4d)"
   ]
  },
  {
   "cell_type": "code",
   "execution_count": null,
   "metadata": {},
   "outputs": [],
   "source": []
  }
 ],
 "metadata": {
  "kernelspec": {
   "display_name": "copilot_env",
   "language": "python",
   "name": "python3"
  },
  "language_info": {
   "codemirror_mode": {
    "name": "ipython",
    "version": 3
   },
   "file_extension": ".py",
   "mimetype": "text/x-python",
   "name": "python",
   "nbconvert_exporter": "python",
   "pygments_lexer": "ipython3",
   "version": "3.11.5"
  }
 },
 "nbformat": 4,
 "nbformat_minor": 2
}
