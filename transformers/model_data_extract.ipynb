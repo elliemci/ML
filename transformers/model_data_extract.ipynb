{
 "cells": [
  {
   "cell_type": "markdown",
   "id": "mathematical-attack",
   "metadata": {},
   "source": [
    "# Notebook Tasks"
   ]
  },
  {
   "cell_type": "markdown",
   "id": "going-repeat",
   "metadata": {
    "id": "incident-limitation"
   },
   "source": [
    "1. Use the islice from itertools to get the elements of the text [link to library](https://docs.python.org/3/library/itertools.html)\n",
    "2. Create a dataframe from the `value_at_index` [link](https://pandas.pydata.org/docs/reference/api/pandas.DataFrame.html)\n",
    "3. Write a `for in` loop with the use of `zip`, to iterate over the pages, the paragraphs and the iteration itself, to create a dataframe out of extracted text [link to documentation](https://docs.python.org/3/library/functions.html#zip)\n",
    "\n",
    "Text extraction from pdf files with [pdfplumber](https://pypi.org/project/pdfplumber/)"
   ]
  },
  {
   "cell_type": "markdown",
   "id": "positive-optimization",
   "metadata": {},
   "source": [
    "# Imports"
   ]
  },
  {
   "cell_type": "code",
   "execution_count": 1,
   "id": "active-potter",
   "metadata": {},
   "outputs": [],
   "source": [
    "# standard imports\n",
    "import re\n",
    "import pandas as pd\n",
    "import numpy as np\n",
    "\n",
    "# text processing\n",
    "from itertools import islice\n",
    "import pdfplumber\n",
    "\n",
    "#ignore warnings\n",
    "import warnings\n",
    "warnings.filterwarnings(action='ignore')"
   ]
  },
  {
   "cell_type": "markdown",
   "id": "active-optimization",
   "metadata": {},
   "source": [
    "# Helper Functions"
   ]
  },
  {
   "cell_type": "markdown",
   "id": "tough-yesterday",
   "metadata": {},
   "source": [
    "Use the [`islice`](https://docs.python.org/3/library/itertools.html#itertools.islice) from `itertools` to get the elements. <br> <br>\n",
    "Use an iterator for an efficient way to loop over dict."
   ]
  },
  {
   "cell_type": "code",
   "execution_count": 2,
   "id": "demographic-senior",
   "metadata": {
    "scrolled": false
   },
   "outputs": [],
   "source": [
    "def nth_key(dict_, n):\n",
    "    \"\"\"  Extract text from the nth key of the dictionary \"\"\"\n",
    "    # create an iterator from the dictionary\n",
    "    it = iter(dict_)\n",
    "    # use the islice function, and the assigned variables with next() function returns the next item from the iterator\n",
    "\n",
    "    # extract the text from the nth key of the dictionary\n",
    "    next(islice(it, n, n+1), None)\n",
    "    \n",
    "    # return the value at the current position; this raises StopIteration if n is beyond the limits.\n",
    "    # use next(it, None) to suppress that exception.\n",
    "    return next(it)\n",
    "\n",
    "\n"
   ]
  },
  {
   "cell_type": "markdown",
   "id": "abstract-adolescent",
   "metadata": {},
   "source": [
    "Create a dataframe from the `value_at_index`."
   ]
  },
  {
   "cell_type": "code",
   "execution_count": 3,
   "id": "established-luxembourg",
   "metadata": {},
   "outputs": [],
   "source": [
    "def extract_text(page_no, paragraph):\n",
    "    \"\"\" Extract and clean text from a given paragraph of agiven  page in a pdf file.\"\"\"\n",
    "    #  get the objects -text, images from the page with specified page number\n",
    "    text_dict = pdf.pages[page_no].objects\n",
    "    # convert the text objects to a list and extract the first element, list of text blooocks\n",
    "    value_at_index = list(text_dict.values())[0]\n",
    "    \n",
    "    # create a dataframe form the list value_at_index, where each row represents a text block\n",
    "    df = pd.DataFrame(value_at_index)\n",
    "    sent = df.text[paragraph]\n",
    "    # remove new lines\n",
    "    new_str = sent.replace(\"\\n\", \"\")\n",
    "    # remove \"\\xa0a\"\n",
    "    new_str = new_str.replace('\\xa0a',\"\")\n",
    "    # replace a non-braking space character set \"\\xa0\" used in web pages to create a space\n",
    "    # that woont be  broken by line wrap with  space\n",
    "    new_str = new_str.replace('\\xa0',\" \")\n",
    "    \n",
    "    return new_str"
   ]
  },
  {
   "cell_type": "markdown",
   "id": "lonely-baking",
   "metadata": {},
   "source": [
    "### Datapath"
   ]
  },
  {
   "cell_type": "code",
   "execution_count": 4,
   "id": "extraordinary-fault",
   "metadata": {},
   "outputs": [],
   "source": [
    "PATH = 'data/'\n",
    "FILENAME = 'Apple_Environmental_Progress_Report_2021.pdf'\n",
    "FILE_DF = 'report_data.csv'"
   ]
  },
  {
   "cell_type": "code",
   "execution_count": 5,
   "id": "attractive-parker",
   "metadata": {},
   "outputs": [],
   "source": [
    "# \"Layout Analysis Parameters\" is a dictionary of parameters that control the layout analysis setting to \n",
    "# \"line_overlap\": 0.7, means that two characters overlap by 70% or more, they are considered to be part of the same line.\n",
    "pdf = pdfplumber.open(PATH + FILENAME, laparams = { \"line_overlap\": 0.7 })"
   ]
  },
  {
   "cell_type": "code",
   "execution_count": 6,
   "id": "homeless-stone",
   "metadata": {
    "scrolled": false
   },
   "outputs": [],
   "source": [
    "# use the extracting function\n",
    "text_dict = pdf.pages[9].objects"
   ]
  },
  {
   "cell_type": "code",
   "execution_count": 7,
   "id": "cellular-dryer",
   "metadata": {},
   "outputs": [
    {
     "data": {
      "text/plain": [
       "dict_keys(['textboxhorizontal', 'textlinehorizontal', 'char', 'curve', 'line', 'figure'])"
      ]
     },
     "execution_count": 7,
     "metadata": {},
     "output_type": "execute_result"
    }
   ],
   "source": [
    "# show keys of text dictonary\n",
    "text_dict.keys()"
   ]
  },
  {
   "cell_type": "code",
   "execution_count": 8,
   "id": "horizontal-murder",
   "metadata": {},
   "outputs": [
    {
     "data": {
      "text/plain": [
       "'textlinehorizontal'"
      ]
     },
     "execution_count": 8,
     "metadata": {},
     "output_type": "execute_result"
    }
   ],
   "source": [
    "nth_key(text_dict, 0)"
   ]
  },
  {
   "cell_type": "code",
   "execution_count": 9,
   "id": "specified-commitment",
   "metadata": {},
   "outputs": [
    {
     "data": {
      "text/plain": [
       "[{'x0': 33.874,\n",
       "  'y0': 751.1341,\n",
       "  'x1': 297.1618,\n",
       "  'y1': 758.3091,\n",
       "  'width': 263.2878,\n",
       "  'height': 7.1749999999999545,\n",
       "  'object_type': 'textboxhorizontal',\n",
       "  'page_number': 10,\n",
       "  'text': 'Introduction       Climate Change       Resources       Smarter Chemistry       Appendix\\n',\n",
       "  'top': 33.690900000000056,\n",
       "  'bottom': 40.86590000000001,\n",
       "  'doctop': 7161.6909},\n",
       " {'x0': 468.8491,\n",
       "  'y0': 751.1761,\n",
       "  'x1': 577.9820000000001,\n",
       "  'y1': 758.3091,\n",
       "  'width': 109.13290000000006,\n",
       "  'height': 7.1329999999999245,\n",
       "  'object_type': 'textboxhorizontal',\n",
       "  'page_number': 10,\n",
       "  'text': 'Environmental Progress Report  10\\n',\n",
       "  'top': 33.690900000000056,\n",
       "  'bottom': 40.82389999999998,\n",
       "  'doctop': 7161.6909},\n",
       " {'x0': 499.1339,\n",
       "  'y0': 484.1413,\n",
       "  'x1': 578.7988,\n",
       "  'y1': 591.3163,\n",
       "  'width': 79.66490000000005,\n",
       "  'height': 107.17499999999995,\n",
       "  'object_type': 'textboxhorizontal',\n",
       "  'page_number': 10,\n",
       "  'text': 'Our Green Bond engages \\ninvestors in our work \\ntoward carbon neutrality. \\nIn our 2020 Green Bond \\nreport, we disclose \\nprogress on the projects \\nfunded over the last year \\nthat bring us closer to our \\n2030 goal. \\nRead our 2020 Green \\nBond report (PDF).\\n',\n",
       "  'top': 200.68370000000004,\n",
       "  'bottom': 307.8587,\n",
       "  'doctop': 7328.6837},\n",
       " {'x0': 34.0157,\n",
       "  'y0': 627.3239,\n",
       "  'x1': 184.5557,\n",
       "  'y1': 651.3239,\n",
       "  'width': 150.54,\n",
       "  'height': 24.0,\n",
       "  'object_type': 'textboxhorizontal',\n",
       "  'page_number': 10,\n",
       "  'text': 'Our approach\\n',\n",
       "  'top': 140.67610000000002,\n",
       "  'bottom': 164.67610000000002,\n",
       "  'doctop': 7268.6761},\n",
       " {'x0': 34.0158,\n",
       "  'y0': 560.9733,\n",
       "  'x1': 246.15190000000007,\n",
       "  'y1': 613.9733,\n",
       "  'width': 212.13610000000006,\n",
       "  'height': 53.0,\n",
       "  'object_type': 'textboxhorizontal',\n",
       "  'page_number': 10,\n",
       "  'text': 'Climate change is one of the greatest threats \\nof our time, putting at risk people’s access to \\nclean air, adequate food, safe drinking water, \\nand sanitation. \\n',\n",
       "  'top': 178.0267,\n",
       "  'bottom': 231.0267,\n",
       "  'doctop': 7306.0267},\n",
       " {'x0': 34.0158,\n",
       "  'y0': 366.2863,\n",
       "  'x1': 254.22380000000018,\n",
       "  'y1': 546.7863,\n",
       "  'width': 220.2080000000002,\n",
       "  'height': 180.5,\n",
       "  'object_type': 'textboxhorizontal',\n",
       "  'page_number': 10,\n",
       "  'text': 'This means the impact of the changes we make—improving \\nenergy efficiency and transitioning to renewable energy across \\nour supply chain—extends beyond our factories, stores, and \\noffices to benefit those who live in the communities where we \\noperate. The future success of our company depends on taking \\nurgent and decisive action. For years, we have increased energy \\nefficiency and the use of renewable energy, yet we know we have \\nto do more. That’s why last year, we unveiled our most ambitious \\nplan to date: to achieve carbon neutrality for the entire life cycle \\nof our products by 2030. This goal places us 20 years ahead of \\nthe recommendations put forward by the Intergovernmental Panel \\non Climate Change (the United Nations body for assessing the \\nscience related to climate change) calling for carbon neutrality \\nas a planet by 2050. The science is clear: Our world cannot wait \\nfor an inclusive, carbon neutral economy. Every business has a \\nresponsibility to\\xa0create a meaningful plan to reduce its emissions.\\n',\n",
       "  'top': 245.21370000000002,\n",
       "  'bottom': 425.7137,\n",
       "  'doctop': 7373.2137},\n",
       " {'x0': 34.0158,\n",
       "  'y0': 251.2863,\n",
       "  'x1': 247.87820000000013,\n",
       "  'y1': 351.2863,\n",
       "  'width': 213.86240000000015,\n",
       "  'height': 99.99999999999997,\n",
       "  'object_type': 'textboxhorizontal',\n",
       "  'page_number': 10,\n",
       "  'text': 'Our goal and approach are informed by science. We focus on \\navoiding activities that generate carbon in the first place. And, \\nwherever possible, we’re switching to lower-carbon alternatives. \\nIn cases where emissions can’t be avoided, we’ll then remove \\nthe equivalent amount of carbon from the atmosphere. While \\nwe pursue viable solutions, we also align to the same carbon \\nmitigation hierarchy in our strategy. It isn’t the easiest approach, \\nbut it’s the one science shows is necessary to address \\nclimate change.\\n',\n",
       "  'top': 440.7137,\n",
       "  'bottom': 540.7137,\n",
       "  'doctop': 7568.7137},\n",
       " {'x0': 266.5748,\n",
       "  'y0': 595.1428000000001,\n",
       "  'x1': 446.4812000000001,\n",
       "  'y1': 614.6428000000001,\n",
       "  'width': 179.90640000000013,\n",
       "  'height': 19.5,\n",
       "  'object_type': 'textboxhorizontal',\n",
       "  'page_number': 10,\n",
       "  'text': 'Our philosophy for achieving carbon neutrality follows \\nthese principles:\\n',\n",
       "  'top': 177.35719999999992,\n",
       "  'bottom': 196.85719999999992,\n",
       "  'doctop': 7305.3572},\n",
       " {'x0': 266.5748,\n",
       "  'y0': 571.9908,\n",
       "  'x1': 462.80960000000005,\n",
       "  'y1': 580.1428000000001,\n",
       "  'width': 196.23480000000006,\n",
       "  'height': 8.152000000000044,\n",
       "  'object_type': 'textboxhorizontal',\n",
       "  'page_number': 10,\n",
       "  'text': '•  Taking a comprehensive approach: Our responsibility \\n',\n",
       "  'top': 211.85719999999992,\n",
       "  'bottom': 220.00919999999996,\n",
       "  'doctop': 7339.8572},\n",
       " {'x0': 275.0787,\n",
       "  'y0': 434.14279999999997,\n",
       "  'x1': 485.2323000000001,\n",
       "  'y1': 568.6428000000001,\n",
       "  'width': 210.1536000000001,\n",
       "  'height': 134.5000000000001,\n",
       "  'object_type': 'textboxhorizontal',\n",
       "  'page_number': 10,\n",
       "  'text': 'extends beyond our direct operations to the entire life cycle \\nof our products. We calculate emissions from the production \\nof raw materials, product manufacturing, shipping, the energy \\nused to power our facilities and our customers’ devices, as well \\nas material recycling and recovery. Our commitment to reach \\nneutrality for our full product life cycle shapes the actions we \\npursue. We can effect direct change through product design \\nand using low-carbon inputs. Through supplier engagement, \\nwe can work with our manufacturing partners to transition \\nto 100 percent renewable energy. And through the power \\nof policy and industry collaboration, we can unlock climate \\nsolutions on a global scale. \\n',\n",
       "  'top': 223.35719999999992,\n",
       "  'bottom': 357.85720000000003,\n",
       "  'doctop': 7351.3572},\n",
       " {'x0': 266.5748,\n",
       "  'y0': 416.7407,\n",
       "  'x1': 458.5381000000001,\n",
       "  'y1': 424.8927,\n",
       "  'width': 191.96330000000012,\n",
       "  'height': 8.151999999999987,\n",
       "  'object_type': 'textboxhorizontal',\n",
       "  'page_number': 10,\n",
       "  'text': '•  Set ambitious targets: Our plan to reach neutrality by \\n',\n",
       "  'top': 367.1073,\n",
       "  'bottom': 375.2593,\n",
       "  'doctop': 7495.1073},\n",
       " {'x0': 275.0787,\n",
       "  'y0': 301.8927,\n",
       "  'x1': 483.8835000000002,\n",
       "  'y1': 413.3927,\n",
       "  'width': 208.80480000000017,\n",
       "  'height': 111.5,\n",
       "  'object_type': 'textboxhorizontal',\n",
       "  'page_number': 10,\n",
       "  'text': '2030 centers around our strategy to reduce emissions by \\n75 percent, relative to our 2015 footprint. This reduction \\naligns with what current climate science shows is necessary \\nto limit warming to 1.5° Celsius. We’ll invest in high-quality \\ncarbon removal projects to address the emissions that \\nremain,\\xa0prioritizing the protection of ecosystems as a \\npowerful,\\xa0natural carbon solution. These projects will also \\nalign to rigorous international standards to ensure their impact. \\nAnd\\xa0by\\xa0avoiding\\xa0emissions first, we’ll also reduce the carbon \\nwe need to remove.\\n',\n",
       "  'top': 378.6073,\n",
       "  'bottom': 490.1073,\n",
       "  'doctop': 7506.6073},\n",
       " {'x0': 266.5748,\n",
       "  'y0': 284.4906,\n",
       "  'x1': 467.2364000000001,\n",
       "  'y1': 292.64259999999996,\n",
       "  'width': 200.66160000000013,\n",
       "  'height': 8.151999999999987,\n",
       "  'object_type': 'textboxhorizontal',\n",
       "  'page_number': 10,\n",
       "  'text': '•  Match solutions to sources: For each activity within our \\n',\n",
       "  'top': 499.35740000000004,\n",
       "  'bottom': 507.5094,\n",
       "  'doctop': 7627.3574},\n",
       " {'x0': 275.0787,\n",
       "  'y0': 215.64260000000002,\n",
       "  'x1': 472.64270000000016,\n",
       "  'y1': 281.14259999999996,\n",
       "  'width': 197.56400000000014,\n",
       "  'height': 65.49999999999994,\n",
       "  'object_type': 'textboxhorizontal',\n",
       "  'page_number': 10,\n",
       "  'text': 'value chain, we will choose decarbonization actions that tie \\nto the source of those emissions. We’ll address emissions \\nfrom electricity with renewable energy and emissions from \\ntransportation with alternative fuels. By matching solutions \\nto carbon sources, we will do our part to decarbonize \\nthe economy.\\n',\n",
       "  'top': 510.85740000000004,\n",
       "  'bottom': 576.3574,\n",
       "  'doctop': 7638.8574}]"
      ]
     },
     "execution_count": 9,
     "metadata": {},
     "output_type": "execute_result"
    }
   ],
   "source": [
    "# look at page\n",
    "value_at_index = list(text_dict.values())[0]\n",
    "value_at_index"
   ]
  },
  {
   "cell_type": "code",
   "execution_count": 13,
   "id": "chronic-montgomery",
   "metadata": {},
   "outputs": [
    {
     "data": {
      "text/html": [
       "<div>\n",
       "<style scoped>\n",
       "    .dataframe tbody tr th:only-of-type {\n",
       "        vertical-align: middle;\n",
       "    }\n",
       "\n",
       "    .dataframe tbody tr th {\n",
       "        vertical-align: top;\n",
       "    }\n",
       "\n",
       "    .dataframe thead th {\n",
       "        text-align: right;\n",
       "    }\n",
       "</style>\n",
       "<table border=\"1\" class=\"dataframe\">\n",
       "  <thead>\n",
       "    <tr style=\"text-align: right;\">\n",
       "      <th></th>\n",
       "      <th>x0</th>\n",
       "      <th>y0</th>\n",
       "      <th>x1</th>\n",
       "      <th>y1</th>\n",
       "      <th>width</th>\n",
       "      <th>height</th>\n",
       "      <th>object_type</th>\n",
       "      <th>page_number</th>\n",
       "      <th>text</th>\n",
       "      <th>top</th>\n",
       "      <th>bottom</th>\n",
       "      <th>doctop</th>\n",
       "    </tr>\n",
       "  </thead>\n",
       "  <tbody>\n",
       "    <tr>\n",
       "      <th>0</th>\n",
       "      <td>33.8740</td>\n",
       "      <td>751.1341</td>\n",
       "      <td>297.1618</td>\n",
       "      <td>758.3091</td>\n",
       "      <td>263.2878</td>\n",
       "      <td>7.175</td>\n",
       "      <td>textboxhorizontal</td>\n",
       "      <td>10</td>\n",
       "      <td>Introduction       Climate Change       Resour...</td>\n",
       "      <td>33.6909</td>\n",
       "      <td>40.8659</td>\n",
       "      <td>7161.6909</td>\n",
       "    </tr>\n",
       "    <tr>\n",
       "      <th>1</th>\n",
       "      <td>468.8491</td>\n",
       "      <td>751.1761</td>\n",
       "      <td>577.9820</td>\n",
       "      <td>758.3091</td>\n",
       "      <td>109.1329</td>\n",
       "      <td>7.133</td>\n",
       "      <td>textboxhorizontal</td>\n",
       "      <td>10</td>\n",
       "      <td>Environmental Progress Report  10\\n</td>\n",
       "      <td>33.6909</td>\n",
       "      <td>40.8239</td>\n",
       "      <td>7161.6909</td>\n",
       "    </tr>\n",
       "    <tr>\n",
       "      <th>2</th>\n",
       "      <td>499.1339</td>\n",
       "      <td>484.1413</td>\n",
       "      <td>578.7988</td>\n",
       "      <td>591.3163</td>\n",
       "      <td>79.6649</td>\n",
       "      <td>107.175</td>\n",
       "      <td>textboxhorizontal</td>\n",
       "      <td>10</td>\n",
       "      <td>Our Green Bond engages \\ninvestors in our work...</td>\n",
       "      <td>200.6837</td>\n",
       "      <td>307.8587</td>\n",
       "      <td>7328.6837</td>\n",
       "    </tr>\n",
       "    <tr>\n",
       "      <th>3</th>\n",
       "      <td>34.0157</td>\n",
       "      <td>627.3239</td>\n",
       "      <td>184.5557</td>\n",
       "      <td>651.3239</td>\n",
       "      <td>150.5400</td>\n",
       "      <td>24.000</td>\n",
       "      <td>textboxhorizontal</td>\n",
       "      <td>10</td>\n",
       "      <td>Our approach\\n</td>\n",
       "      <td>140.6761</td>\n",
       "      <td>164.6761</td>\n",
       "      <td>7268.6761</td>\n",
       "    </tr>\n",
       "    <tr>\n",
       "      <th>4</th>\n",
       "      <td>34.0158</td>\n",
       "      <td>560.9733</td>\n",
       "      <td>246.1519</td>\n",
       "      <td>613.9733</td>\n",
       "      <td>212.1361</td>\n",
       "      <td>53.000</td>\n",
       "      <td>textboxhorizontal</td>\n",
       "      <td>10</td>\n",
       "      <td>Climate change is one of the greatest threats ...</td>\n",
       "      <td>178.0267</td>\n",
       "      <td>231.0267</td>\n",
       "      <td>7306.0267</td>\n",
       "    </tr>\n",
       "    <tr>\n",
       "      <th>5</th>\n",
       "      <td>34.0158</td>\n",
       "      <td>366.2863</td>\n",
       "      <td>254.2238</td>\n",
       "      <td>546.7863</td>\n",
       "      <td>220.2080</td>\n",
       "      <td>180.500</td>\n",
       "      <td>textboxhorizontal</td>\n",
       "      <td>10</td>\n",
       "      <td>This means the impact of the changes we make—i...</td>\n",
       "      <td>245.2137</td>\n",
       "      <td>425.7137</td>\n",
       "      <td>7373.2137</td>\n",
       "    </tr>\n",
       "    <tr>\n",
       "      <th>6</th>\n",
       "      <td>34.0158</td>\n",
       "      <td>251.2863</td>\n",
       "      <td>247.8782</td>\n",
       "      <td>351.2863</td>\n",
       "      <td>213.8624</td>\n",
       "      <td>100.000</td>\n",
       "      <td>textboxhorizontal</td>\n",
       "      <td>10</td>\n",
       "      <td>Our goal and approach are informed by science....</td>\n",
       "      <td>440.7137</td>\n",
       "      <td>540.7137</td>\n",
       "      <td>7568.7137</td>\n",
       "    </tr>\n",
       "    <tr>\n",
       "      <th>7</th>\n",
       "      <td>266.5748</td>\n",
       "      <td>595.1428</td>\n",
       "      <td>446.4812</td>\n",
       "      <td>614.6428</td>\n",
       "      <td>179.9064</td>\n",
       "      <td>19.500</td>\n",
       "      <td>textboxhorizontal</td>\n",
       "      <td>10</td>\n",
       "      <td>Our philosophy for achieving carbon neutrality...</td>\n",
       "      <td>177.3572</td>\n",
       "      <td>196.8572</td>\n",
       "      <td>7305.3572</td>\n",
       "    </tr>\n",
       "    <tr>\n",
       "      <th>8</th>\n",
       "      <td>266.5748</td>\n",
       "      <td>571.9908</td>\n",
       "      <td>462.8096</td>\n",
       "      <td>580.1428</td>\n",
       "      <td>196.2348</td>\n",
       "      <td>8.152</td>\n",
       "      <td>textboxhorizontal</td>\n",
       "      <td>10</td>\n",
       "      <td>•  Taking a comprehensive approach: Our respon...</td>\n",
       "      <td>211.8572</td>\n",
       "      <td>220.0092</td>\n",
       "      <td>7339.8572</td>\n",
       "    </tr>\n",
       "    <tr>\n",
       "      <th>9</th>\n",
       "      <td>275.0787</td>\n",
       "      <td>434.1428</td>\n",
       "      <td>485.2323</td>\n",
       "      <td>568.6428</td>\n",
       "      <td>210.1536</td>\n",
       "      <td>134.500</td>\n",
       "      <td>textboxhorizontal</td>\n",
       "      <td>10</td>\n",
       "      <td>extends beyond our direct operations to the en...</td>\n",
       "      <td>223.3572</td>\n",
       "      <td>357.8572</td>\n",
       "      <td>7351.3572</td>\n",
       "    </tr>\n",
       "    <tr>\n",
       "      <th>10</th>\n",
       "      <td>266.5748</td>\n",
       "      <td>416.7407</td>\n",
       "      <td>458.5381</td>\n",
       "      <td>424.8927</td>\n",
       "      <td>191.9633</td>\n",
       "      <td>8.152</td>\n",
       "      <td>textboxhorizontal</td>\n",
       "      <td>10</td>\n",
       "      <td>•  Set ambitious targets: Our plan to reach ne...</td>\n",
       "      <td>367.1073</td>\n",
       "      <td>375.2593</td>\n",
       "      <td>7495.1073</td>\n",
       "    </tr>\n",
       "    <tr>\n",
       "      <th>11</th>\n",
       "      <td>275.0787</td>\n",
       "      <td>301.8927</td>\n",
       "      <td>483.8835</td>\n",
       "      <td>413.3927</td>\n",
       "      <td>208.8048</td>\n",
       "      <td>111.500</td>\n",
       "      <td>textboxhorizontal</td>\n",
       "      <td>10</td>\n",
       "      <td>2030 centers around our strategy to reduce emi...</td>\n",
       "      <td>378.6073</td>\n",
       "      <td>490.1073</td>\n",
       "      <td>7506.6073</td>\n",
       "    </tr>\n",
       "    <tr>\n",
       "      <th>12</th>\n",
       "      <td>266.5748</td>\n",
       "      <td>284.4906</td>\n",
       "      <td>467.2364</td>\n",
       "      <td>292.6426</td>\n",
       "      <td>200.6616</td>\n",
       "      <td>8.152</td>\n",
       "      <td>textboxhorizontal</td>\n",
       "      <td>10</td>\n",
       "      <td>•  Match solutions to sources: For each activi...</td>\n",
       "      <td>499.3574</td>\n",
       "      <td>507.5094</td>\n",
       "      <td>7627.3574</td>\n",
       "    </tr>\n",
       "    <tr>\n",
       "      <th>13</th>\n",
       "      <td>275.0787</td>\n",
       "      <td>215.6426</td>\n",
       "      <td>472.6427</td>\n",
       "      <td>281.1426</td>\n",
       "      <td>197.5640</td>\n",
       "      <td>65.500</td>\n",
       "      <td>textboxhorizontal</td>\n",
       "      <td>10</td>\n",
       "      <td>value chain, we will choose decarbonization ac...</td>\n",
       "      <td>510.8574</td>\n",
       "      <td>576.3574</td>\n",
       "      <td>7638.8574</td>\n",
       "    </tr>\n",
       "  </tbody>\n",
       "</table>\n",
       "</div>"
      ],
      "text/plain": [
       "          x0        y0        x1        y1     width   height  \\\n",
       "0    33.8740  751.1341  297.1618  758.3091  263.2878    7.175   \n",
       "1   468.8491  751.1761  577.9820  758.3091  109.1329    7.133   \n",
       "2   499.1339  484.1413  578.7988  591.3163   79.6649  107.175   \n",
       "3    34.0157  627.3239  184.5557  651.3239  150.5400   24.000   \n",
       "4    34.0158  560.9733  246.1519  613.9733  212.1361   53.000   \n",
       "5    34.0158  366.2863  254.2238  546.7863  220.2080  180.500   \n",
       "6    34.0158  251.2863  247.8782  351.2863  213.8624  100.000   \n",
       "7   266.5748  595.1428  446.4812  614.6428  179.9064   19.500   \n",
       "8   266.5748  571.9908  462.8096  580.1428  196.2348    8.152   \n",
       "9   275.0787  434.1428  485.2323  568.6428  210.1536  134.500   \n",
       "10  266.5748  416.7407  458.5381  424.8927  191.9633    8.152   \n",
       "11  275.0787  301.8927  483.8835  413.3927  208.8048  111.500   \n",
       "12  266.5748  284.4906  467.2364  292.6426  200.6616    8.152   \n",
       "13  275.0787  215.6426  472.6427  281.1426  197.5640   65.500   \n",
       "\n",
       "          object_type  page_number  \\\n",
       "0   textboxhorizontal           10   \n",
       "1   textboxhorizontal           10   \n",
       "2   textboxhorizontal           10   \n",
       "3   textboxhorizontal           10   \n",
       "4   textboxhorizontal           10   \n",
       "5   textboxhorizontal           10   \n",
       "6   textboxhorizontal           10   \n",
       "7   textboxhorizontal           10   \n",
       "8   textboxhorizontal           10   \n",
       "9   textboxhorizontal           10   \n",
       "10  textboxhorizontal           10   \n",
       "11  textboxhorizontal           10   \n",
       "12  textboxhorizontal           10   \n",
       "13  textboxhorizontal           10   \n",
       "\n",
       "                                                 text       top    bottom  \\\n",
       "0   Introduction       Climate Change       Resour...   33.6909   40.8659   \n",
       "1                 Environmental Progress Report  10\\n   33.6909   40.8239   \n",
       "2   Our Green Bond engages \\ninvestors in our work...  200.6837  307.8587   \n",
       "3                                      Our approach\\n  140.6761  164.6761   \n",
       "4   Climate change is one of the greatest threats ...  178.0267  231.0267   \n",
       "5   This means the impact of the changes we make—i...  245.2137  425.7137   \n",
       "6   Our goal and approach are informed by science....  440.7137  540.7137   \n",
       "7   Our philosophy for achieving carbon neutrality...  177.3572  196.8572   \n",
       "8   •  Taking a comprehensive approach: Our respon...  211.8572  220.0092   \n",
       "9   extends beyond our direct operations to the en...  223.3572  357.8572   \n",
       "10  •  Set ambitious targets: Our plan to reach ne...  367.1073  375.2593   \n",
       "11  2030 centers around our strategy to reduce emi...  378.6073  490.1073   \n",
       "12  •  Match solutions to sources: For each activi...  499.3574  507.5094   \n",
       "13  value chain, we will choose decarbonization ac...  510.8574  576.3574   \n",
       "\n",
       "       doctop  \n",
       "0   7161.6909  \n",
       "1   7161.6909  \n",
       "2   7328.6837  \n",
       "3   7268.6761  \n",
       "4   7306.0267  \n",
       "5   7373.2137  \n",
       "6   7568.7137  \n",
       "7   7305.3572  \n",
       "8   7339.8572  \n",
       "9   7351.3572  \n",
       "10  7495.1073  \n",
       "11  7506.6073  \n",
       "12  7627.3574  \n",
       "13  7638.8574  "
      ]
     },
     "execution_count": 13,
     "metadata": {},
     "output_type": "execute_result"
    }
   ],
   "source": [
    "example_df_from_page = pd.DataFrame(value_at_index)\n",
    "example_df_from_page"
   ]
  },
  {
   "cell_type": "markdown",
   "id": "discrete-dutch",
   "metadata": {},
   "source": [
    "## Create a Dataframe from the Subheadlines"
   ]
  },
  {
   "cell_type": "markdown",
   "id": "handy-brave",
   "metadata": {},
   "source": [
    "Iterate over the pages, the paragraphs and the iteration itself, to create a dataframe out of extracted text. \n",
    "\n",
    "__Note:__ These numbers are from manually skimming the PDF to determine which pages and which part of the pages we need. This procedure is not always necessary, as the documents often have the same layout structure, which makes it easier to find the right part of the document. "
   ]
  },
  {
   "cell_type": "code",
   "execution_count": 10,
   "id": "b6c0c473",
   "metadata": {},
   "outputs": [
    {
     "name": "stdout",
     "output_type": "stream",
     "text": [
      "iter: 0, page: 14, paragraph: 7\n",
      "iter: 1, page: 16, paragraph: 7\n",
      "iter: 2, page: 18, paragraph: 3\n",
      "iter: 3, page: 19, paragraph: 3\n",
      "iter: 4, page: 27, paragraph: 3\n",
      "iter: 5, page: 28, paragraph: 3\n",
      "iter: 6, page: 44, paragraph: 3\n",
      "iter: 7, page: 50, paragraph: 3\n",
      "iter: 8, page: 52, paragraph: 4\n"
     ]
    },
    {
     "data": {
      "text/html": [
       "<div>\n",
       "<style scoped>\n",
       "    .dataframe tbody tr th:only-of-type {\n",
       "        vertical-align: middle;\n",
       "    }\n",
       "\n",
       "    .dataframe tbody tr th {\n",
       "        vertical-align: top;\n",
       "    }\n",
       "\n",
       "    .dataframe thead th {\n",
       "        text-align: right;\n",
       "    }\n",
       "</style>\n",
       "<table border=\"1\" class=\"dataframe\">\n",
       "  <thead>\n",
       "    <tr style=\"text-align: right;\">\n",
       "      <th></th>\n",
       "      <th>text</th>\n",
       "    </tr>\n",
       "  </thead>\n",
       "  <tbody>\n",
       "    <tr>\n",
       "      <th>0</th>\n",
       "      <td>We believe that well-designed products have lo...</td>\n",
       "    </tr>\n",
       "    <tr>\n",
       "      <th>1</th>\n",
       "      <td>Our energy efficiency goals extend well beyond...</td>\n",
       "    </tr>\n",
       "    <tr>\n",
       "      <th>2</th>\n",
       "      <td>Last year, one of our manufacturers in Guangzh...</td>\n",
       "    </tr>\n",
       "    <tr>\n",
       "      <th>3</th>\n",
       "      <td>We’re at a pivotal moment in addressing climat...</td>\n",
       "    </tr>\n",
       "    <tr>\n",
       "      <th>4</th>\n",
       "      <td>Our goal to reach carbon neutrality by 2030 re...</td>\n",
       "    </tr>\n",
       "  </tbody>\n",
       "</table>\n",
       "</div>"
      ],
      "text/plain": [
       "                                                text\n",
       "0  We believe that well-designed products have lo...\n",
       "1  Our energy efficiency goals extend well beyond...\n",
       "2  Last year, one of our manufacturers in Guangzh...\n",
       "3  We’re at a pivotal moment in addressing climat...\n",
       "4  Our goal to reach carbon neutrality by 2030 re..."
      ]
     },
     "execution_count": 10,
     "metadata": {},
     "output_type": "execute_result"
    }
   ],
   "source": [
    "pages = [14, 16, 18, 19, 27, 28, 44, 50, 52]\n",
    "paragraphs = [7, 7, 3, 3, 3, 3, 3, 3, 4]\n",
    "\n",
    "# get the number of pages to be iterated over\n",
    "iter_ = np.arange(len(pages)+1)\n",
    "#print(f\"iter object: {iter_}\")\n",
    "rows = []\n",
    "\n",
    "# loop over zip() to create a dataframe while using the extract_text() append the text to the rows list\n",
    "for i, page, paragraph in zip(iter_, pages, paragraphs):\n",
    "    print(f\"iter: {i}, page: {page}, paragraph: {paragraph}\")\n",
    "    rows.append(extract_text(page, paragraph)) \n",
    "\n",
    "df = pd.DataFrame(rows, columns=['text'])\n",
    "df.head()"
   ]
  },
  {
   "cell_type": "markdown",
   "id": "varying-catch",
   "metadata": {},
   "source": [
    "## Save Dataframe"
   ]
  },
  {
   "cell_type": "code",
   "execution_count": 11,
   "id": "narrow-compilation",
   "metadata": {},
   "outputs": [],
   "source": [
    "df.to_csv(PATH + FILE_DF, index=None)"
   ]
  },
  {
   "cell_type": "markdown",
   "id": "informal-desperate",
   "metadata": {
    "id": "suspected-columbia"
   },
   "source": [
    "## Additional Material\n",
    "\n",
    "A good way to visually debug or look at a PDF report, is to use the functions following functions from `pdfplumber`:"
   ]
  },
  {
   "cell_type": "code",
   "execution_count": 12,
   "id": "above-action",
   "metadata": {},
   "outputs": [],
   "source": [
    "page = pdf.pages[9]"
   ]
  },
  {
   "cell_type": "code",
   "execution_count": 13,
   "id": "brilliant-banks",
   "metadata": {},
   "outputs": [
    {
     "data": {
      "image/png": "[encoded data removed]",
      "text/plain": [
       "<pdfplumber.display.PageImage at 0x1083b2910>"
      ]
     },
     "execution_count": 13,
     "metadata": {},
     "output_type": "execute_result"
    }
   ],
   "source": [
    "im = page.to_image()\n",
    "im"
   ]
  },
  {
   "cell_type": "markdown",
   "id": "rising-portable",
   "metadata": {},
   "source": [
    "Can use the image to extract the text:"
   ]
  },
  {
   "cell_type": "code",
   "execution_count": 14,
   "id": "passing-peninsula",
   "metadata": {},
   "outputs": [
    {
     "data": {
      "image/png": "[encoded data removed]",
      "text/plain": [
       "<pdfplumber.display.PageImage at 0x1083b2910>"
      ]
     },
     "execution_count": 14,
     "metadata": {},
     "output_type": "execute_result"
    }
   ],
   "source": [
    "im.reset().draw_rects(page.chars)"
   ]
  },
  {
   "cell_type": "code",
   "execution_count": 15,
   "id": "micro-strike",
   "metadata": {},
   "outputs": [],
   "source": [
    "text = page.extract_text()"
   ]
  },
  {
   "cell_type": "code",
   "execution_count": 16,
   "id": "northern-playing",
   "metadata": {},
   "outputs": [
    {
     "name": "stdout",
     "output_type": "stream",
     "text": [
      "Introduction Climate Change Resources Smarter Chemistry Appendix Environmental Progress Report 10\n",
      "Our approach\n",
      "Climate change is one of the greatest threats Our philosophy for achieving carbon neutrality follows\n",
      "these principles:\n",
      "of our time, putting at risk people’s access to\n",
      "Our Green Bond engages\n",
      "clean air, adequate food, safe drinking water,\n",
      "• Taking a comprehensive approach: Our responsibility investors in our work\n",
      "and sanitation. extends beyond our direct operations to the entire life cycle toward carbon neutrality.\n",
      "In our 2020 Green Bond\n",
      "of our products. We calculate emissions from the production\n",
      "report, we disclose\n",
      "This means the impact of the changes we make—improving of raw materials, product manufacturing, shipping, the energy\n",
      "progress on the projects\n",
      "energy efficiency and transitioning to renewable energy across used to power our facilities and our customers’ devices, as well funded over the last year\n",
      "our supply chain—extends beyond our factories, stores, and as material recycling and recovery. Our commitment to reach that bring us closer to our\n",
      "offices to benefit those who live in the communities where we neutrality for our full product life cycle shapes the actions we 2030 goal.\n",
      "operate. The future success of our company depends on taking pursue. We can effect direct change through product design Read our 2020 Green\n",
      "urgent and decisive action. For years, we have increased energy and using low-carbon inputs. Through supplier engagement, Bond report (PDF).\n",
      "efficiency and the use of renewable energy, yet we know we have we can work with our manufacturing partners to transition\n",
      "to do more. That’s why last year, we unveiled our most ambitious to 100 percent renewable energy. And through the power\n",
      "plan to date: to achieve carbon neutrality for the entire life cycle of policy and industry collaboration, we can unlock climate\n",
      "of our products by 2030. This goal places us 20 years ahead of solutions on a global scale.\n",
      "the recommendations put forward by the Intergovernmental Panel\n",
      "• Set ambitious targets: Our plan to reach neutrality by\n",
      "on Climate Change (the United Nations body for assessing the\n",
      "2030 centers around our strategy to reduce emissions by\n",
      "science related to climate change) calling for carbon neutrality\n",
      "75 percent, relative to our 2015 footprint. This reduction\n",
      "as a planet by 2050. The science is clear: Our world cannot wait\n",
      "aligns with what current climate science shows is necessary\n",
      "for an inclusive, carbon neutral economy. Every business has a\n",
      "to limit warming to 1.5° Celsius. We’ll invest in high-quality\n",
      "responsibility to create a meaningful plan to reduce its emissions.\n",
      "carbon removal projects to address the emissions that\n",
      "remain, prioritizing the protection of ecosystems as a\n",
      "Our goal and approach are informed by science. We focus on\n",
      "powerful, natural carbon solution. These projects will also\n",
      "avoiding activities that generate carbon in the first place. And,\n",
      "align to rigorous international standards to ensure their impact.\n",
      "wherever possible, we’re switching to lower-carbon alternatives.\n",
      "And by avoiding emissions first, we’ll also reduce the carbon\n",
      "In cases where emissions can’t be avoided, we’ll then remove\n",
      "we need to remove.\n",
      "the equivalent amount of carbon from the atmosphere. While\n",
      "we pursue viable solutions, we also align to the same carbon • Match solutions to sources: For each activity within our\n",
      "mitigation hierarchy in our strategy. It isn’t the easiest approach, value chain, we will choose decarbonization actions that tie\n",
      "but it’s the one science shows is necessary to address to the source of those emissions. We’ll address emissions\n",
      "climate change. from electricity with renewable energy and emissions from\n",
      "transportation with alternative fuels. By matching solutions\n",
      "to carbon sources, we will do our part to decarbonize\n",
      "the economy.\n"
     ]
    }
   ],
   "source": [
    "print(text)"
   ]
  },
  {
   "cell_type": "code",
   "execution_count": 17,
   "id": "quick-orange",
   "metadata": {},
   "outputs": [
    {
     "data": {
      "text/plain": [
       "['Introduction Climate Change Resources Smarter Chemistry Appendix Environmental Progress Report 10',\n",
       " 'Our approach',\n",
       " 'Climate change is one of the greatest threats Our philosophy for achieving carbon neutrality follows',\n",
       " 'these principles:',\n",
       " 'of our time, putting at risk people’s access to',\n",
       " 'Our Green Bond engages',\n",
       " 'clean air, adequate food, safe drinking water,',\n",
       " '• Taking a comprehensive approach: Our responsibility investors in our work',\n",
       " 'and sanitation. extends beyond our direct operations to the entire life cycle toward carbon neutrality.',\n",
       " 'In our 2020 Green Bond',\n",
       " 'of our products. We calculate emissions from the production',\n",
       " 'report, we disclose',\n",
       " 'This means the impact of the changes we make—improving of raw materials, product manufacturing, shipping, the energy',\n",
       " 'progress on the projects',\n",
       " 'energy efficiency and transitioning to renewable energy across used to power our facilities and our customers’ devices, as well funded over the last year',\n",
       " 'our supply chain—extends beyond our factories, stores, and as material recycling and recovery. Our commitment to reach that bring us closer to our',\n",
       " 'offices to benefit those who live in the communities where we neutrality for our full product life cycle shapes the actions we 2030 goal.',\n",
       " 'operate. The future success of our company depends on taking pursue. We can effect direct change through product design Read our 2020 Green',\n",
       " 'urgent and decisive action. For years, we have increased energy and using low-carbon inputs. Through supplier engagement, Bond report (PDF).',\n",
       " 'efficiency and the use of renewable energy, yet we know we have we can work with our manufacturing partners to transition',\n",
       " 'to do more. That’s why last year, we unveiled our most ambitious to 100 percent renewable energy. And through the power',\n",
       " 'plan to date: to achieve carbon neutrality for the entire life cycle of policy and industry collaboration, we can unlock climate',\n",
       " 'of our products by 2030. This goal places us 20 years ahead of solutions on a global scale.',\n",
       " 'the recommendations put forward by the Intergovernmental Panel',\n",
       " '• Set ambitious targets: Our plan to reach neutrality by',\n",
       " 'on Climate Change (the United Nations body for assessing the',\n",
       " '2030 centers around our strategy to reduce emissions by',\n",
       " 'science related to climate change) calling for carbon neutrality',\n",
       " '75 percent, relative to our 2015 footprint. This reduction',\n",
       " 'as a planet by 2050. The science is clear: Our world cannot wait',\n",
       " 'aligns with what current climate science shows is necessary',\n",
       " 'for an inclusive, carbon neutral economy. Every business has a',\n",
       " 'to limit warming to 1.5° Celsius. We’ll invest in high-quality',\n",
       " 'responsibility to create a meaningful plan to reduce its emissions.',\n",
       " 'carbon removal projects to address the emissions that',\n",
       " 'remain, prioritizing the protection of ecosystems as a',\n",
       " 'Our goal and approach are informed by science. We focus on',\n",
       " 'powerful, natural carbon solution. These projects will also',\n",
       " 'avoiding activities that generate carbon in the first place. And,',\n",
       " 'align to rigorous international standards to ensure their impact.',\n",
       " 'wherever possible, we’re switching to lower-carbon alternatives.',\n",
       " 'And by avoiding emissions first, we’ll also reduce the carbon',\n",
       " 'In cases where emissions can’t be avoided, we’ll then remove',\n",
       " 'we need to remove.',\n",
       " 'the equivalent amount of carbon from the atmosphere. While',\n",
       " 'we pursue viable solutions, we also align to the same carbon • Match solutions to sources: For each activity within our',\n",
       " 'mitigation hierarchy in our strategy. It isn’t the easiest approach, value chain, we will choose decarbonization actions that tie',\n",
       " 'but it’s the one science shows is necessary to address to the source of those emissions. We’ll address emissions',\n",
       " 'climate change. from electricity with renewable energy and emissions from',\n",
       " 'transportation with alternative fuels. By matching solutions',\n",
       " 'to carbon sources, we will do our part to decarbonize',\n",
       " 'the economy.']"
      ]
     },
     "execution_count": 17,
     "metadata": {},
     "output_type": "execute_result"
    }
   ],
   "source": [
    "text.split('\\n')"
   ]
  },
  {
   "cell_type": "code",
   "execution_count": 18,
   "id": "painted-turkey",
   "metadata": {},
   "outputs": [
    {
     "data": {
      "text/plain": [
       "'clean air, adequate food, safe drinking water,'"
      ]
     },
     "execution_count": 18,
     "metadata": {},
     "output_type": "execute_result"
    }
   ],
   "source": [
    "text.split('\\n')[6]"
   ]
  }
 ],
 "metadata": {
  "kernelspec": {
   "display_name": "Python 3",
   "language": "python",
   "name": "python3"
  },
  "language_info": {
   "codemirror_mode": {
    "name": "ipython",
    "version": 3
   },
   "file_extension": ".py",
   "mimetype": "text/x-python",
   "name": "python",
   "nbconvert_exporter": "python",
   "pygments_lexer": "ipython3",
   "version": "3.11.5"
  },
  "toc": {
   "base_numbering": 1,
   "nav_menu": {},
   "number_sections": false,
   "sideBar": true,
   "skip_h1_title": false,
   "title_cell": "Table of Contents",
   "title_sidebar": "Contents",
   "toc_cell": false,
   "toc_position": {
    "height": "calc(100% - 180px)",
    "left": "10px",
    "top": "150px",
    "width": "333.594px"
   },
   "toc_section_display": true,
   "toc_window_display": true
  },
  "varInspector": {
   "cols": {
    "lenName": 16,
    "lenType": 16,
    "lenVar": 40
   },
   "kernels_config": {
    "python": {
     "delete_cmd_postfix": "",
     "delete_cmd_prefix": "del ",
     "library": "var_list.py",
     "varRefreshCmd": "print(var_dic_list())"
    },
    "r": {
     "delete_cmd_postfix": ") ",
     "delete_cmd_prefix": "rm(",
     "library": "var_list.r",
     "varRefreshCmd": "cat(var_dic_list()) "
    }
   },
   "types_to_exclude": [
    "module",
    "function",
    "builtin_function_or_method",
    "instance",
    "_Feature"
   ],
   "window_display": false
  }
 },
 "nbformat": 4,
 "nbformat_minor": 5
}
