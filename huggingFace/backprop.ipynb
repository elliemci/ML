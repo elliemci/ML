{
 "cells": [
  {
   "cell_type": "code",
   "execution_count": 1,
   "metadata": {},
   "outputs": [],
   "source": [
    "import torch"
   ]
  },
  {
   "cell_type": "code",
   "execution_count": 2,
   "metadata": {},
   "outputs": [],
   "source": [
    "torch_scalar = torch.tensor(3.14) \n",
    "\n",
    "torch_vector = torch.tensor([1, 2, 3, 4]) \n",
    "\n",
    "torch_matrix = torch.tensor([[1, 2,], \n",
    "                             [3, 4,], \n",
    "                             [5, 6,], \n",
    "                             [7, 8,]])\n",
    "\n",
    "torch_tensor3d = torch.tensor([ \n",
    "                             [ \n",
    "                             [ 1, 2, 3], \n",
    "                             [ 4, 5, 6], \n",
    "                             ], \n",
    "                             [ \n",
    "                             [ 7, 8, 9], \n",
    "                             [10, 11, 12], \n",
    "                             ], \n",
    "                             [ \n",
    "                             [13, 14, 15], \n",
    "                             [16, 17, 18], \n",
    "                             ], \n",
    "                             [\n",
    "                             [19, 20, 21],\n",
    "                             [22, 23, 24],\n",
    "                             ] \n",
    "                               ])"
   ]
  },
  {
   "cell_type": "code",
   "execution_count": 3,
   "metadata": {},
   "outputs": [
    {
     "name": "stdout",
     "output_type": "stream",
     "text": [
      "torch.Size([4, 2, 3])\n"
     ]
    }
   ],
   "source": [
    "print(torch_tensor3d.shape)"
   ]
  }
 ],
 "metadata": {
  "kernelspec": {
   "display_name": "copilot_env",
   "language": "python",
   "name": "python3"
  },
  "language_info": {
   "codemirror_mode": {
    "name": "ipython",
    "version": 3
   },
   "file_extension": ".py",
   "mimetype": "text/x-python",
   "name": "python",
   "nbconvert_exporter": "python",
   "pygments_lexer": "ipython3",
   "version": "3.11.5"
  }
 },
 "nbformat": 4,
 "nbformat_minor": 2
}
