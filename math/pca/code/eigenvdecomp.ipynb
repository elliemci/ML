{
 "cells": [
  {
   "cell_type": "markdown",
   "id": "documentary-witness",
   "metadata": {
    "id": "complete-advocate"
   },
   "source": [
    "# PCA  and Logistic Regression"
   ]
  },
  {
   "cell_type": "markdown",
   "id": "substantial-overhead",
   "metadata": {
    "id": "retained-passion"
   },
   "source": [
    "- Implementation of the covariance matrix and eigendecomposition in a custom PCA class\n",
    "- Prepare MNIST data for training: train/test-split and normalization of the dataset\n",
    "- Implement logistic regression with [sklearn](https://scikit-learn.org/stable/modules/generated/sklearn.linear_model.LogisticRegression.html?highlight=logistic%20regression#sklearn.linear_model.LogisticRegression) and validate its accuracy"
   ]
  },
  {
   "cell_type": "markdown",
   "id": "acknowledged-holiday",
   "metadata": {
    "id": "after-ambassador"
   },
   "source": [
    "# Imports"
   ]
  },
  {
   "cell_type": "code",
   "execution_count": 9,
   "id": "union-atmosphere",
   "metadata": {
    "id": "induced-volleyball"
   },
   "outputs": [],
   "source": [
    "# standard imports\n",
    "import numpy as np\n",
    "import pandas as pd\n",
    "import math\n",
    "\n",
    "# sklearn\n",
    "import sklearn\n",
    "from sklearn.decomposition import PCA\n",
    "from sklearn.datasets import fetch_openml\n",
    "from sklearn.model_selection import train_test_split\n",
    "from sklearn.linear_model import LogisticRegression\n",
    "from sklearn.metrics import accuracy_score\n",
    "\n",
    "# other useful imports\n",
    "from importlib import reload\n",
    "from time import time\n",
    "\n",
    "# imports for plotting\n",
    "import matplotlib.pyplot as plt\n",
    "\n",
    "#ignore warnings\n",
    "import warnings\n",
    "warnings.filterwarnings(action='ignore')\n",
    "\n",
    "# custom import\n",
    "import CustomPCA as CustomPCA\n",
    "import plotting as pl"
   ]
  },
  {
   "cell_type": "markdown",
   "id": "superb-morrison",
   "metadata": {
    "id": "careful-saturn"
   },
   "source": [
    "# Covariance Matrix"
   ]
  },
  {
   "cell_type": "markdown",
   "id": "offshore-ukraine",
   "metadata": {
    "id": "dated-backing"
   },
   "source": [
    "The covariance matrix is made up of the variances of the variables along the main diagonal and the covariances between each pair of variables in the remaining matrix places. The mean vector is made up of the means of each variable.\n",
    "<br>\n",
    "$$\n",
    "\\Sigma = \\begin{bmatrix}\n",
    "Var(x_1) & Cov(x_1, x_2) & \\cdots & Cov(x_1, x_n) \\\\\n",
    "Cov(x_2, x_1) & Var(x_2) & \\cdots & Cov(x_2, x_n) \\\\\n",
    "\\vdots & \\vdots & \\ddots & \\vdots \\\\\n",
    "Cov(x_n, x_1) & Cov(x_n, x_2) & \\cdots & Var(x_n)\n",
    "\\end{bmatrix}\n",
    "$$\n",
    "\n",
    "where the sample varaince is given by\n",
    "$$\n",
    "\\\n",
    "Var(x) = \\frac{1}{n-1} \\sum_{i=1}^{n} (x_i - \\bar{x})^2\n",
    "\\\n",
    "$$ \n",
    "and the data covariance, measuring how much two variables vary together, is: \n",
    "\n",
    "$$\n",
    "\\mathrm{Cov(x,y)}=\\frac{\\sum_{i=1}^{n}\\left(x_{i}-\\bar{x}\\right)\\left(y_{i}-\\bar{y}\\right)}{n-1}\n",
    "$$\n",
    "where x_i and y_i are the  ith observations from  the samples of x and  y,  $\\tilde{x}$ and $\\tilde{y}$ are standing for the means of $X$ and $Y$, respectively. \\bar{x} and \\bar{y} are the sample means of X and Y, and n is the sample size.\n",
    "\n",
    "Covariance matrix is always a **square**, **symmetrtic**, **positive semi-definite**\n"
   ]
  },
  {
   "cell_type": "code",
   "execution_count": 11,
   "id": "reflected-estimate",
   "metadata": {
    "id": "rising-roberts",
    "outputId": "07c87ce8-8591-4741-d78b-f44810b046ed"
   },
   "outputs": [
    {
     "data": {
      "text/plain": [
       "array([[3.9 , 2.  , 0.5 ],\n",
       "       [4.  , 2.08, 0.52],\n",
       "       [4.1 , 2.15, 0.55],\n",
       "       [4.2 , 2.22, 0.57],\n",
       "       [4.3 , 2.3 , 0.6 ]])"
      ]
     },
     "execution_count": 11,
     "metadata": {},
     "output_type": "execute_result"
    }
   ],
   "source": [
    "np.random.seed(42)\n",
    "matrix = np.matrix([np.linspace(3.9, 4.3, num=5), np.linspace(2.0, 2.3, num=5),np.linspace(0.5, 0.6, num=5)]).round(2).T\n",
    "matrix"
   ]
  },
  {
   "cell_type": "code",
   "execution_count": 12,
   "id": "third-eugene",
   "metadata": {
    "id": "coordinated-prague",
    "outputId": "df3baba4-d6de-4086-f5c2-81de21db6f4d"
   },
   "outputs": [
    {
     "name": "stdout",
     "output_type": "stream",
     "text": [
      "Mean Vector: \n",
      " [4.1   2.15  0.548]\n",
      "\n",
      " Covariance Matrix: \n",
      " [[0.025   0.0185  0.00625]\n",
      " [0.0185  0.0137  0.00462]\n",
      " [0.00625 0.00462 0.00157]]\n"
     ]
    }
   ],
   "source": [
    "cov_matrix = np.cov(matrix, rowvar=False)\n",
    "mean_vec = np.mean(matrix, axis=0)\n",
    "print('Mean Vector: \\n', mean_vec)\n",
    "print('\\n Covariance Matrix: \\n', cov_matrix.round(5))"
   ]
  },
  {
   "cell_type": "markdown",
   "id": "collect-machine",
   "metadata": {
    "id": "little-lotus"
   },
   "source": [
    "# Computing Eigenvalues and Eigenvectors"
   ]
  },
  {
   "cell_type": "markdown",
   "id": "tough-parcel",
   "metadata": {
    "id": "excessive-configuration"
   },
   "source": [
    "There exist different methods to compute the <b>eigenvalues</b> and <b>eigenvectors</b>. One could use the [QR Decomposition](https://en.wikipedia.org/wiki/QR_decomposition) and to achieve this, we would then rely on methods such as the [Householder reflection](https://en.wikipedia.org/wiki/Householder_transformation). In short, a Householder reflection is a linear transformation $P:R^{n}$ → $R^{n} $ that reflects a vector $x$ about a hyperplane. Furthermore, the Householder reflection is known to be more numerically stable then its alternative, the [Gramm-Schmidt method](https://en.wikipedia.org/wiki/Gram%E2%80%93Schmidt_process#:~:text=In%20mathematics%2C%20particularly%20linear%20algebra,with%20the%20standard%20inner%20product.), which suffers from subtractive cancellation. With the Householder reflection we get a upper triangular matrices, which is quite nice.\n",
    "\n",
    "Or we could use [sigular value decomposition](https://en.wikipedia.org/wiki/Singular_value_decomposition) (SVD), which is, by the way, the way `sklearn` computes the values needed for its `PCA` implementation. SVD will give us diagonal matrices, which are better than triangular ones. Furthrmore, the beauty of SVD is that it is always numerically stable for any matrix. However, SVD is more computationally intensive than other decomposition methods.  \n"
   ]
  },
  {
   "cell_type": "markdown",
   "id": "concerned-suicide",
   "metadata": {
    "id": "bridal-moment"
   },
   "source": [
    "## PCA  with custom class"
   ]
  },
  {
   "cell_type": "markdown",
   "id": "individual-cooper",
   "metadata": {
    "id": "searching-string"
   },
   "source": [
    "The custom class `CustomPCA` implements the covariance matrix  with numpy.cov and finding eigenvalues and eigeigenvector,  with numpy.linalg of the data. "
   ]
  },
  {
   "cell_type": "markdown",
   "id": "dirty-damages",
   "metadata": {
    "id": "excellent-gilbert"
   },
   "source": [
    "## Testing Data"
   ]
  },
  {
   "cell_type": "code",
   "execution_count": 14,
   "id": "smooth-perth",
   "metadata": {
    "id": "smooth-olive"
   },
   "outputs": [],
   "source": [
    "# create testing data, example taken from sklearn.decomposition.PCA\n",
    "X = np.array([[-1, -1], [-2, -1], [-3, -2], [1, 1], [2, 1], [3, 2]])"
   ]
  },
  {
   "cell_type": "markdown",
   "id": "joint-trailer",
   "metadata": {
    "id": "cooperative-reminder"
   },
   "source": [
    "## Run Custom PCA"
   ]
  },
  {
   "cell_type": "code",
   "execution_count": 15,
   "id": "thousand-boring",
   "metadata": {
    "id": "foreign-latitude"
   },
   "outputs": [
    {
     "name": "stdout",
     "output_type": "stream",
     "text": [
      "PCA(n_components=2)\n"
     ]
    }
   ],
   "source": [
    "# create an instance of our custom PCA\n",
    "pca_custom = CustomPCA.CustomPCA(n_components=2)\n",
    "eigenvalues, eigenvectors = pca_custom.fit(X)"
   ]
  },
  {
   "cell_type": "code",
   "execution_count": 19,
   "id": "defensive-mumbai",
   "metadata": {
    "id": "basic-browser"
   },
   "outputs": [
    {
     "name": "stdout",
     "output_type": "stream",
     "text": [
      "eignevalues: [7.93954312 0.06045688]\n",
      "eigenvectors: [[ 0.83849224 -0.54491354]\n",
      " [ 0.54491354  0.83849224]]\n"
     ]
    }
   ],
   "source": [
    "print(f\"CustomPCA computed  eignevalues: {eigenvalues}\")\n",
    "print(f\"CustomPCA computed eigenvectors: {eigenvectors}\")"
   ]
  },
  {
   "cell_type": "markdown",
   "id": "returning-premises",
   "metadata": {
    "id": "comfortable-train"
   },
   "source": [
    "## Run scikit-learn PCA"
   ]
  },
  {
   "cell_type": "markdown",
   "id": "178d2fa8",
   "metadata": {},
   "source": [
    "Sckit-learns PCA computation consist in the following steps computinng:\n",
    "- zero mean features matrix $X$\n",
    "- Covariance matrix $X^T X$ = $D \\Lambda D^T$, where  $D$ is the  matrix of  eigenvectors  and  $\\Lambda$ is a  diagonal  matrix  of eigenvalues\n",
    "- Egenvalue decomposition of the covariance matrix\n",
    "- k largest eigencalues\n",
    "- Pirncipal components are the eigenvectors coresponding to thek largest eigenvalues"
   ]
  },
  {
   "cell_type": "code",
   "execution_count": 20,
   "id": "abstract-caribbean",
   "metadata": {
    "id": "reflected-outdoors"
   },
   "outputs": [
    {
     "data": {
      "text/html": [
       "<style>#sk-container-id-1 {color: black;}#sk-container-id-1 pre{padding: 0;}#sk-container-id-1 div.sk-toggleable {background-color: white;}#sk-container-id-1 label.sk-toggleable__label {cursor: pointer;display: block;width: 100%;margin-bottom: 0;padding: 0.3em;box-sizing: border-box;text-align: center;}#sk-container-id-1 label.sk-toggleable__label-arrow:before {content: \"▸\";float: left;margin-right: 0.25em;color: #696969;}#sk-container-id-1 label.sk-toggleable__label-arrow:hover:before {color: black;}#sk-container-id-1 div.sk-estimator:hover label.sk-toggleable__label-arrow:before {color: black;}#sk-container-id-1 div.sk-toggleable__content {max-height: 0;max-width: 0;overflow: hidden;text-align: left;background-color: #f0f8ff;}#sk-container-id-1 div.sk-toggleable__content pre {margin: 0.2em;color: black;border-radius: 0.25em;background-color: #f0f8ff;}#sk-container-id-1 input.sk-toggleable__control:checked~div.sk-toggleable__content {max-height: 200px;max-width: 100%;overflow: auto;}#sk-container-id-1 input.sk-toggleable__control:checked~label.sk-toggleable__label-arrow:before {content: \"▾\";}#sk-container-id-1 div.sk-estimator input.sk-toggleable__control:checked~label.sk-toggleable__label {background-color: #d4ebff;}#sk-container-id-1 div.sk-label input.sk-toggleable__control:checked~label.sk-toggleable__label {background-color: #d4ebff;}#sk-container-id-1 input.sk-hidden--visually {border: 0;clip: rect(1px 1px 1px 1px);clip: rect(1px, 1px, 1px, 1px);height: 1px;margin: -1px;overflow: hidden;padding: 0;position: absolute;width: 1px;}#sk-container-id-1 div.sk-estimator {font-family: monospace;background-color: #f0f8ff;border: 1px dotted black;border-radius: 0.25em;box-sizing: border-box;margin-bottom: 0.5em;}#sk-container-id-1 div.sk-estimator:hover {background-color: #d4ebff;}#sk-container-id-1 div.sk-parallel-item::after {content: \"\";width: 100%;border-bottom: 1px solid gray;flex-grow: 1;}#sk-container-id-1 div.sk-label:hover label.sk-toggleable__label {background-color: #d4ebff;}#sk-container-id-1 div.sk-serial::before {content: \"\";position: absolute;border-left: 1px solid gray;box-sizing: border-box;top: 0;bottom: 0;left: 50%;z-index: 0;}#sk-container-id-1 div.sk-serial {display: flex;flex-direction: column;align-items: center;background-color: white;padding-right: 0.2em;padding-left: 0.2em;position: relative;}#sk-container-id-1 div.sk-item {position: relative;z-index: 1;}#sk-container-id-1 div.sk-parallel {display: flex;align-items: stretch;justify-content: center;background-color: white;position: relative;}#sk-container-id-1 div.sk-item::before, #sk-container-id-1 div.sk-parallel-item::before {content: \"\";position: absolute;border-left: 1px solid gray;box-sizing: border-box;top: 0;bottom: 0;left: 50%;z-index: -1;}#sk-container-id-1 div.sk-parallel-item {display: flex;flex-direction: column;z-index: 1;position: relative;background-color: white;}#sk-container-id-1 div.sk-parallel-item:first-child::after {align-self: flex-end;width: 50%;}#sk-container-id-1 div.sk-parallel-item:last-child::after {align-self: flex-start;width: 50%;}#sk-container-id-1 div.sk-parallel-item:only-child::after {width: 0;}#sk-container-id-1 div.sk-dashed-wrapped {border: 1px dashed gray;margin: 0 0.4em 0.5em 0.4em;box-sizing: border-box;padding-bottom: 0.4em;background-color: white;}#sk-container-id-1 div.sk-label label {font-family: monospace;font-weight: bold;display: inline-block;line-height: 1.2em;}#sk-container-id-1 div.sk-label-container {text-align: center;}#sk-container-id-1 div.sk-container {/* jupyter's `normalize.less` sets `[hidden] { display: none; }` but bootstrap.min.css set `[hidden] { display: none !important; }` so we also need the `!important` here to be able to override the default hidden behavior on the sphinx rendered scikit-learn.org. See: https://github.com/scikit-learn/scikit-learn/issues/21755 */display: inline-block !important;position: relative;}#sk-container-id-1 div.sk-text-repr-fallback {display: none;}</style><div id=\"sk-container-id-1\" class=\"sk-top-container\"><div class=\"sk-text-repr-fallback\"><pre>PCA(n_components=2)</pre><b>In a Jupyter environment, please rerun this cell to show the HTML representation or trust the notebook. <br />On GitHub, the HTML representation is unable to render, please try loading this page with nbviewer.org.</b></div><div class=\"sk-container\" hidden><div class=\"sk-item\"><div class=\"sk-estimator sk-toggleable\"><input class=\"sk-toggleable__control sk-hidden--visually\" id=\"sk-estimator-id-1\" type=\"checkbox\" checked><label for=\"sk-estimator-id-1\" class=\"sk-toggleable__label sk-toggleable__label-arrow\">PCA</label><div class=\"sk-toggleable__content\"><pre>PCA(n_components=2)</pre></div></div></div></div></div>"
      ],
      "text/plain": [
       "PCA(n_components=2)"
      ]
     },
     "execution_count": 20,
     "metadata": {},
     "output_type": "execute_result"
    }
   ],
   "source": [
    "pca_sklearn = PCA(n_components=2)\n",
    "pca_sklearn.fit(X)"
   ]
  },
  {
   "cell_type": "markdown",
   "id": "color-bottle",
   "metadata": {
    "id": "micro-banner"
   },
   "source": [
    "## Compare results"
   ]
  },
  {
   "cell_type": "code",
   "execution_count": 21,
   "id": "seven-african",
   "metadata": {
    "id": "tribal-michigan"
   },
   "outputs": [],
   "source": [
    "# get the variance explained by both algorithms\n",
    "explained_var_custom = pca_custom.variance_explained\n",
    "explained_var_sklearn = pca_sklearn.explained_variance_ratio_"
   ]
  },
  {
   "cell_type": "code",
   "execution_count": 22,
   "id": "cloudy-zambia",
   "metadata": {
    "id": "mobile-gregory"
   },
   "outputs": [],
   "source": [
    "# check if the values are equal\n",
    "assert(np.allclose(explained_var_custom,explained_var_sklearn))"
   ]
  },
  {
   "cell_type": "code",
   "execution_count": 23,
   "id": "obvious-virus",
   "metadata": {
    "id": "unable-circulation"
   },
   "outputs": [
    {
     "name": "stdout",
     "output_type": "stream",
     "text": [
      "Custom variance explained: \t [0.99244289 0.00755711]\n",
      "sklearn variance explained: \t [0.99244289 0.00755711]\n"
     ]
    }
   ],
   "source": [
    "# print the results\n",
    "print('Custom variance explained: \\t', explained_var_custom)\n",
    "print('sklearn variance explained: \\t',explained_var_sklearn)"
   ]
  },
  {
   "cell_type": "markdown",
   "id": "greek-illness",
   "metadata": {
    "id": "medical-quest"
   },
   "source": [
    "----"
   ]
  },
  {
   "cell_type": "markdown",
   "id": "challenging-opportunity",
   "metadata": {
    "id": "regular-montreal"
   },
   "source": [
    "# MNIST Dataset and Logistic Regression"
   ]
  },
  {
   "cell_type": "markdown",
   "id": "about-stephen",
   "metadata": {
    "id": "aboriginal-november"
   },
   "source": [
    "## Loading the Dataset"
   ]
  },
  {
   "cell_type": "markdown",
   "id": "consecutive-tractor",
   "metadata": {
    "id": "appreciated-marketplace"
   },
   "source": [
    "Download the dataset, via [sklearn](https://scikit-learn.org/stable/modules/generated/sklearn.datasets.fetch_openml.html?highlight=mnist)."
   ]
  },
  {
   "cell_type": "code",
   "execution_count": 24,
   "id": "increased-hacker",
   "metadata": {
    "id": "stretch-chuck"
   },
   "outputs": [],
   "source": [
    "# important: as_frame needs to be set as False otherwise we would get a data frame\n",
    "# and would have to convert the dataset to numpy arrays later on\n",
    "mnist = fetch_openml('mnist_784', data_home='data/', as_frame=False)"
   ]
  },
  {
   "cell_type": "markdown",
   "id": "ethical-cameroon",
   "metadata": {
    "id": "forbidden-mandate"
   },
   "source": [
    "## Exploratory Data Analysis"
   ]
  },
  {
   "cell_type": "markdown",
   "id": "plain-halloween",
   "metadata": {
    "id": "representative-hammer"
   },
   "source": [
    "### Check the Shapes "
   ]
  },
  {
   "cell_type": "code",
   "execution_count": 30,
   "id": "upper-defeat",
   "metadata": {
    "id": "rising-commander"
   },
   "outputs": [
    {
     "name": "stdout",
     "output_type": "stream",
     "text": [
      "Images shape:  (70000, 784)\n",
      "Images range:  0.0  -  255.0 pixel\n",
      "Labels shape:  (70000,)\n"
     ]
    }
   ],
   "source": [
    "# the dataset is split into the images and the labels, values between 0 and 255 for images\n",
    "print('Images shape: ', mnist.data.shape)\n",
    "print('Images range: ', mnist.data.min(), ' - ', mnist.data.max(), 'pixel')\n",
    "print('Labels shape: ', mnist.target.shape)"
   ]
  },
  {
   "cell_type": "code",
   "execution_count": 39,
   "id": "e9b5ef97",
   "metadata": {},
   "outputs": [
    {
     "data": {
      "image/png": "[encoded data removed]",
      "text/plain": [
       "<Figure size 2000x1000 with 6 Axes>"
      ]
     },
     "metadata": {},
     "output_type": "display_data"
    }
   ],
   "source": [
    "import matplotlib.pyplot as plt\n",
    "\n",
    "# reshape in 2D \n",
    "images = mnist.data.reshape(-1, 28, 28)\n",
    "# plot the first 6 images with matplotlib\n",
    "plt.figure(figsize=(20,10))\n",
    "for i in range(6):\n",
    "    plt.subplot(1, 6, i + 1)\n",
    "    plt.imshow(images[i], cmap='gray')\n",
    "    plt.title(mnist.target[i])\n",
    "    plt.axis('off')\n",
    "plt.show()\n"
   ]
  },
  {
   "cell_type": "code",
   "execution_count": 37,
   "id": "8e963a4e",
   "metadata": {},
   "outputs": [
    {
     "data": {
      "image/png": "[encoded data removed]",
      "text/plain": [
       "<Figure size 2000x500 with 4 Axes>"
      ]
     },
     "metadata": {},
     "output_type": "display_data"
    }
   ],
   "source": [
    "# plot with custom function\n",
    "pl.show_images(images, mnist.target)"
   ]
  },
  {
   "cell_type": "markdown",
   "id": "opening-handling",
   "metadata": {
    "id": "indoor-charles"
   },
   "source": [
    "<b>Note: The shape of the images is `(70000, 784)` this is because the data is in $2D$. If we want to plot the images, we need to reshape them into  $3D$, which then is: `(70000, 28, 28)`.</b>"
   ]
  },
  {
   "cell_type": "markdown",
   "id": "natural-desperate",
   "metadata": {
    "id": "valid-assistant"
   },
   "source": [
    "## Prepare Data for Training"
   ]
  },
  {
   "cell_type": "markdown",
   "id": "extensive-times",
   "metadata": {
    "id": "balanced-calculation"
   },
   "source": [
    "### Split into Training and Test Set"
   ]
  },
  {
   "cell_type": "code",
   "execution_count": 33,
   "id": "intended-furniture",
   "metadata": {
    "id": "coastal-stationery"
   },
   "outputs": [],
   "source": [
    "# split the data into a testing set\n",
    "x_train, x_test, y_train, y_test = train_test_split(mnist.data, mnist.target, test_size=0.2, random_state=42)"
   ]
  },
  {
   "cell_type": "code",
   "execution_count": 34,
   "id": "narrative-center",
   "metadata": {
    "id": "boxed-conspiracy"
   },
   "outputs": [
    {
     "name": "stdout",
     "output_type": "stream",
     "text": [
      "x_train: (56000, 784)\n",
      "y_train: (56000,)\n",
      "x_test:  (14000, 784)\n",
      "y_test:  (14000,)\n"
     ]
    }
   ],
   "source": [
    "# check the split\n",
    "assert((mnist.data.shape[0]*0.8) == (x_train.shape[0]))\n",
    "assert((mnist.data.shape[0]*0.2) == (x_test.shape[0]))\n",
    "\n",
    "# check the split\n",
    "print('x_train: ' + str(x_train.shape))\n",
    "print('y_train: ' + str(y_train.shape))\n",
    "print('x_test:  '  + str(x_test.shape))\n",
    "print('y_test:  '  + str(y_test.shape))"
   ]
  },
  {
   "cell_type": "markdown",
   "id": "primary-harris",
   "metadata": {
    "id": "literary-consultancy"
   },
   "source": [
    "### Plot Images and Labels"
   ]
  },
  {
   "cell_type": "code",
   "execution_count": 35,
   "id": "defensive-crown",
   "metadata": {
    "id": "altered-welcome"
   },
   "outputs": [
    {
     "data": {
      "image/png": "[encoded data removed]",
      "text/plain": [
       "<Figure size 2000x500 with 4 Axes>"
      ]
     },
     "metadata": {},
     "output_type": "display_data"
    }
   ],
   "source": [
    "pl.show_images(x_train, y_train)"
   ]
  },
  {
   "cell_type": "code",
   "execution_count": 38,
   "id": "korean-original",
   "metadata": {
    "id": "angry-concern",
    "scrolled": true
   },
   "outputs": [
    {
     "name": "stdout",
     "output_type": "stream",
     "text": [
      "[  0.   0.   0.   0.   0.   0.   0.   0.   0.   0.   0.   0.   0.   0.\n",
      "   0.   0.   0.   0.   0.   0.   0.   0.   0.   0.   0.   0.   0.   0.\n",
      "   0.   0.   0.   0.   0.   0.   0.   0.   0.   0.   0.   0.   0.   0.\n",
      "   0.   0.   0.   0.   0.   0.   0.   0.   0.   0.   0.   0.   0.   0.\n",
      "   0.   0.   0.   0.   0.   0.   0.   0.   0.   0.   0.   0.   0.   0.\n",
      "   0.   0.   0.   0.   0.   0.   0.   0.   0.   0.   0.   0.   0.   0.\n",
      "   0.   0.   0.   0.   0.   0.   0.   0.   0.   0.   0.   0.   0.   0.\n",
      "   0.   0.   0.   0.   0.   0.  26. 255.  90.   0.   0.   0.   0.   0.\n",
      "   0.   0.   0.   0.   0.   0.   0.   0.   0.   0.   0.   0.   0.   0.\n",
      "  26.  26.   0.  13.  64. 138. 180. 199.  11.   0.   0.   0.   0.   0.\n",
      "   0.   0.   0.   0.   0.   0.   0.   0.   0.   0.   0.   0.   0.  41.\n",
      " 224. 232. 207. 221. 253. 242. 162.  17.   0.   0.   0.   0.   0.   0.\n",
      "   0.   0.   0.   0.   0.   0.   0.   0.   0.   0.   0.   0.   0. 195.\n",
      " 253. 210. 160. 161. 111.  38.   0.   0.   0.   0.   0.   0.   0.   0.\n",
      "   0.   0.   0.   0.   0.   0.   0.   0.   0.   0.   0.   0. 151. 236.\n",
      "  50.   0.   0.   0.   0.   0.   0.   0.   0.   0.   0.   0.   0.   0.\n",
      "   0.   0.   0.   0.   0.   0.   0.   0.   0.   0.   0.  38. 247. 134.\n",
      "   0.   0.   0.   0.   0.   0.   0.   0.   0.   0.   0.   0.   0.   0.\n",
      "   0.   0.   0.   0.   0.   0.   0.   0.   0.   0.   0. 191. 244.  17.\n",
      "   0.   0.   0.   0.   0.   0.   0.   0.   0.   0.   0.   0.   0.   0.\n",
      "   0.   0.   0.   0.   0.   0.   0.   0.   0.   0.  17. 224.  94.   0.\n",
      "   0.   0.   0.   0.   0.   0.   0.   0.   0.   0.   0.   0.   0.   0.\n",
      "   0.   0.   0.   0.   0.   0.   0.   0.   0.   0.  72. 247.  50.   0.\n",
      "  38.  70.  45.   0.   0.   0.   0.   0.   0.   0.   0.   0.   0.   0.\n",
      "   0.   0.   0.   0.   0.   0.   0.   0.   0.   0. 222. 234. 114. 198.\n",
      " 243. 253. 245. 206.  46.   0.   0.   0.   0.   0.   0.   0.   0.   0.\n",
      "   0.   0.   0.   0.   0.   0.   0.   0.   0.   0. 230. 253. 253. 247.\n",
      " 179. 137. 213. 254. 211.   5.   0.   0.   0.   0.   0.   0.   0.   0.\n",
      "   0.   0.   0.   0.   0.   0.   0.   0.   0.   0. 146. 160. 160.  50.\n",
      "   0.   0.  25. 152. 253.  79.   0.   0.   0.   0.   0.   0.   0.   0.\n",
      "   0.   0.   0.   0.   0.   0.   0.   0.   0.   0.   0.   0.   0.   0.\n",
      "   0.   0.   0.  51. 248. 230.   0.   0.   0.   0.   0.   0.   0.   0.\n",
      "   0.   0.   0.   0.   0.   0.   0.   5.  30.   0.   0.   0.   0.   0.\n",
      "   0.   0.   0.   0. 146. 234.  13.   0.   0.   0.   0.   0.   0.   0.\n",
      "   0.   0.   0.   0.   0.   0.   0.  99.  85.   0.   0.   0.   0.   0.\n",
      "   0.   0.   0.   0. 138. 253.  69.   0.   0.   0.   0.   0.   0.   0.\n",
      "   0.   0.   0.   0.   0.   0.   0. 182.  69.   0.   0.   0.   0.   0.\n",
      "   0.   0.   0.   0. 138. 253.  69.   0.   0.   0.   0.   0.   0.   0.\n",
      "   0.   0.   0.   0.   0.   0.   0. 208. 152.   0.   0.   0.   0.   0.\n",
      "   0.   0.   0.  45. 212. 247.  50.   0.   0.   0.   0.   0.   0.   0.\n",
      "   0.   0.   0.   0.   0.   0.   0. 191. 253.  81.   5.   0.   0.   0.\n",
      "   9.  47. 114. 237. 244. 154.   0.   0.   0.   0.   0.   0.   0.   0.\n",
      "   0.   0.   0.   0.   0.   0.   0.  72. 230. 254. 211. 207. 207. 208.\n",
      " 216. 253. 253. 205.  79.   0.   0.   0.   0.   0.   0.   0.   0.   0.\n",
      "   0.   0.   0.   0.   0.   0.   0.   0.   0.  94. 177. 253. 253. 254.\n",
      " 202. 119.  69.   0.   0.   0.   0.   0.   0.   0.   0.   0.   0.   0.\n",
      "   0.   0.   0.   0.   0.   0.   0.   0.   0.   0.   0.   0.   0.   0.\n",
      "   0.   0.   0.   0.   0.   0.   0.   0.   0.   0.   0.   0.   0.   0.\n",
      "   0.   0.   0.   0.   0.   0.   0.   0.   0.   0.   0.   0.   0.   0.\n",
      "   0.   0.   0.   0.   0.   0.   0.   0.   0.   0.   0.   0.   0.   0.\n",
      "   0.   0.   0.   0.   0.   0.   0.   0.   0.   0.   0.   0.   0.   0.\n",
      "   0.   0.   0.   0.   0.   0.   0.   0.   0.   0.   0.   0.   0.   0.\n",
      "   0.   0.   0.   0.   0.   0.   0.   0.   0.   0.   0.   0.   0.   0.\n",
      "   0.   0.   0.   0.   0.   0.   0.   0.   0.   0.   0.   0.   0.   0.\n",
      "   0.   0.   0.   0.   0.   0.   0.   0.   0.   0.   0.   0.   0.   0.\n",
      "   0.   0.   0.   0.   0.   0.   0.   0.   0.   0.   0.   0.   0.   0.]\n"
     ]
    }
   ],
   "source": [
    "# This is how the image of number 7 looks to the algorithm - 0 indicates black pixels; 255 indicates white pixels)\n",
    "print(x_train[0])"
   ]
  },
  {
   "cell_type": "markdown",
   "id": "micro-sender",
   "metadata": {
    "id": "fifth-webcam"
   },
   "source": [
    "### Normalizing the Dataset"
   ]
  },
  {
   "cell_type": "markdown",
   "id": "robust-freight",
   "metadata": {
    "id": "american-chambers"
   },
   "source": [
    "To normalize the dataset we use the following approach:\n",
    "<br>\n",
    "<br>\n",
    "<font size=\"5\">\n",
    "$$\n",
    "z_{i}=\\frac{x_{i}-\\min (x)}{\\max (x)-\\min (x)},\n",
    "$$ </font>\n",
    "\n",
    "where $x_{i}=(x_{1}, ..., x_{n})$ entry of the dataset and $z_{i}$ is our $i^{th}$ entry of the normalized data.\n",
    "<br>"
   ]
  },
  {
   "cell_type": "code",
   "execution_count": 40,
   "id": "simplified-treat",
   "metadata": {
    "id": "complicated-parking"
   },
   "outputs": [],
   "source": [
    "# normalize the data by scaling it to a range between 0 and 1; can also normalize  by  dividing by 255\n",
    "x_train = (x_train - x_train.min()) / (x_train.max() - x_train.min())\n",
    "x_test = (x_test - x_test.min()) / (x_test.max() - x_test.min())"
   ]
  },
  {
   "cell_type": "markdown",
   "id": "5f3d000e",
   "metadata": {},
   "source": [
    "## Model"
   ]
  },
  {
   "cell_type": "markdown",
   "id": "incorrect-kelly",
   "metadata": {
    "id": "generic-orchestra"
   },
   "source": [
    "Use [logistic regression](https://scikit-learn.org/stable/modules/generated/sklearn.linear_model.LogisticRegression.html?highlight=logistic%20regression#sklearn.linear_model.LogisticRegression) from `scikit learn` to classify the images witout any modification via PCA and evaluate its [prediction accuracy](https://scikit-learn.org/stable/modules/generated/sklearn.metrics.accuracy_score.html)."
   ]
  },
  {
   "cell_type": "code",
   "execution_count": 41,
   "id": "permanent-exclusion",
   "metadata": {
    "id": "metropolitan-blond"
   },
   "outputs": [
    {
     "name": "stdout",
     "output_type": "stream",
     "text": [
      "Time to fit: 56.83612012863159s\n"
     ]
    }
   ],
   "source": [
    "start = time()\n",
    "\n",
    "# use the ‘lbfgs’ solver for multiclass problem\n",
    "\n",
    "model = LogisticRegression(solver='lbfgs', max_iter=1000)\n",
    "model.fit(x_train, y_train)\n",
    "\n",
    "end = time()\n",
    "\n",
    "running_time = end-start\n",
    "print('Time to fit: {}s'.format(running_time))"
   ]
  },
  {
   "cell_type": "markdown",
   "id": "6327eb74",
   "metadata": {},
   "source": [
    "## Predictions and  Model Evaluation"
   ]
  },
  {
   "cell_type": "code",
   "execution_count": 44,
   "id": "accepted-minister",
   "metadata": {
    "id": "reasonable-eight"
   },
   "outputs": [
    {
     "name": "stdout",
     "output_type": "stream",
     "text": [
      "Training Set Score: 0.9397\n",
      "Test Set Score: 0.9208\n"
     ]
    }
   ],
   "source": [
    "#Make the prediction with your model and check your accuracy by using the accuracy_score from sklearn.metrics \n",
    "\n",
    "# get the predictions of trainig set\n",
    "y_preds_train =  model.predict(x_train)\n",
    "\n",
    "# get the predictions of testing set\n",
    "y_preds_test = model.predict(x_test)\n",
    "\n",
    "# compute the accuracy of training and testing to see how it degrades between the two\n",
    "model_score_train = model.score(x_train, y_train)\n",
    "model_score_test = model.score(x_test, y_test)\n",
    "\n",
    "# Evaluation\n",
    "print('Training Set Score: {}'.format(model_score_train.round(4)))\n",
    "print('Test Set Score: {}'.format(model_score_test.round(4)))"
   ]
  }
 ],
 "metadata": {
  "colab": {
   "provenance": []
  },
  "kernelspec": {
   "display_name": "Python 3",
   "language": "python",
   "name": "python3"
  },
  "language_info": {
   "codemirror_mode": {
    "name": "ipython",
    "version": 3
   },
   "file_extension": ".py",
   "mimetype": "text/x-python",
   "name": "python",
   "nbconvert_exporter": "python",
   "pygments_lexer": "ipython3",
   "version": "3.11.5"
  },
  "toc": {
   "base_numbering": 1,
   "nav_menu": {},
   "number_sections": false,
   "sideBar": true,
   "skip_h1_title": false,
   "title_cell": "Table of Contents",
   "title_sidebar": "Contents",
   "toc_cell": false,
   "toc_position": {},
   "toc_section_display": true,
   "toc_window_display": true
  },
  "varInspector": {
   "cols": {
    "lenName": 16,
    "lenType": 16,
    "lenVar": 40
   },
   "kernels_config": {
    "python": {
     "delete_cmd_postfix": "",
     "delete_cmd_prefix": "del ",
     "library": "var_list.py",
     "varRefreshCmd": "print(var_dic_list())"
    },
    "r": {
     "delete_cmd_postfix": ") ",
     "delete_cmd_prefix": "rm(",
     "library": "var_list.r",
     "varRefreshCmd": "cat(var_dic_list()) "
    }
   },
   "types_to_exclude": [
    "module",
    "function",
    "builtin_function_or_method",
    "instance",
    "_Feature"
   ],
   "window_display": false
  }
 },
 "nbformat": 4,
 "nbformat_minor": 5
}
