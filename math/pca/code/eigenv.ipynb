{
 "cells": [
  {
   "cell_type": "markdown",
   "metadata": {},
   "source": [
    "# Egenvectors and Eigenvalues computation"
   ]
  },
  {
   "cell_type": "markdown",
   "metadata": {},
   "source": [
    "* Linear Transformation - a vector function that moves around space such that the grid lines remain parallel and evenly spaced, and the origine remain fixed, i.e. preeserves collinearity:<br><br>\n",
    "$\\mathbf{L}(\\vec{v} + \\vec{w}) = \\mathbf{L}(\\vec{v}) + \\mathbf{L}(\\vec{w})$  <br>\n",
    "$\\mathbf{L}(c\\vec{v}) = c\\mathbf{L}(\\vec{v})$ <br><br>\n",
    "* Matrix as Linear Transformation of space, its columns represent the transformed cooridnates of the basis vectors;  all  matrix multiplications are linear transforms and all linear transforms that operate on finite dimennsional vectors can be expressed as matrices\n",
    "* Determinant of a Linear Transformation\n",
    "* Linear Systems\n",
    "* Change of basis\n",
    "\n",
    "* Egenvectors - non-trivial vectors which do not change directions when undergoing linear transformation by a given square matrix $\\mathbf{A}:\n",
    "\n",
    "$\\mathbf{A}\\vec{e} = \\lambda\\vec{e}$<br>\n",
    "$\\mathbf{A}\\vec{e} - \\lambda\\vec{e} = \\vec{0}$<br>\n",
    "$(\\mathbf{A} - \\lambda\\mathbf{I})\\vec{e} = \\vec{0}$<br>\n",
    "\n",
    "For $\\vec{e} \\neq \\vec{0}$<br>\n",
    "$\\mathbf{A} - \\lambda\\mathbf{I}$ is non-invertible, implying<br>\n",
    "$\\det(\\mathbf{A} - \\lambda\\mathbf{I}) = 0$\n",
    "\n",
    "\n",
    "An nxn matrix A, corresponding to nth degree polybomial equaton with n roots has n  **eigenvalues**, not neecessarily all distinct.\n"
   ]
  },
  {
   "cell_type": "markdown",
   "metadata": {},
   "source": [
    "#### Generate a random 3x3 matrix with integer values"
   ]
  },
  {
   "cell_type": "code",
   "execution_count": 12,
   "metadata": {},
   "outputs": [
    {
     "name": "stdout",
     "output_type": "stream",
     "text": [
      "Matrix A\n",
      "[[-1 -3 -4]\n",
      " [-2 -5  4]\n",
      " [ 0  3  1]]\n"
     ]
    }
   ],
   "source": [
    "import numpy as np\n",
    "\n",
    "n_dim = 3\n",
    "A = np.random.randint(low=-5, high=5, size=(n_dim, n_dim))\n",
    "print(f\"Matrix A\\n{A}\")"
   ]
  },
  {
   "cell_type": "markdown",
   "metadata": {},
   "source": [
    "## Find Egenvalues and Egenvectors with Sympy"
   ]
  },
  {
   "cell_type": "code",
   "execution_count": 15,
   "metadata": {},
   "outputs": [
    {
     "name": "stdout",
     "output_type": "stream",
     "text": [
      "The characteristic polynomial is: $-lamda**3 - 5*lamda**2 + 19*lamda + 35 = 0$\n"
     ]
    }
   ],
   "source": [
    "# SymPy is a  Python library for symbolic  mathematics\n",
    "import sympy as sp\n",
    "\n",
    "# Define the identity matrix\n",
    "I = sp.eye(3)\n",
    "\n",
    "# Define the symbol for eigenvalues\n",
    "lamda = sp.symbols('lamda')\n",
    "\n",
    "# Calculate the characteristic polynomial (the determinant of (A - λI))\n",
    "char_poly = (A - lamda * I).det()\n",
    "\n",
    "# Print the characteristic polynomial\n",
    "print(f\"The characteristic polynomial is:{char_poly} = 0\")"
   ]
  },
  {
   "cell_type": "code",
   "execution_count": 27,
   "metadata": {},
   "outputs": [
    {
     "name": "stdout",
     "output_type": "stream",
     "text": [
      "Quotient: -lamda**2 + 2*lamda + 5\n",
      "Remainder: 0\n"
     ]
    }
   ],
   "source": [
    "# since -7 is a factor of the characteristic equation constant term might be a root\n",
    "# To perform polynomical division, we can use div() function from the sympy library\n",
    "\n",
    "# Define the polynomials\n",
    "numerator = -lamda**3 - 5*lamda**2 + 19*lamda + 35\n",
    "denominator = lamda  + 7\n",
    "\n",
    "# Perform the division\n",
    "quotient, remainder = sp.div(numerator, denominator)\n",
    "\n",
    "# Print the quotient and remainder\n",
    "print(f\"Quotient: {quotient}\")\n",
    "print(f\"Remainder: {remainder}\")"
   ]
  },
  {
   "cell_type": "code",
   "execution_count": 28,
   "metadata": {},
   "outputs": [
    {
     "name": "stdout",
     "output_type": "stream",
     "text": [
      "The solutions are: [1 - sqrt(6), 1 + sqrt(6)]\n"
     ]
    }
   ],
   "source": [
    "# Define the equation\n",
    "equation = -lamda**2 + 2*lamda + 5\n",
    "\n",
    "# Solve the equation\n",
    "solutions = sp.solve(equation, lamda)\n",
    "\n",
    "# Print the solutions\n",
    "print(f\"The solutions are: {solutions}\")"
   ]
  },
  {
   "cell_type": "code",
   "execution_count": 16,
   "metadata": {},
   "outputs": [
    {
     "name": "stdout",
     "output_type": "stream",
     "text": [
      "The eigenvalues are: [-7, 1 - sqrt(6), 1 + sqrt(6)]\n"
     ]
    }
   ],
   "source": [
    "# Solve the characteristic polynomial\n",
    "eigenvalues = sp.solve(char_poly, lamda)\n",
    "\n",
    "# Print the eigenvalues\n",
    "print(f\"The eigenvalues are: {eigenvalues}\")"
   ]
  },
  {
   "cell_type": "code",
   "execution_count": 17,
   "metadata": {},
   "outputs": [
    {
     "name": "stdout",
     "output_type": "stream",
     "text": [
      "Eigenvalue: -7, Multiplicity: 1, Eigenvector: [Matrix([\n",
      "[-0.666666666666667],\n",
      "[ -2.66666666666667],\n",
      "[               1.0]])]\n",
      "Eigenvalue: 1 - sqrt(6), Multiplicity: 1, Eigenvector: [Matrix([\n",
      "[  3.44948974278318],\n",
      "[-0.816496580927726],\n",
      "[               1.0]])]\n",
      "Eigenvalue: 1 + sqrt(6), Multiplicity: 1, Eigenvector: [Matrix([\n",
      "[-1.44948974278318],\n",
      "[0.816496580927726],\n",
      "[              1.0]])]\n"
     ]
    }
   ],
   "source": [
    "# Compute the eigenvectors\n",
    "eigenvectors = A.eigenvects()\n",
    "\n",
    "# Print the eigenvectors\n",
    "for i in eigenvectors:\n",
    "    eigenvalue = i[0]\n",
    "    multiplicity = i[1]\n",
    "    eigenvector = [v.evalf() for v in i[2]]\n",
    "    print(f\"Eigenvalue: {eigenvalue}, Multiplicity: {multiplicity}, Eigenvector: {eigenvector}\")"
   ]
  },
  {
   "cell_type": "markdown",
   "metadata": {},
   "source": [
    "## Find Egenvalues and Egenvectors with NumPy"
   ]
  },
  {
   "cell_type": "code",
   "execution_count": 33,
   "metadata": {},
   "outputs": [
    {
     "name": "stdout",
     "output_type": "stream",
     "text": [
      "Determinant of A: 34.99999999999999\n",
      "Inverse matrix of A:\n",
      "[[-0.48571429 -0.25714286 -0.91428571]\n",
      " [ 0.05714286 -0.02857143  0.34285714]\n",
      " [-0.17142857  0.08571429 -0.02857143]]\n"
     ]
    }
   ],
   "source": [
    "A = np.array([[-1, -3, -4], [-2, -5, 4], [0, 3, 1]])\n",
    "\n",
    "# Calculate the determinant of A\n",
    "det_A = np.linalg.det(A)\n",
    "\n",
    "if det_A == 0:\n",
    "    print(\"The determinant of A is zero. The inverse matrix does not exist.\")\n",
    "else:\n",
    "    # Calculate the inverse matrix of A\n",
    "    A_inv = np.linalg.inv(A)\n",
    "\n",
    "# Print the determinant and inverse matrix\n",
    "    print(f\"Determinant of A: {det_A}\")\n",
    "    print(\"Inverse matrix of A:\")\n",
    "    print(A_inv)"
   ]
  },
  {
   "cell_type": "code",
   "execution_count": 34,
   "metadata": {},
   "outputs": [
    {
     "name": "stdout",
     "output_type": "stream",
     "text": [
      "Eigenvalues of A: [-7.         -1.44948974  3.44948974]\n"
     ]
    }
   ],
   "source": [
    "# Compute the eigenvalues\n",
    "eigenvalues = np.linalg.eigvals(A)\n",
    "\n",
    "print(f\"Eigenvalues of A: {eigenvalues}\")"
   ]
  },
  {
   "cell_type": "code",
   "execution_count": 35,
   "metadata": {},
   "outputs": [
    {
     "name": "stdout",
     "output_type": "stream",
     "text": [
      "Eigenvalue: -7.000000000000002\n",
      "Eigenvector: [ 0.22792115  0.91168461 -0.34188173]\n",
      "Eigenvalue: -1.4494897427831774\n",
      "Eigenvector: [-0.93655787  0.22168389 -0.2715062 ]\n",
      "Eigenvalue: 3.449489742783178\n",
      "Eigenvector: [-0.74675429  0.42064618  0.51518425]\n"
     ]
    }
   ],
   "source": [
    "# Compute the eigenvalues and eigenvectors\n",
    "eigenvalues, eigenvectors = np.linalg.eig(A)\n",
    "\n",
    "# Print the eigenvalues and eigenvectors\n",
    "for i in range(len(eigenvalues)):\n",
    "    print(f\"Eigenvalue: {eigenvalues[i]}\")\n",
    "    print(f\"Eigenvector: {eigenvectors[:, i]}\")"
   ]
  },
  {
   "cell_type": "markdown",
   "metadata": {},
   "source": [
    "##  Find the Eigenvalues and Eigenvectors by hand"
   ]
  },
  {
   "cell_type": "markdown",
   "metadata": {},
   "source": [
    "To  find the eigenvalues  and egenvectors  of matrix A:\n",
    "\n",
    "$$\n",
    "\\mathbf{A} = \\begin{bmatrix}\n",
    "-1 & -3 & -4 \\\\\n",
    "-2 & -5 & 4 \\\\\n",
    " 0 & 3 & 1\n",
    "\\end{bmatrix}\n",
    "$$\n",
    "\n",
    "need to solve the characteristic equation\n",
    "\n",
    "$\\det(\\mathbf{A} - \\lambda\\mathbf{I}) = 0$\n",
    "\n",
    "$\\det(\\mathbf{A} - \\lambda\\mathbf{I}) = \\det\\left(\\begin{bmatrix}\n",
    "-1-\\lambda & -3 & -4 \\\\\n",
    "-2 & -5-\\lambda &  4 \\\\\n",
    " 0 & 3 & 1-\\lambda \n",
    "\\end{bmatrix}\\right) = 0$\n",
    "\n",
    "Find the determinant and set it to zero solving for $\\lambda$:\n",
    "\n",
    "$$\n",
    "\\begin{align*}\n",
    "\\det(\\mathbf{A} - \\lambda\\mathbf{I}) \n",
    "&= (-1-\\lambda) \\cdot ((-5-\\lambda) \\cdot (1-\\lambda) - (4) \\cdot (3)) - 3 \\cdot (-2 \\cdot (1-\\lambda) - (-4) \\cdot (0)) + (-4) \\cdot (-2 \\cdot (-3) - (0) \\cdot (-5-\\lambda)) \\\\\n",
    "&= -\\lambda^3 - 5\\lambda^2 + 19\\lambda + 35 = 0\n",
    "\\end{align*}\n",
    "$$\n",
    "\n",
    "Since leading coeficient is -1, check factors of the constant term for roots; $\\lambda$ = -7 is a root, than\n",
    "\n",
    "$$(\\lambda + 7)(-\\lambda^2 + 2\\lambda + 5) = 0$$\n",
    "\n",
    "Solving\n",
    "$-\\lambda^2 + 2\\lambda + 5 = 0$\n",
    "\n",
    "The roots of the equation can be found using the quadratic formula:\n",
    "\n",
    "$$\n",
    "\\lambda = \\frac{-(2) \\pm \\sqrt{(2)^2 - 4 \\cdot (-1) \\cdot 5}}{2 \\cdot (-1)}\n",
    "$$\n",
    "\n",
    "This simplifies to:\n",
    "\n",
    "$$\n",
    "\\lambda = \\frac{2 \\pm \\sqrt{24}}{2}  = 1 \\pm \\sqrt{6}\n",
    "$$\n",
    "\n",
    "To find the eigenvectors that correspond to the above eigenvalues substitude in the $\\det(\\mathbf{A} - \\lambda\\mathbf{I}) = 0$\n"
   ]
  },
  {
   "cell_type": "markdown",
   "metadata": {},
   "source": [
    "$$\n",
    "\\begin{align*}\n",
    "\\det(\\mathbf{A} - \\lambda\\mathbf{I}) \n",
    "&= (-1-\\lambda) \\cdot ((-5-\\lambda) \\cdot (1-\\lambda) - (4) \\cdot (3)) - (-1)^3 \\cdot 3 \\cdot (-2 \\cdot (1-\\lambda) - (-4) \\cdot (0)) + (-4) \\cdot (-2 \\cdot (-3) - (0) \\cdot (-5-\\lambda)) \\\\\n",
    "&= -\\lambda^3 - 5\\lambda^2 + 19\\lambda + 35 = 0\n",
    "\\end{align*}\n",
    "$$"
   ]
  },
  {
   "cell_type": "markdown",
   "metadata": {},
   "source": [
    "For $\\lambda = -7$, solve this system of equations to find the corresponsing eigenvector\n",
    "\n",
    "$$(\\mathbf{A} + 7\\mathbf{I})\\mathbf{v} = 0$$\n",
    "\n",
    "\n",
    "For $\\lambda =1 - \\sqrt{6}$, solve this system of equations to find the corresponsing eigenvector\n",
    "\n",
    "\n",
    "$$(\\mathbf{A} - (1 - \\sqrt{6})\\mathbf{I})\\mathbf{v} = 0$$\n",
    "\n",
    "\n",
    "For $\\lambda = 1 + \\sqrt{6}$, solve this system of equations to find the corresponsing eigenvector\n",
    "\n",
    "\n",
    "$$(\\mathbf{A} - (1 + \\sqrt{6})\\mathbf{I})\\mathbf{v} = 0$$\n"
   ]
  },
  {
   "cell_type": "code",
   "execution_count": 38,
   "metadata": {},
   "outputs": [
    {
     "name": "stdout",
     "output_type": "stream",
     "text": [
      "The solution is: {v1: -2*v3/3, v2: -8*v3/3}\n"
     ]
    }
   ],
   "source": [
    "import sympy as sp\n",
    "\n",
    "# Define the symbols\n",
    "v1, v2, v3 = sp.symbols('v1 v2 v3')\n",
    "\n",
    "# Define the equations\n",
    "eq1 = 6*v1 - 3*v2 - 4*v3\n",
    "eq2 = -2*v1 + 2*v2 + 4*v3\n",
    "eq3 = 3*v2 + 8*v3\n",
    "\n",
    "# Solve the system of equations\n",
    "solution = sp.solve((eq1, eq2, eq3), (v1, v2, v3))\n",
    "\n",
    "# Print the solution\n",
    "print(f\"The solution is: {solution}\")"
   ]
  },
  {
   "cell_type": "code",
   "execution_count": 30,
   "metadata": {},
   "outputs": [
    {
     "name": "stdout",
     "output_type": "stream",
     "text": [
      "The row-echelon form of the matrix is:\n",
      "Matrix([[1, 0, 2/3], [0, 1, 8/3], [0, 0, 0]])\n"
     ]
    }
   ],
   "source": [
    "# Define the matrix\n",
    "A = sp.Matrix([[6, -3, -4], [-2, 2, 4], [0, 3, 8]])\n",
    "\n",
    "# Compute the row-echelon form\n",
    "rref_matrix, pivot_columns = A.rref()\n",
    "\n",
    "# Print the row-echelon form\n",
    "print(f\"The row-echelon form of the matrix is:\\n{rref_matrix}\")"
   ]
  },
  {
   "cell_type": "markdown",
   "metadata": {},
   "source": [
    "For $\\lambda = -7$:\n",
    "\n",
    "$$(\\mathbf{A} + 7\\mathbf{I})\\mathbf{v} = 0$$\n",
    "\n",
    "This gives us the system of equations:\n",
    "\n",
    "$$\n",
    "\\begin{align*}\n",
    "(-1 + 7)v_1 - 3v_2 - 4v_3 &= 0 \\\\\n",
    "-2v_1 + (- 5 + 7)v_2 + 4v_3 &= 0 \\\\\n",
    "0v_1 + 3v_2 + (1 + 7)v_3 &= 0 \n",
    "\\end{align*}\n",
    "$$\n",
    "\n",
    "Solve with row reduction on the augmented matrix $[\\mathbf{A} + 7\\mathbf{I} | 0]$:\n",
    "\n",
    "$$\n",
    "\\begin{align*}\n",
    "\\mathbf{A} = \\begin{bmatrix}\n",
    "6 & -3 & -4   | 0\\\\\n",
    "-2 & 2 & 4    | 0\\\\\n",
    "0 & 3 & 8     | 0\n",
    "\\end{bmatrix}\n",
    "\\end{align*}\n",
    "$$\n",
    "\n",
    "Performing row reduction operations to obtain row-echelon form:\n",
    "\n",
    "$$\n",
    "\\begin{align*}\n",
    "\\mathbf{A} = \\begin{bmatrix}\n",
    "1 & 0 & 2/3 | 0\\\\\n",
    "0 & 1 & 8/3 | 0\\\\\n",
    "0 & 0 & 0   | 0\n",
    "\\end{bmatrix}\n",
    "\\end{align*}\n",
    "$$\n",
    "\n",
    "express the eigenvector in terms of a non-zero arbitrary variable $\\mathbf{x}$\n",
    "\n",
    "$$\n",
    "\\begin{align*}\n",
    "\\mathbf{v} = \\begin{bmatrix}\n",
    "-2/3x\\\\\n",
    "-8/3x\\\\\n",
    "x\\\\\n",
    "\\end{bmatrix}\n",
    "\\end{align*}\n",
    "$$\n"
   ]
  }
 ],
 "metadata": {
  "kernelspec": {
   "display_name": "copilot_env",
   "language": "python",
   "name": "python3"
  },
  "language_info": {
   "codemirror_mode": {
    "name": "ipython",
    "version": 3
   },
   "file_extension": ".py",
   "mimetype": "text/x-python",
   "name": "python",
   "nbconvert_exporter": "python",
   "pygments_lexer": "ipython3",
   "version": "3.11.5"
  }
 },
 "nbformat": 4,
 "nbformat_minor": 2
}
