{
 "cells": [
  {
   "cell_type": "markdown",
   "metadata": {},
   "source": [
    "# Egenvectors and Eigenvalues computation"
   ]
  },
  {
   "cell_type": "markdown",
   "metadata": {},
   "source": [
    "* Matrix as Linear Transformation\n",
    "* Determinant of a Linear Transformation\n",
    "* Linear Systems\n",
    "* Change of basis\n",
    "\n",
    "* Egenvectors - non-trivial vectors which do not change directions when undergoing linear transformation by a given square matrix $\\mathbf{A}:\n",
    "\n",
    "$\\mathbf{A}\\vec{e} = \\lambda\\vec{e}$\n",
    "$\\mathbf{A}\\vec{e} - \\lambda\\vec{e} = \\vec{0}$\n",
    "$(\\mathbf{A} - \\lambda\\mathbf{I})\\vec{e} = \\vec{0}$\n",
    "\n",
    "For $vec{e} \\neq \\vec{0}$ $\\mathbf{A} - \\lambda\\mathbf{I}$ is non-invertible, implying\n",
    "  $\\det(\\mathbf{A} - \\lambda\\mathbf{I}) = 0$\n",
    "\n",
    "An nxn matrix A, corresponding to nth degree polybomial equaton with n roots has n  **eigenvalues**, not neecessarily all distinct.\n"
   ]
  },
  {
   "cell_type": "code",
   "execution_count": 5,
   "metadata": {},
   "outputs": [
    {
     "name": "stdout",
     "output_type": "stream",
     "text": [
      "Matrix A\n",
      "[[  1   9   4]\n",
      " [ -9   4  -4]\n",
      " [-10  -8   6]]\n"
     ]
    }
   ],
   "source": [
    "import numpy as np\n",
    "\n",
    "n_dim = 3\n",
    "\n",
    "# Generate a random matrix with integer values\n",
    "A = np.random.randint(low=-10, high=10, size=(n_dim, n_dim))\n",
    "\n",
    "print(f\"Matrix A\\n{A}\")"
   ]
  },
  {
   "cell_type": "markdown",
   "metadata": {},
   "source": [
    "To  find the eigenvalues  and egenvectors  of matrix A:\n",
    "\n",
    "$$\n",
    "\\mathbf{A} = \\begin{bmatrix}\n",
    "1 & 9 & 4 \\\\\n",
    "-9 & 4 & -4 \\\\\n",
    "-10 & -8 & 6 \n",
    "\\end{bmatrix}\n",
    "$$\n",
    "\n",
    "need to solve the characteristic equation\n",
    "\n",
    "$\\det(\\mathbf{A} - \\lambda\\mathbf{I}) = 0$\n",
    "\n",
    "$\\det(\\mathbf{A} - \\lambda\\mathbf{I}) = \\det\\left(\\begin{bmatrix}\n",
    "1-\\lambda & 9 & 4 \\\\\n",
    "-9 & 4-\\lambda & -4 \\\\\n",
    "-10 & -8 & 6-\\lambda \n",
    "\\end{bmatrix}\\right) = 0$\n",
    "\n",
    "Find the determinant  and  set  it to zero solving for $\\lambda$:\n",
    "\n",
    "$$\n",
    "\\begin{align*}\n",
    "\\det(\\mathbf{A} - \\lambda\\mathbf{I}) \n",
    "&= (1-\\lambda) \\cdot ((4-\\lambda) \\cdot (6-\\lambda) - (-4) \\cdot (-8)) - 9 \\cdot (-9 \\cdot (6-\\lambda) - (-4) \\cdot (-10)) + 4 \\cdot (-9 \\cdot (-8) - (-10) \\cdot (4-\\lambda)) \\\\\n",
    "&= \\lambda^3 - 11\\lambda^2 + 46\\lambda - 120 = 0\n",
    "\\end{align*}\n",
    "$$\n",
    "\n",
    "Since $\\lambda$ = 5 is a root\n",
    "\n",
    "$$(\\lambda - 5)(\\lambda^2 - 6\\lambda + 24) = 0$$\n",
    "\n",
    "Solving\n",
    "$\\lambda^2 - 6\\lambda + 24 = 0$\n",
    "\n",
    "The roots of the equation $\\lambda^2 - 6\\lambda + 24 = 0$ can be found using the quadratic formula:\n",
    "\n",
    "$$\n",
    "\\lambda = \\frac{-(-6) \\pm \\sqrt{(-6)^2 - 4 \\cdot 1 \\cdot 24}}{2 \\cdot 1}\n",
    "$$\n",
    "\n",
    "This simplifies to:\n",
    "\n",
    "$$\n",
    "\\lambda = \\frac{6 \\pm \\sqrt{36 - 96}}{2}  = 3 \\pm \\sqrt{15}i\n",
    "$$\n",
    "\n",
    "To find the eigenvectors that correspond to the above eigenvalues substitude in the $\\det(\\mathbf{A} - \\lambda\\mathbf{I}) = 0$\n"
   ]
  },
  {
   "cell_type": "markdown",
   "metadata": {},
   "source": [
    "For $\\lambda = 5$, solve this system of equations to find the corresponsing eigenvector\n",
    "\n",
    "$$(\\mathbf{A} - 5\\mathbf{I})\\mathbf{v} = 0$$\n",
    "\n",
    "\n",
    "For $\\lambda = 3 - \\sqrt{15}i$, solve this system of equations to find the corresponsing eigenvector\n",
    "\n",
    "\n",
    "$$(\\mathbf{A} - (3 - \\sqrt{15}i)\\mathbf{I})\\mathbf{v} = 0$$\n",
    "\n",
    "\n",
    "For $\\lambda = 3 + \\sqrt{15}i$, solve this system of equations to find the corresponsing eigenvector\n",
    "\n",
    "\n",
    "$$(\\mathbf{A} - (3 + \\sqrt{15}i)\\mathbf{I})\\mathbf{v} = 0$$\n"
   ]
  },
  {
   "cell_type": "markdown",
   "metadata": {},
   "source": [
    "For $\\lambda = 5$:\n",
    "\n",
    "$$(\\mathbf{A} - 5\\mathbf{I})\\mathbf{v} = 0$$\n",
    "\n",
    "This gives us the system of equations:\n",
    "\n",
    "$$\n",
    "\\begin{align*}\n",
    "(-3 - 5)v_1 - 6v_2 + 2v_3 - 5v_4 &= 0 \\\\\n",
    "-8v_1 - (1 - 5)v_2 + 7v_3 - 5v_4 &= 0 \\\\\n",
    "7v_1 - 3v_2 + (6 - 5)v_3 - v_4 &= 0 \\\\\n",
    "3v_1 + 5v_2 - 6v_3 - (1 - 5)v_4 &= 0\n",
    "\\end{align*}\n",
    "$$\n",
    "\n",
    "Solve with  row  reduction on  the augmented matrix $[\\mathbf{A} - 5\\mathbf{I} | 0]$:\n",
    "\n",
    "$$\n",
    "\\begin{align*}\n",
    "\\mathbf{A} = \\begin{bmatrix}\n",
    "-4 & 9 & 4   | 0\\\\\n",
    "-9 & -1 & -4 | 0\\\\\n",
    "-10 & -8 & 1 | 0\\\\\n",
    "\\end{bmatrix}\n",
    "\\end{align*}\n",
    "$$\n",
    "\n",
    "Performing row reduction operations to obtain row-echelon form:\n",
    "\n",
    "$$\n",
    "\\begin{align*}\n",
    "\\mathbf{A} = \\begin{bmatrix}\n",
    "1 & -9/4 & -1 | 0\\\\\n",
    "0 & 1 & -23/5 | 0\\\\\n",
    "0 & 0 & 0     | 0\\\\\n",
    "\\end{bmatrix}\n",
    "\\end{align*}\n",
    "$$\n",
    "\n",
    "express the eigenvector in terms of a non-zero arbitrary variable $\\mathbf{x_1}$\n",
    "\n",
    "$$\n",
    "\\begin{align*}\n",
    "\\mathbf{v} = \\begin{bmatrix}\n",
    "9/4x_2 + x_1\\\\\n",
    "23/5x_1\\\\\n",
    "x_1\\\\\n",
    "\\end{bmatrix}\n",
    "\\end{align*}\n",
    "$$\n"
   ]
  },
  {
   "cell_type": "code",
   "execution_count": 7,
   "metadata": {},
   "outputs": [
    {
     "name": "stdout",
     "output_type": "stream",
     "text": [
      "Determinant of A: 1285.9999999999998\n",
      "Inverse matrix of A:\n",
      "[[-0.00622084 -0.06687403 -0.04043546]\n",
      " [ 0.07309487  0.03576983 -0.02488336]\n",
      " [ 0.08709176 -0.06376361  0.06609642]]\n"
     ]
    }
   ],
   "source": [
    "# Calculate the determinant of A\n",
    "det_A = np.linalg.det(A)\n",
    "\n",
    "if det_A == 0:\n",
    "    print(\"The determinant of A is zero. The inverse matrix does not exist.\")\n",
    "else:\n",
    "    # Calculate the inverse matrix of A\n",
    "    A_inv = np.linalg.inv(A)\n",
    "\n",
    "# Print the determinant and inverse matrix\n",
    "    print(f\"Determinant of A: {det_A}\")\n",
    "    print(\"Inverse matrix of A:\")\n",
    "    print(A_inv)"
   ]
  },
  {
   "cell_type": "code",
   "execution_count": 8,
   "metadata": {},
   "outputs": [
    {
     "name": "stdout",
     "output_type": "stream",
     "text": [
      "Eigenvalue 1: (0.1408255294986504+10.952686147256545j)\n",
      "Normalized Eigenvector 1: [-0.63043246+0.j          0.03375561-0.50821414j  0.05946275-0.58275041j]\n",
      "\n",
      "Eigenvalue 2: (0.1408255294986504-10.952686147256545j)\n",
      "Normalized Eigenvector 2: [-0.63043246+0.j          0.03375561+0.50821414j  0.05946275+0.58275041j]\n",
      "\n",
      "Eigenvalue 3: (10.718348941002699+0j)\n",
      "Normalized Eigenvector 3: [-0.05544994+0.j -0.45490363+0.j  0.88881269+0.j]\n",
      "\n"
     ]
    }
   ],
   "source": [
    "# Solve the eigensystem\n",
    "eigenvalues, eigenvectors = np.linalg.eig(A)\n",
    "\n",
    "    # Normalize the eigenvectors\n",
    "normalized_eigenvectors = eigenvectors / np.linalg.norm(eigenvectors, axis=0)\n",
    "\n",
    "# Print the eigenvalues and normalized eigenvectors\n",
    "for i in range(len(eigenvalues)):\n",
    "        eigenvalue = eigenvalues[i]\n",
    "        eigenvector = normalized_eigenvectors[:, i]\n",
    "        print(f\"Eigenvalue {i+1}: {eigenvalue}\")\n",
    "        print(f\"Normalized Eigenvector {i+1}: {eigenvector}\")\n",
    "        print()"
   ]
  }
 ],
 "metadata": {
  "kernelspec": {
   "display_name": "copilot_env",
   "language": "python",
   "name": "python3"
  },
  "language_info": {
   "codemirror_mode": {
    "name": "ipython",
    "version": 3
   },
   "file_extension": ".py",
   "mimetype": "text/x-python",
   "name": "python",
   "nbconvert_exporter": "python",
   "pygments_lexer": "ipython3",
   "version": "3.11.5"
  }
 },
 "nbformat": 4,
 "nbformat_minor": 2
}
