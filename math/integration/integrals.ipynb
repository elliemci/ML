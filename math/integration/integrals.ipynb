{
 "cells": [
  {
   "cell_type": "code",
   "execution_count": 1,
   "metadata": {},
   "outputs": [
    {
     "data": {
      "text/latex": [
       "$\\displaystyle \\sqrt{x^{2} + x + 2} - \\frac{\\operatorname{asinh}{\\left(\\frac{2 \\sqrt{7} \\left(x + \\frac{1}{2}\\right)}{7} \\right)}}{2}$"
      ],
      "text/plain": [
       "<IPython.core.display.Math object>"
      ]
     },
     "metadata": {},
     "output_type": "display_data"
    }
   ],
   "source": [
    "import sympy\n",
    "from IPython.display import display, Math\n",
    "\n",
    "x = sympy.symbols('x')\n",
    "#expr = (2*x**2 + 6) / (x**2 - 2*x + 2)**2\n",
    "expr = x / sympy.sqrt(x**2 + x + 2)\n",
    "integral = sympy.integrate(expr, x)\n",
    "\n",
    "# Convert to LaTeX and display\n",
    "latex_integral = sympy.latex(integral)\n",
    "display(Math(latex_integral))"
   ]
  }
 ],
 "metadata": {
  "kernelspec": {
   "display_name": "copilot_env",
   "language": "python",
   "name": "python3"
  },
  "language_info": {
   "codemirror_mode": {
    "name": "ipython",
    "version": 3
   },
   "file_extension": ".py",
   "mimetype": "text/x-python",
   "name": "python",
   "nbconvert_exporter": "python",
   "pygments_lexer": "ipython3",
   "version": "3.11.5"
  }
 },
 "nbformat": 4,
 "nbformat_minor": 2
}
