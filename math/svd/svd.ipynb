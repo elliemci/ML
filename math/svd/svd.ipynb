{
 "cells": [
  {
   "cell_type": "markdown",
   "id": "sapphire-apparatus",
   "metadata": {
    "id": "gentle-miniature"
   },
   "source": [
    "# Singular Value Decomposition of a Matrix"
   ]
  },
  {
   "cell_type": "markdown",
   "id": "pregnant-publisher",
   "metadata": {
    "id": "august-hygiene"
   },
   "source": [
    "A central technique of matrix decomposition in linear algebra is the singular value decomposition (SVD) of a matrix, as can be used not only for square matrices but for all matrices, it is referred to as the <b>fundamental theorem of linear algebra</b>. SVD can be used for computation of PCA, least squares problems, multivariate analysis, image compression, and collaborative filtering method for recommender systems, computing the similarity documents\n",
    "\n",
    "This technique is so powerful because can  be used to decompose a data matrix into singular values. \n"
   ]
  },
  {
   "cell_type": "markdown",
   "id": "later-marriage",
   "metadata": {
    "id": "hearing-wilson"
   },
   "source": [
    "# How to compute SVD by hand"
   ]
  },
  {
   "cell_type": "markdown",
   "id": "automatic-departure",
   "metadata": {
    "id": "serial-scanning"
   },
   "source": [
    "<a href=\"SVD\"><img src=\"drawing_SVD.jpg\" align=\"center\" width= 750px /></a>"
   ]
  },
  {
   "cell_type": "markdown",
   "id": "modern-surprise",
   "metadata": {
    "id": "surprised-induction"
   },
   "source": [
    "Mathematically, SVD can be expressed as: \n",
    "\n",
    "<!--- <font size=4> --->\n",
    "$$\n",
    "\\large{\n",
    "\\mathrm{A}=\\mathrm{U\\Sigma V}^{\\mathrm{T}}\n",
    "}\n",
    "$$\n",
    "</font>\n",
    "\n",
    "Let us assume, we have the following matrix:\n",
    " <font size=3>   \n",
    "$$\n",
    "A=\\left[\\begin{array}{cc}\n",
    "8 & 4 \\\\\n",
    "1 & -7\n",
    "\\end{array}\\right]\n",
    "$$\n",
    "</font>"
   ]
  },
  {
   "cell_type": "markdown",
   "id": "manual-least",
   "metadata": {
    "id": "registered-beatles"
   },
   "source": [
    "### **Step 1**"
   ]
  },
  {
   "cell_type": "markdown",
   "id": "polish-robin",
   "metadata": {
    "id": "tough-topic"
   },
   "source": [
    "Compute the transponse $A^{T}$ and $A^{T}A$.\n",
    "\n",
    "So, we get the following matrices:\n",
    "\n",
    "$$\n",
    "A^{T} =\\left[\\begin{array}{cc}\n",
    "8 & 1 \\\\\n",
    "4 & -7\n",
    "\\end{array}\\right]\n",
    "$$\n",
    "\n",
    "Hence, \n",
    "$$\n",
    "\\begin{aligned}\n",
    "\\mathrm{A}^{\\mathrm{T}} \\mathrm{A} &=\\left[\\begin{array}{cc}\n",
    "8 & 1 \\\\\n",
    "4 & -7\n",
    "\\end{array}\\right]\\left[\\begin{array}{cc}\n",
    "8 & 4 \\\\\n",
    "1 & -7\n",
    "\\end{array}\\right] \\\n",
    "\\end{aligned}\n",
    "$$\n",
    "\n",
    "which results in:\n",
    "\n",
    "$$\n",
    "A^{T}A =\\left[\\begin{array}{cc}\n",
    "65 & 25 \\\\\n",
    "25 & 65\n",
    "\\end{array}\\right]\n",
    "$$"
   ]
  },
  {
   "cell_type": "markdown",
   "id": "round-disability",
   "metadata": {
    "id": "split-frederick"
   },
   "source": [
    "### **Step 2**"
   ]
  },
  {
   "cell_type": "markdown",
   "id": "legal-resistance",
   "metadata": {
    "id": "active-liability"
   },
   "source": [
    "In step two, we determine the eigenvalues of $A^{T}A$ and sort them in descending order, in the absolute\n",
    "sense. By then calculating the square roots, we get the singular values of matrix **$A$**."
   ]
  },
  {
   "cell_type": "markdown",
   "id": "fluid-basketball",
   "metadata": {
    "id": "strong-jacket"
   },
   "source": [
    "$$\n",
    "\\operatorname{A^TA -\\lambda = }\\left[\\begin{array}{cc}\n",
    "65-\\lambda & 25 \\\\\n",
    "25 & 65-\\lambda\n",
    "\\end{array}\\right]=(65-\\lambda)(65-\\lambda)-(25)(25) = 0\n",
    "$$\n",
    "\n",
    "<br>\n",
    "We then get:\n",
    "$$\n",
    "\\lambda^{2} - 130\\lambda + 3600 = 0\n",
    "$$\n",
    "<br>\n",
    "<br>\n",
    "Which results in the following eigenvalues:\n",
    "\n",
    "$$\n",
    "\\lambda_{1} = 90, \\lambda_{2} = 4\n",
    "$$\n",
    "<br>\n",
    "<br>\n",
    "by then taking the square root we get:\n",
    "\n",
    "$$\n",
    "\\lambda_{1}=\\sqrt{90}=9.4868, \\lambda_{1}=\\sqrt{40}=6.3245\n",
    "$$"
   ]
  },
  {
   "cell_type": "markdown",
   "id": "unsigned-smoke",
   "metadata": {
    "id": "short-squad"
   },
   "source": [
    "### **Step 3**"
   ]
  },
  {
   "cell_type": "markdown",
   "id": "violent-schema",
   "metadata": {
    "id": "particular-maryland"
   },
   "source": [
    "Now we need to construct a diagonal matrix $\\Sigma$ by placing the singular values we found in descending order along the diagonal of our matrix $\\Sigma$:\n",
    "\n",
    "$$\n",
    "\\Sigma =\\left[\\begin{array}{cc}\n",
    "9.4868 & 0 \\\\\n",
    "0 & 6.3246\n",
    "\\end{array}\\right]\n",
    "$$\n",
    "<br>\n",
    "Then we compute the inverse of our matrix $\\Sigma$, which can be found as follows:\n",
    "\n",
    "Suppose we have this matrix $M$\n",
    "$$\n",
    "M=\\left[\\begin{array}{ll}\n",
    "a & b \\\\\n",
    "c & d \n",
    "\\end{array}\\right]\n",
    "$$\n",
    "then it's inverse can be computed like in the following:\n",
    "\n",
    "$$\n",
    "M^{-1}=\\frac{1}{a d-b c}\\left[\\begin{array}{cc}\n",
    "d & -b \\\\\n",
    "-c & a\n",
    "\\end{array}\\right]\n",
    "$$\n",
    " <br>\n",
    " <br>\n",
    " \n",
    "If we now transfer this to our matrix $\\Sigma$, we get the subsequent equation: \n",
    "\n",
    "$$\n",
    "\\begin{aligned}\n",
    "{\\left[\\begin{array}{ll}\n",
    "9.4868 & 0 \\\\\n",
    "0 & 6.3245\n",
    "\\end{array}\\right]^{-1} } &=\\frac{1}{9.4868 \\times 6.3245-0 \\times 0}\\left[\\begin{array}{cc}\n",
    "6.3245 & 0 \\\\\n",
    "0 & 9.4868\n",
    "\\end{array}\\right] \\\\\n",
    "&=0.01666661\\left[\\begin{array}{cc}\n",
    "6.3245 & 0 \\\\\n",
    "0 & 9.4868\n",
    "\\end{array}\\right] \\\\\n",
    "&=\\left[\\begin{array}{cc}\n",
    "0.1054 & 0 \\\\\n",
    "0 & 0.1581\n",
    "\\end{array}\\right]\n",
    "\\end{aligned}\n",
    "$$"
   ]
  },
  {
   "cell_type": "markdown",
   "id": "gentle-basis",
   "metadata": {
    "id": "becoming-shareware"
   },
   "source": [
    "### **Step 4**"
   ]
  },
  {
   "cell_type": "markdown",
   "id": "increased-picnic",
   "metadata": {
    "id": "minimal-affair"
   },
   "source": [
    "Now we use the ordered eigenvalues from our step 2 and compute the eigenvectors of $A^{T}A$. We then place\n",
    "these eigenvectors along the columns of a new matrix, which we call $V$ and as a last step, we compute the transpose of $V$, $V^{T}$.\n",
    "\n",
    "Accordingly, to do this computation for our $\\lambda_{1} = 90$ we get:\n",
    "\n",
    "$$\n",
    "\\mathrm{A}^{\\mathrm{T}}A-\\mathrm{\\lambda}=\\left[\\begin{array}{ll}\n",
    "65-90 & 25 \\\\\n",
    "25 & 65-90\n",
    "\\end{array}\\right]=\\left[\\begin{array}{ll}\n",
    "-25 & \\phantom{-}25 \\\\\n",
    "\\phantom{-}25 & -25\n",
    "\\end{array}\\right]\n",
    "$$\n",
    "\n",
    "then\n",
    "\n",
    "$$\n",
    "\\left(\\mathrm{A}^{\\top} \\mathrm{A}-\\mathrm{\\lambda}\\right) \\mathrm{X}_{1}=0\n",
    "$$\n",
    "\n",
    "which results in the following:\n",
    "\n",
    "$$\n",
    "\\left[\\begin{array}{ll}\n",
    "-25 & \\phantom{-}25 \\\\\n",
    "\\phantom{-}25 & -25\n",
    "\\end{array}\\right]\\left[\\begin{array}{l}\n",
    "x_{1} \\\\\n",
    "x_{2}\n",
    "\\end{array}\\right]=\\left[\\begin{array}{l}\n",
    "0 \\\\\n",
    "0\n",
    "\\end{array}\\right]\n",
    "$$\n",
    "\n",
    "$$\n",
    "\\begin{aligned}\n",
    "&-25 x_{1}+ 25 x_{2}=0 \\\\\n",
    "&25 x_{1}+-25 x_{2}=0\n",
    "\\end{aligned}\n",
    "$$\n",
    "\n",
    "if we then solve our equation for $x_{2}$ = $x_{1}$, we get:\n",
    "\n",
    "$$\n",
    "x_{1}=\\left[\\begin{array}{l}\n",
    "x_{1} \\\\\n",
    "x_{2}\n",
    "\\end{array}\\right]=\\left[\\begin{array}{c}\n",
    "x_{1} \\\\\n",
    "x_{1}\n",
    "\\end{array}\\right]\n",
    "$$\n",
    "\n",
    "Dividing then by its length results in: \n",
    "\n",
    "$$\n",
    "L=\\sqrt{x_{1}^{2}+x_{2}^{2}}=x_{1} \\sqrt{2}\n",
    "$$\n",
    "\n",
    "which leads to the equation as follows:\n",
    "\n",
    "$$\n",
    "\\mathrm{x}_{\\mathbf{1}}=\\left[\\begin{array}{c}\n",
    "\\mathrm{x}_{1} / \\mathrm{L} \\\\\n",
    "\\mathrm{x}_{1} / \\mathrm{L}\n",
    "\\end{array}\\right]=\\left[\\begin{array}{c}\n",
    "\\frac{1}{\\sqrt{2}} \\\\\n",
    "\\frac{-1}{\\sqrt{2}}\n",
    "\\end{array}\\right]=\\left[\\begin{array}{c}\n",
    "0.7071 \\\\\n",
    "0.7071\n",
    "\\end{array}\\right]\n",
    "$$\n",
    "\n",
    "Following the same steps for our second value, $\\lambda_{2} = 40$, we get:\n",
    "\n",
    "$$\n",
    "\\mathrm{A}^{\\mathrm{T}}A-\\mathrm{\\lambda}=\\left[\\begin{array}{ll}\n",
    "65-40 & 25 \\\\\n",
    "25 & 65-40\n",
    "\\end{array}\\right]=\\left[\\begin{array}{ll}\n",
    "25 & 25 \\\\\n",
    "25 & 25\n",
    "\\end{array}\\right]\n",
    "$$\n",
    "\n",
    "then\n",
    "\n",
    "$$\n",
    "\\left(\\mathrm{A}^{\\top} \\mathrm{A}-\\mathrm{\\lambda}\\right) \\mathrm{X}_{2}=0\n",
    "$$\n",
    "\n",
    "which results in the following:\n",
    "\n",
    "$$\n",
    "\\left[\\begin{array}{ll}\n",
    "25 & 25 \\\\\n",
    "25 & 25\n",
    "\\end{array}\\right]\\left[\\begin{array}{l}\n",
    "x_{1} \\\\\n",
    "x_{2}\n",
    "\\end{array}\\right]=\\left[\\begin{array}{l}\n",
    "0 \\\\\n",
    "0\n",
    "\\end{array}\\right]\n",
    "$$\n",
    "\n",
    "$$\n",
    "\\begin{aligned}\n",
    "&25 x_{1}+25 x_{2}=0 \\\\\n",
    "&25 x_{1}+25 x_{2}=0\n",
    "\\end{aligned}\n",
    "$$\n",
    "\n",
    "if we then solve our equation for $x_{2}$ = $-x_{1}$, we get:\n",
    "\n",
    "$$\n",
    "x_{2}=\\left[\\begin{array}{l}\n",
    "x_{1} \\\\\n",
    "x_{2}\n",
    "\\end{array}\\right]=\\left[\\begin{array}{c}\n",
    "-x_{1} \\\\\n",
    "\\phantom{-}x_{1}\n",
    "\\end{array}\\right]\n",
    "$$\n",
    "\n",
    "Dividing then by its length results in: \n",
    "\n",
    "$$\n",
    "L=\\sqrt{x_{1}^{2}+x_{2}^{2}}=x_{1} \\sqrt{2}\n",
    "$$\n",
    "\n",
    "which leads to the equation as follows:\n",
    "\n",
    "$$\n",
    "\\mathrm{x}_{\\mathbf{2}}=\\left[\\begin{array}{c}\n",
    "-\\mathrm{x}_{1} / \\mathrm{L} \\\\\n",
    "\\mathrm{x}_{1} / \\mathrm{L}\n",
    "\\end{array}\\right]=\\left[\\begin{array}{c}\n",
    "\\frac{1}{\\sqrt{2}} \\\\\n",
    "\\frac{1}{\\sqrt{2}}\n",
    "\\end{array}\\right]=\\left[\\begin{array}{c}\n",
    "-0.7071 \\\\\n",
    "\\phantom{-}0.7071\n",
    "\\end{array}\\right]\n",
    "$$\n"
   ]
  },
  {
   "cell_type": "markdown",
   "id": "operational-optimization",
   "metadata": {
    "id": "improved-spanking"
   },
   "source": [
    "Which then gives us:\n",
    "\n",
    "$$\n",
    "\\mathrm{V}=\\left[\\begin{array}{ll}\n",
    "\\mathrm{x}_{1} & \\mathrm{x}_{2}\n",
    "\\end{array}\\right]=\\left[\\begin{array}{cc}\n",
    "0.7071 & -0.7071 \\\\\n",
    "0.7071 & 0.7071\n",
    "\\end{array}\\right]\n",
    "$$\n",
    "\n",
    "and if the take the transponse of our matrix $V$, we get:\n",
    "\n",
    "$$\n",
    "\\mathrm{V}^{\\mathbf{T}}=\\left[\\begin{array}{cc}\n",
    "0.7071 & 0.7071 \\\\\n",
    "-0.7071 & 0.7071\n",
    "\\end{array}\\right]\n",
    "$$\n",
    "    "
   ]
  },
  {
   "cell_type": "markdown",
   "id": "regulated-percentage",
   "metadata": {
    "id": "portable-roman"
   },
   "source": [
    "### **Step 5**"
   ]
  },
  {
   "cell_type": "markdown",
   "id": "circular-terrain",
   "metadata": {
    "id": "handy-hours"
   },
   "source": [
    "Now in our last step for our SVD computation, we need to compute matrix $U$ as $U$ = $AV\\Sigma^{-1}$:\n",
    "\n",
    "$$\n",
    "U=A^{-1}=\\left[\\begin{array}{ll}\n",
    "8 & 4 \\\\\n",
    "1 & -7\n",
    "\\end{array}\\right]\\left[\\begin{array}{cc}\n",
    "0.7071 & -0.7071 \\\\\n",
    "0.7071 & 0.7071\n",
    "\\end{array}\\right]\\left[\\begin{array}{cc}\n",
    "0.1054 & 0 \\\\\n",
    "0 & 0.1581\n",
    "\\end{array}\\right]\n",
    "$$\n",
    "\n",
    "$$\n",
    "U=\\mathrm{AV\\Sigma}^{-1}=\\left[\\begin{array}{cc}\n",
    "8 & 4 \\\\\n",
    "1 & -7\n",
    "\\end{array}\\right]\\left[\\begin{array}{cc}\n",
    "0.0745 & -0.1118 \\\\\n",
    "0.0745 & 0.1118\n",
    "\\end{array}\\right]\n",
    "$$\n",
    "\n",
    "$$\n",
    "U=\\mathrm{AV\\Sigma}^{-1}=\\left[\\begin{array}{ll}\n",
    "0.894 & -0.4472 \\\\\n",
    "-0.447 & -0.8944\n",
    "\\end{array}\\right]\n",
    "$$"
   ]
  },
  {
   "cell_type": "markdown",
   "id": "welcome-overview",
   "metadata": {
    "id": "superb-colleague"
   },
   "source": [
    "## Proof"
   ]
  },
  {
   "cell_type": "markdown",
   "id": "favorite-video",
   "metadata": {
    "id": "polyphonic-abraham"
   },
   "source": [
    "$$\n",
    "\\mathrm{A}=\\mathrm{U\\Sigma V}^{\\top}=\\left[\\begin{array}{ll}\n",
    "0.894 & -0.4472 \\\\\n",
    "-0.447 & -0.8944\n",
    "\\end{array}\\right]\\left[\\begin{array}{ll}\n",
    "9.4868 & 0 \\\\\n",
    "0 & 6.3245\n",
    "\\end{array}\\right]\\left[\\begin{array}{ll}\n",
    "0.7071 & -0.7071 \\\\\n",
    "0.7071 & 0.7071\n",
    "\\end{array}\\right]\n",
    "$$\n",
    "\n",
    "$$\n",
    "\\mathbf{A}=\\mathrm{U\\Sigma V}^{\\boldsymbol{\\top}}=\\left[\\begin{array}{cc}\n",
    "0.894 & -0.4472 \\\\\n",
    "-0.447 & -0.8944\n",
    "\\end{array}\\right]\\left[\\begin{array}{cc}\n",
    "6.7081 & 6.7081 \\\\\n",
    "-4.4721 & 4.4721\n",
    "\\end{array}\\right]\n",
    "$$\n",
    "\n",
    "$$\n",
    "\\mathrm{A}=\\mathrm{U\\Sigma V}^{\\top}=\\left[\\begin{array}{cc}\n",
    "7.99696452 & 3.99711828 \\\\\n",
    "1.00132554 & -6.99836694\n",
    "\\end{array}\\right] \\approx\\left[\\begin{array}{cc}\n",
    "8 & 4 \\\\\n",
    "1 & -7\n",
    "\\end{array}\\right]\n",
    "$$"
   ]
  },
  {
   "cell_type": "markdown",
   "id": "fluid-american",
   "metadata": {
    "id": "defined-funeral"
   },
   "source": [
    "**Note:** The orthogonality of the matrix V and the matrix U becomes clear by considering their eigenvectors. This\n",
    "can be proved by calculating the dot products between the column vectors - all dot products are\n",
    "equal to zero. Alternatively, we could graph them to see that they are all orthogonal."
   ]
  },
  {
   "cell_type": "markdown",
   "id": "bigger-sewing",
   "metadata": {
    "id": "authorized-radiation"
   },
   "source": [
    "# Validation of computations with NumPy"
   ]
  },
  {
   "cell_type": "code",
   "execution_count": 2,
   "id": "sexual-argument",
   "metadata": {
    "id": "excess-consumer",
    "outputId": "1efca435-53ae-4948-be58-f2d3ba56ed4c"
   },
   "outputs": [
    {
     "data": {
      "text/latex": [
       "$\\displaystyle U: $"
      ],
      "text/plain": [
       "<IPython.core.display.Math object>"
      ]
     },
     "metadata": {},
     "output_type": "display_data"
    },
    {
     "name": "stdout",
     "output_type": "stream",
     "text": [
      "[[ 0.894  -0.4472]\n",
      " [-0.447  -0.8944]]\n"
     ]
    },
    {
     "data": {
      "text/latex": [
       "$\\displaystyle \\Sigma: $"
      ],
      "text/plain": [
       "<IPython.core.display.Math object>"
      ]
     },
     "metadata": {},
     "output_type": "display_data"
    },
    {
     "name": "stdout",
     "output_type": "stream",
     "text": [
      "[[9.4868 0.    ]\n",
      " [0.     6.3245]]\n"
     ]
    },
    {
     "data": {
      "text/latex": [
       "$\\displaystyle V: $"
      ],
      "text/plain": [
       "<IPython.core.display.Math object>"
      ]
     },
     "metadata": {},
     "output_type": "display_data"
    },
    {
     "name": "stdout",
     "output_type": "stream",
     "text": [
      "[[ 0.7071 -0.7071]\n",
      " [ 0.7071  0.7071]]\n"
     ]
    }
   ],
   "source": [
    "import numpy as np\n",
    "from IPython.display import display, Math\n",
    "\n",
    "\n",
    "U = np.matrix([[0.894, -0.4472], [-0.447, -0.8944]])\n",
    "sigma = np.matrix([[9.4868, 0], [0, 6.3245]])\n",
    "V = (np.matrix([[0.7071, -0.7071], [0.7071, 0.7071]]))\n",
    "\n",
    "display(Math(r'U: '))\n",
    "print(U, )\n",
    "display(Math(r'\\Sigma: '))\n",
    "print(sigma)\n",
    "display(Math(r'V: '))\n",
    "print(V)"
   ]
  },
  {
   "cell_type": "code",
   "execution_count": 3,
   "id": "approved-lafayette",
   "metadata": {
    "id": "healthy-advice",
    "outputId": "6186d42e-6415-48fe-c78c-80f94c8511f3"
   },
   "outputs": [
    {
     "data": {
      "text/plain": [
       "matrix([[ 6.70811628,  6.70811628],\n",
       "        [-4.47205395,  4.47205395]])"
      ]
     },
     "execution_count": 3,
     "metadata": {},
     "output_type": "execute_result"
    }
   ],
   "source": [
    "intermediate_step = sigma.dot(V.T)\n",
    "intermediate_step"
   ]
  },
  {
   "cell_type": "code",
   "execution_count": 4,
   "id": "grateful-campbell",
   "metadata": {
    "id": "available-sharp",
    "outputId": "673a9e6e-5c2e-4d48-eaae-bbf94746db01"
   },
   "outputs": [
    {
     "data": {
      "text/plain": [
       "matrix([[ 8.,  4.],\n",
       "        [ 1., -7.]])"
      ]
     },
     "execution_count": 4,
     "metadata": {},
     "output_type": "execute_result"
    }
   ],
   "source": [
    "svd_proof = U.dot(intermediate_step)\n",
    "svd_proof.round(0)"
   ]
  },
  {
   "cell_type": "markdown",
   "id": "solved-applicant",
   "metadata": {
    "id": "orange-moderator"
   },
   "source": [
    "## Compute the SVD of the following matrix:"
   ]
  },
  {
   "cell_type": "markdown",
   "id": "substantial-senior",
   "metadata": {
    "id": "fleet-baghdad"
   },
   "source": [
    "$$\n",
    "A=\\left[\\begin{array}{cc}\n",
    "4 & 0 \\\\\n",
    "3 & -5\n",
    "\\end{array}\\right]\n",
    "$$"
   ]
  },
  {
   "cell_type": "markdown",
   "id": "ready-harvard",
   "metadata": {
    "id": "pressing-namibia"
   },
   "source": [
    "###  Step 1\n",
    "Compute the transponse $\\mathrm{A^T}$ and $\\mathrm{A^TA}$\n"
   ]
  },
  {
   "cell_type": "code",
   "execution_count": 9,
   "id": "3a89c289",
   "metadata": {},
   "outputs": [
    {
     "name": "stdout",
     "output_type": "stream",
     "text": [
      "A:\n",
      "[[ 4  0]\n",
      " [ 3 -5]]\n",
      "\n",
      "A^T:\n",
      "[[ 4  3]\n",
      " [ 0 -5]]\n",
      "\n",
      "A^T * A:\n",
      "[[ 25 -15]\n",
      " [-15  25]]\n"
     ]
    }
   ],
   "source": [
    "# Note: numpy.matrix creates 2D arrays and has special operations like matrix multiplication *, and matrix power **,\n",
    "# while numpy.array creates n-dimensional arrays and does not have  special matrix mathematics  operations,  \n",
    "# need to use numpy.dot for matrix multiplication and numpy.linalg.matrix_power for matrix power.\n",
    "\n",
    "#A = np.matrix([[4, 0], [3, -5]])\n",
    "A = np.array([[4, 0], [3, -5]])\n",
    "AtA = A.T.dot(A)\n",
    "\n",
    "print(f\"A:\\n{A}\")\n",
    "print()\n",
    "print(f\"A^T:\\n{A.T}\")\n",
    "print()\n",
    "print(f\"A^T * A:\\n{AtA}\")"
   ]
  },
  {
   "cell_type": "markdown",
   "id": "raising-smith",
   "metadata": {
    "id": "dangerous-listening"
   },
   "source": [
    "### **Step 2**"
   ]
  },
  {
   "cell_type": "markdown",
   "id": "proud-charm",
   "metadata": {
    "id": "liberal-dietary"
   },
   "source": [
    "In step two we determine the eigenvalues of $\\mathrm{A^T}$ and construct a diagonal matrix $\\Sigma$ by placing the singular values in descending order along the diagonal of $\\Sigma$"
   ]
  },
  {
   "cell_type": "code",
   "execution_count": 15,
   "id": "bff2e4b9",
   "metadata": {},
   "outputs": [
    {
     "name": "stdout",
     "output_type": "stream",
     "text": [
      "eigenvalues of A^T * A:\n",
      "[40. 10.]\n",
      "\n",
      "Singular values of A^T * A:\n",
      "[6.32455532 3.16227766]\n",
      "\n",
      "Singular Values Diagonal matrix Sigma:\n",
      "[[6.32455532 0.        ]\n",
      " [0.         3.16227766]]\n"
     ]
    }
   ],
   "source": [
    "# eigenvalues of A^TA\n",
    "eigenvalues = np.linalg.eig(AtA)\n",
    "print(f\"eigenvalues of A^T * A:\\n{eigenvalues[0]}\")\n",
    "print()\n",
    "# singular values of A^TA\n",
    "singular_values = np.sqrt(eigenvalues[0])\n",
    "Sigma = np.diag(singular_values)\n",
    "\n",
    "print(f\"Singular values of A^T * A:\\n{singular_values}\")\n",
    "print()\n",
    "print(f\"Singular Values Diagonal matrix Sigma:\\n{Sigma}\")\n",
    "\n",
    "# Note can derreference as eigenvalues, eigenvectors = np.linalg.eig(AtA)"
   ]
  },
  {
   "cell_type": "markdown",
   "id": "stretch-victorian",
   "metadata": {
    "id": "billion-athletics"
   },
   "source": [
    "### **Step 3**"
   ]
  },
  {
   "cell_type": "markdown",
   "id": "808b19c0",
   "metadata": {},
   "source": [
    "Compute the eigenvectors of $\\mathrm{A^TA}$ corresponding to the found eigenvalues, and form matrix $\\mathrm{V}$ with these eigenvectors as columns of a new matrix, compute the transpose $\\mathrm{V^T}$."
   ]
  },
  {
   "cell_type": "code",
   "execution_count": 16,
   "id": "3eb92220",
   "metadata": {},
   "outputs": [
    {
     "name": "stdout",
     "output_type": "stream",
     "text": [
      "V:\n",
      "[[ 0.70710678  0.70710678]\n",
      " [-0.70710678  0.70710678]]\n",
      "\n",
      "V^T:\n",
      "[[ 0.70710678 -0.70710678]\n",
      " [ 0.70710678  0.70710678]]\n"
     ]
    }
   ],
   "source": [
    "V = eigenvalues[1]\n",
    "Vt = V.T\n",
    "\n",
    "print(f\"V:\\n{V}\")\n",
    "print()\n",
    "print(f\"V^T:\\n{Vt}\")"
   ]
  },
  {
   "cell_type": "markdown",
   "id": "closed-return",
   "metadata": {
    "id": "nominated-disease"
   },
   "source": [
    "### **Step 4**"
   ]
  },
  {
   "cell_type": "markdown",
   "id": "21eefaad",
   "metadata": {},
   "source": [
    "Form as diagonal matrix $\\Sigma$ with $\\mathrm{A^TA}$ singular  values along its diagonal"
   ]
  },
  {
   "cell_type": "code",
   "execution_count": 18,
   "id": "ee35b0c4",
   "metadata": {},
   "outputs": [
    {
     "name": "stdout",
     "output_type": "stream",
     "text": [
      "Sigma:\n",
      "[[6.32455532 0.        ]\n",
      " [0.         3.16227766]]\n",
      "\n",
      "Sigma inverse:\n",
      "[[0.15811388 0.        ]\n",
      " [0.         0.31622777]]\n"
     ]
    }
   ],
   "source": [
    "sigma = np.sqrt(eigenvalues[0])\n",
    "Sigma = np.diag(sigma)\n",
    "\n",
    "print(f\"Sigma:\\n{Sigma}\")\n",
    "print()\n",
    "print(f\"Sigma inverse:\\n{np.linalg.inv(Sigma)}\")"
   ]
  },
  {
   "cell_type": "markdown",
   "id": "junior-registration",
   "metadata": {
    "id": "fifty-replication"
   },
   "source": [
    "### **Step 5**"
   ]
  },
  {
   "cell_type": "markdown",
   "id": "3381b6e0",
   "metadata": {},
   "source": [
    "Compute matrix $\\mathrm{U}$ as $U$ = $AV\\Sigma^{-1}$"
   ]
  },
  {
   "cell_type": "code",
   "execution_count": 19,
   "id": "7b6c13a2",
   "metadata": {},
   "outputs": [
    {
     "name": "stdout",
     "output_type": "stream",
     "text": [
      "U:\n",
      "[[ 0.4472136   0.89442719]\n",
      " [ 0.89442719 -0.4472136 ]]\n"
     ]
    }
   ],
   "source": [
    "U = A.dot(V).dot(np.linalg.inv(np.diag(sigma)))\n",
    "print(f\"U:\\n{U}\")"
   ]
  },
  {
   "cell_type": "markdown",
   "id": "stopped-seventh",
   "metadata": {
    "id": "challenging-timothy"
   },
   "source": [
    "## Check"
   ]
  },
  {
   "cell_type": "markdown",
   "id": "environmental-transport",
   "metadata": {
    "id": "compact-hydrogen"
   },
   "source": [
    "Confirm  that \n",
    "$$\n",
    "\\mathrm{A}=\\mathrm{U\\Sigma V}^{\\top}\n"
   ]
  },
  {
   "cell_type": "code",
   "execution_count": 21,
   "id": "a19a4bcb",
   "metadata": {},
   "outputs": [
    {
     "name": "stdout",
     "output_type": "stream",
     "text": [
      "The matrix computed as U * Sigma * V^T:\n",
      "[[ 4.  0.]\n",
      " [ 3. -5.]]\n",
      "\n",
      "The original matrix A:\n",
      "[[ 4  0]\n",
      " [ 3 -5]]\n"
     ]
    }
   ],
   "source": [
    "print(f\"The matrix computed as U * Sigma * V^T:\\n{U.dot(Sigma).dot(Vt)}\")\n",
    "print()\n",
    "print(f\"The original matrix A:\\n{A}\")"
   ]
  },
  {
   "cell_type": "code",
   "execution_count": 23,
   "id": "b989c173",
   "metadata": {},
   "outputs": [
    {
     "data": {
      "text/latex": [
       "$\\displaystyle \\frac{3 x - 5}{x^{2} - 2 x + 2} + 5 \\operatorname{atan}{\\left(x - 1 \\right)}$"
      ],
      "text/plain": [
       "<IPython.core.display.Math object>"
      ]
     },
     "metadata": {},
     "output_type": "display_data"
    }
   ],
   "source": [
    "import sympy\n",
    "from IPython.display import display, Math\n",
    "\n",
    "x = sympy.symbols('x')\n",
    "expr = (2*x**2 + 6) / (x**2 - 2*x + 2)**2\n",
    "#expr = x / sympy.sqrt(x**2 + x + 2)\n",
    "integral = sympy.integrate(expr, x)\n",
    "\n",
    "# Convert to LaTeX and display\n",
    "latex_integral = sympy.latex(integral)\n",
    "display(Math(latex_integral))"
   ]
  }
 ],
 "metadata": {
  "colab": {
   "provenance": []
  },
  "kernelspec": {
   "display_name": "Python 3",
   "language": "python",
   "name": "python3"
  },
  "language_info": {
   "codemirror_mode": {
    "name": "ipython",
    "version": 3
   },
   "file_extension": ".py",
   "mimetype": "text/x-python",
   "name": "python",
   "nbconvert_exporter": "python",
   "pygments_lexer": "ipython3",
   "version": "3.11.5"
  },
  "toc": {
   "base_numbering": 1,
   "nav_menu": {},
   "number_sections": false,
   "sideBar": true,
   "skip_h1_title": false,
   "title_cell": "Table of Contents",
   "title_sidebar": "Contents",
   "toc_cell": false,
   "toc_position": {},
   "toc_section_display": true,
   "toc_window_display": true
  },
  "varInspector": {
   "cols": {
    "lenName": 16,
    "lenType": 16,
    "lenVar": 40
   },
   "kernels_config": {
    "python": {
     "delete_cmd_postfix": "",
     "delete_cmd_prefix": "del ",
     "library": "var_list.py",
     "varRefreshCmd": "print(var_dic_list())"
    },
    "r": {
     "delete_cmd_postfix": ") ",
     "delete_cmd_prefix": "rm(",
     "library": "var_list.r",
     "varRefreshCmd": "cat(var_dic_list()) "
    }
   },
   "types_to_exclude": [
    "module",
    "function",
    "builtin_function_or_method",
    "instance",
    "_Feature"
   ],
   "window_display": false
  }
 },
 "nbformat": 4,
 "nbformat_minor": 5
}
