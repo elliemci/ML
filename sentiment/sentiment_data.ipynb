{
 "cells": [
  {
   "cell_type": "markdown",
   "id": "given-wednesday",
   "metadata": {},
   "source": [
    "# Notebook  Tasks"
   ]
  },
  {
   "cell_type": "markdown",
   "id": "modular-adrian",
   "metadata": {},
   "source": [
    "Create the data needed for the model\n",
    "1. A `for i in loop`, so that:\n",
    "    - The `name` is composed of the `data folder` the index of the loop and the fileformat which is `.csv`. \n",
    "    - The new `df` reads that name\n",
    "    - Use the `['tweet']` column for `df` to create a new dataframe named `df_2`.\n",
    "    - Create a new column for `df_2` with the name `channel` and use `i` to assign the name. \n",
    "2. Find out if the `data` passed in as a parameter into the function `contains` the `str` of the `name_1` and `name_2` paramenter of that function"
   ]
  },
  {
   "cell_type": "code",
   "execution_count": 1,
   "id": "sharp-brooks",
   "metadata": {},
   "outputs": [],
   "source": [
    "# standard imports\n",
    "import os\n",
    "import numpy as np\n",
    "import pandas as pd\n",
    "\n",
    "# ignore warnings\n",
    "import warnings\n",
    "warnings.filterwarnings(action='ignore')\n"
   ]
  },
  {
   "cell_type": "code",
   "execution_count": 3,
   "id": "changed-sword",
   "metadata": {},
   "outputs": [
    {
     "name": "stdout",
     "output_type": "stream",
     "text": [
      "BLaw.csv                               economistimpact.csv\n",
      "CNN.csv                                forbes.csv\n",
      "Investor_Business_Daily_IBD_PSeitz.csv fttechnews.csv\n",
      "TIME.csv                               nytimes.csv\n",
      "WSJTech.csv                            tweets.csv\n",
      "bloomberg.csv                          wired.csv\n"
     ]
    }
   ],
   "source": [
    "!ls 'data/'"
   ]
  },
  {
   "cell_type": "code",
   "execution_count": 4,
   "id": "little-mechanics",
   "metadata": {},
   "outputs": [
    {
     "name": "stdout",
     "output_type": "stream",
     "text": [
      "['economistimpact.csv', 'forbes.csv', 'wired.csv', 'fttechnews.csv', 'bloomberg.csv', 'WSJTech.csv', 'CNN.csv', 'Investor_Business_Daily_IBD_PSeitz.csv', 'BLaw.csv', 'nytimes.csv', 'tweets.csv', 'TIME.csv']\n"
     ]
    }
   ],
   "source": [
    "# folder path\n",
    "dir_path = r'data/'\n",
    "\n",
    "# list files in directory\n",
    "res = os.listdir(dir_path)\n",
    "print(res)"
   ]
  },
  {
   "cell_type": "markdown",
   "id": "specific-undergraduate",
   "metadata": {},
   "source": [
    "Write a `for i in` loop, so that:\n",
    "- The `name` is composed of the `data folder` the index of the loop and the fileformat which is `.csv`. \n",
    "- The new `df` reads that name.\n",
    "- Use just the `['tweet']` column for `df` to create a new dataframe named `df_2`.\n",
    "- Create a new column for `df_2` with the name `channel` and use `i` to assign the name.\n",
    "\n",
    "**Note:** Helpful when creating your dataset from hundreds  sources. Can use [itertools](https://docs.python.org/3/library/itertools.html) from the Python standard library to get a more efficient loop and to create the new data frame."
   ]
  },
  {
   "cell_type": "code",
   "execution_count": 5,
   "id": "choice-biology",
   "metadata": {},
   "outputs": [],
   "source": [
    "# forbes == Forbes Tech, bloomberg == Bloomberg Tech, BLaw == Bloomberg Law\n",
    "# list with magazines to be used\n",
    "magazines = ['forbes','bloomberg', 'wired','BLaw']"
   ]
  },
  {
   "cell_type": "code",
   "execution_count": 6,
   "id": "f8ac785d",
   "metadata": {},
   "outputs": [
    {
     "data": {
      "text/plain": [
       "'forbes'"
      ]
     },
     "execution_count": 6,
     "metadata": {},
     "output_type": "execute_result"
    }
   ],
   "source": [
    "magazines[0]"
   ]
  },
  {
   "cell_type": "code",
   "execution_count": 7,
   "id": "cordless-understanding",
   "metadata": {
    "scrolled": true
   },
   "outputs": [],
   "source": [
    "# create an empty dataframe\n",
    "data = pd.DataFrame()\n",
    "\n",
    "# loop over the list of magazines\n",
    "for i in (magazines): \n",
    "    name = i\n",
    "    #  read cvs file into pandas dataframe   \n",
    "    df = pd.read_csv(dir_path + '/' + name + '.csv')\n",
    "    #use  the  tweet column of df  to  create a new dataframe df_2\n",
    "    df_2 = pd.DataFrame()\n",
    "    df_2[\"tweet\"]= df[\"tweet\"]\n",
    "    df_2[\"channel\"] = name \n",
    "    # vertecly stack the dataframe to the empty dataframe\n",
    "    data = pd.concat([data, df_2], axis=0)"
   ]
  },
  {
   "cell_type": "code",
   "execution_count": 9,
   "id": "ca85e2f7",
   "metadata": {},
   "outputs": [
    {
     "data": {
      "text/html": [
       "<div>\n",
       "<style scoped>\n",
       "    .dataframe tbody tr th:only-of-type {\n",
       "        vertical-align: middle;\n",
       "    }\n",
       "\n",
       "    .dataframe tbody tr th {\n",
       "        vertical-align: top;\n",
       "    }\n",
       "\n",
       "    .dataframe thead th {\n",
       "        text-align: right;\n",
       "    }\n",
       "</style>\n",
       "<table border=\"1\" class=\"dataframe\">\n",
       "  <thead>\n",
       "    <tr style=\"text-align: right;\">\n",
       "      <th></th>\n",
       "      <th>tweet</th>\n",
       "      <th>channel</th>\n",
       "    </tr>\n",
       "  </thead>\n",
       "  <tbody>\n",
       "    <tr>\n",
       "      <th>0</th>\n",
       "      <td>Adidas Headphones Announces Self-Charging Wire...</td>\n",
       "      <td>forbes</td>\n",
       "    </tr>\n",
       "    <tr>\n",
       "      <th>1</th>\n",
       "      <td>Apple’s Coolest New iPhone Feature Just Got Be...</td>\n",
       "      <td>forbes</td>\n",
       "    </tr>\n",
       "    <tr>\n",
       "      <th>2</th>\n",
       "      <td>The Hidden Power Of Samsung’s New Foldable Gal...</td>\n",
       "      <td>forbes</td>\n",
       "    </tr>\n",
       "    <tr>\n",
       "      <th>3</th>\n",
       "      <td>AI Ethics And The Geopolitical Wrestling Match...</td>\n",
       "      <td>forbes</td>\n",
       "    </tr>\n",
       "    <tr>\n",
       "      <th>4</th>\n",
       "      <td>Qualcomm AI Research Innovates 3D Perception T...</td>\n",
       "      <td>forbes</td>\n",
       "    </tr>\n",
       "  </tbody>\n",
       "</table>\n",
       "</div>"
      ],
      "text/plain": [
       "                                               tweet channel\n",
       "0  Adidas Headphones Announces Self-Charging Wire...  forbes\n",
       "1  Apple’s Coolest New iPhone Feature Just Got Be...  forbes\n",
       "2  The Hidden Power Of Samsung’s New Foldable Gal...  forbes\n",
       "3  AI Ethics And The Geopolitical Wrestling Match...  forbes\n",
       "4  Qualcomm AI Research Innovates 3D Perception T...  forbes"
      ]
     },
     "execution_count": 9,
     "metadata": {},
     "output_type": "execute_result"
    }
   ],
   "source": [
    "data.head()"
   ]
  },
  {
   "cell_type": "markdown",
   "id": "celtic-durham",
   "metadata": {},
   "source": [
    "Check if the `data` passed in as a parameter into the function `contains` the `str` of the `name_1` and `name_2` paramenters of that fucntion."
   ]
  },
  {
   "cell_type": "code",
   "execution_count": 10,
   "id": "6f8551cb",
   "metadata": {},
   "outputs": [
    {
     "data": {
      "text/plain": [
       "0      0\n",
       "1      1\n",
       "2      0\n",
       "3      0\n",
       "4      0\n",
       "      ..\n",
       "455    0\n",
       "456    0\n",
       "457    0\n",
       "458    0\n",
       "459    0\n",
       "Name: tweet, Length: 1138, dtype: int64"
      ]
     },
     "execution_count": 10,
     "metadata": {},
     "output_type": "execute_result"
    }
   ],
   "source": [
    "data['tweet'].str.contains(\"Apple\", case=False).astype(int)"
   ]
  },
  {
   "cell_type": "code",
   "execution_count": 11,
   "id": "synthetic-think",
   "metadata": {
    "code_folding": []
   },
   "outputs": [],
   "source": [
    "def constains_name(data, name_1, name_2):\n",
    "    \"\"\"\n",
    "    A kind of  one-hot encoding, the function converts a  given name value into a new \n",
    "    categorical column and assign a binary value of 1 or 0 to those columns.\n",
    "    \"\"\"\n",
    "    # add a column name_2 and assign 1 if the name_1 can be found and 0 if it can't be found in the tweet\n",
    "    data[name_2] = data['tweet'].str.contains(name_1, case=False).astype(int)\n",
    "\n",
    "    return data"
   ]
  },
  {
   "cell_type": "code",
   "execution_count": 12,
   "id": "covered-alberta",
   "metadata": {},
   "outputs": [],
   "source": [
    "search_term_list = ['Apple', 'Tesla', 'Google']\n",
    "col_header_list = ['apple', 'tesla', 'google']"
   ]
  },
  {
   "cell_type": "code",
   "execution_count": 13,
   "id": "married-integration",
   "metadata": {},
   "outputs": [],
   "source": [
    "# add magazines to dataframe using the function\n",
    "for search, col in zip(search_term_list, col_header_list):\n",
    "    data = constains_name(data, search, col)"
   ]
  },
  {
   "cell_type": "code",
   "execution_count": 14,
   "id": "b111e3ab",
   "metadata": {},
   "outputs": [
    {
     "data": {
      "text/html": [
       "<div>\n",
       "<style scoped>\n",
       "    .dataframe tbody tr th:only-of-type {\n",
       "        vertical-align: middle;\n",
       "    }\n",
       "\n",
       "    .dataframe tbody tr th {\n",
       "        vertical-align: top;\n",
       "    }\n",
       "\n",
       "    .dataframe thead th {\n",
       "        text-align: right;\n",
       "    }\n",
       "</style>\n",
       "<table border=\"1\" class=\"dataframe\">\n",
       "  <thead>\n",
       "    <tr style=\"text-align: right;\">\n",
       "      <th></th>\n",
       "      <th>tweet</th>\n",
       "      <th>channel</th>\n",
       "      <th>apple</th>\n",
       "      <th>tesla</th>\n",
       "      <th>google</th>\n",
       "    </tr>\n",
       "  </thead>\n",
       "  <tbody>\n",
       "    <tr>\n",
       "      <th>0</th>\n",
       "      <td>Adidas Headphones Announces Self-Charging Wire...</td>\n",
       "      <td>forbes</td>\n",
       "      <td>0</td>\n",
       "      <td>0</td>\n",
       "      <td>0</td>\n",
       "    </tr>\n",
       "    <tr>\n",
       "      <th>1</th>\n",
       "      <td>Apple’s Coolest New iPhone Feature Just Got Be...</td>\n",
       "      <td>forbes</td>\n",
       "      <td>1</td>\n",
       "      <td>0</td>\n",
       "      <td>0</td>\n",
       "    </tr>\n",
       "    <tr>\n",
       "      <th>2</th>\n",
       "      <td>The Hidden Power Of Samsung’s New Foldable Gal...</td>\n",
       "      <td>forbes</td>\n",
       "      <td>0</td>\n",
       "      <td>0</td>\n",
       "      <td>0</td>\n",
       "    </tr>\n",
       "    <tr>\n",
       "      <th>3</th>\n",
       "      <td>AI Ethics And The Geopolitical Wrestling Match...</td>\n",
       "      <td>forbes</td>\n",
       "      <td>0</td>\n",
       "      <td>0</td>\n",
       "      <td>0</td>\n",
       "    </tr>\n",
       "    <tr>\n",
       "      <th>4</th>\n",
       "      <td>Qualcomm AI Research Innovates 3D Perception T...</td>\n",
       "      <td>forbes</td>\n",
       "      <td>0</td>\n",
       "      <td>0</td>\n",
       "      <td>0</td>\n",
       "    </tr>\n",
       "    <tr>\n",
       "      <th>5</th>\n",
       "      <td>Charge Enterprises Sees Red In Q2 But It’s Ros...</td>\n",
       "      <td>forbes</td>\n",
       "      <td>0</td>\n",
       "      <td>0</td>\n",
       "      <td>0</td>\n",
       "    </tr>\n",
       "    <tr>\n",
       "      <th>6</th>\n",
       "      <td>The New Economy Monetizes Consumer Impatience ...</td>\n",
       "      <td>forbes</td>\n",
       "      <td>0</td>\n",
       "      <td>0</td>\n",
       "      <td>0</td>\n",
       "    </tr>\n",
       "    <tr>\n",
       "      <th>7</th>\n",
       "      <td>New Report Shows Apple Mulling Brilliant iPhon...</td>\n",
       "      <td>forbes</td>\n",
       "      <td>1</td>\n",
       "      <td>0</td>\n",
       "      <td>0</td>\n",
       "    </tr>\n",
       "    <tr>\n",
       "      <th>8</th>\n",
       "      <td>Gmail And GPay Cookies Targeted By New Smartph...</td>\n",
       "      <td>forbes</td>\n",
       "      <td>0</td>\n",
       "      <td>0</td>\n",
       "      <td>0</td>\n",
       "    </tr>\n",
       "    <tr>\n",
       "      <th>9</th>\n",
       "      <td>The Q Acoustics Concept 30 Speakers Are Packed...</td>\n",
       "      <td>forbes</td>\n",
       "      <td>0</td>\n",
       "      <td>0</td>\n",
       "      <td>0</td>\n",
       "    </tr>\n",
       "  </tbody>\n",
       "</table>\n",
       "</div>"
      ],
      "text/plain": [
       "                                               tweet channel  apple  tesla  \\\n",
       "0  Adidas Headphones Announces Self-Charging Wire...  forbes      0      0   \n",
       "1  Apple’s Coolest New iPhone Feature Just Got Be...  forbes      1      0   \n",
       "2  The Hidden Power Of Samsung’s New Foldable Gal...  forbes      0      0   \n",
       "3  AI Ethics And The Geopolitical Wrestling Match...  forbes      0      0   \n",
       "4  Qualcomm AI Research Innovates 3D Perception T...  forbes      0      0   \n",
       "5  Charge Enterprises Sees Red In Q2 But It’s Ros...  forbes      0      0   \n",
       "6  The New Economy Monetizes Consumer Impatience ...  forbes      0      0   \n",
       "7  New Report Shows Apple Mulling Brilliant iPhon...  forbes      1      0   \n",
       "8  Gmail And GPay Cookies Targeted By New Smartph...  forbes      0      0   \n",
       "9  The Q Acoustics Concept 30 Speakers Are Packed...  forbes      0      0   \n",
       "\n",
       "   google  \n",
       "0       0  \n",
       "1       0  \n",
       "2       0  \n",
       "3       0  \n",
       "4       0  \n",
       "5       0  \n",
       "6       0  \n",
       "7       0  \n",
       "8       0  \n",
       "9       0  "
      ]
     },
     "execution_count": 14,
     "metadata": {},
     "output_type": "execute_result"
    }
   ],
   "source": [
    "data.head(10)"
   ]
  },
  {
   "cell_type": "markdown",
   "id": "contrary-michigan",
   "metadata": {},
   "source": [
    "# Save to Files"
   ]
  },
  {
   "cell_type": "code",
   "execution_count": 15,
   "id": "approximate-blake",
   "metadata": {},
   "outputs": [],
   "source": [
    "data.to_csv('data/tweets.csv', index=None)"
   ]
  }
 ],
 "metadata": {
  "kernelspec": {
   "display_name": "Python 3",
   "language": "python",
   "name": "python3"
  },
  "language_info": {
   "codemirror_mode": {
    "name": "ipython",
    "version": 3
   },
   "file_extension": ".py",
   "mimetype": "text/x-python",
   "name": "python",
   "nbconvert_exporter": "python",
   "pygments_lexer": "ipython3",
   "version": "3.11.5"
  },
  "toc": {
   "base_numbering": 1,
   "nav_menu": {},
   "number_sections": false,
   "sideBar": true,
   "skip_h1_title": false,
   "title_cell": "Table of Contents",
   "title_sidebar": "Contents",
   "toc_cell": false,
   "toc_position": {},
   "toc_section_display": true,
   "toc_window_display": true
  },
  "varInspector": {
   "cols": {
    "lenName": 16,
    "lenType": 16,
    "lenVar": 40
   },
   "kernels_config": {
    "python": {
     "delete_cmd_postfix": "",
     "delete_cmd_prefix": "del ",
     "library": "var_list.py",
     "varRefreshCmd": "print(var_dic_list())"
    },
    "r": {
     "delete_cmd_postfix": ") ",
     "delete_cmd_prefix": "rm(",
     "library": "var_list.r",
     "varRefreshCmd": "cat(var_dic_list()) "
    }
   },
   "types_to_exclude": [
    "module",
    "function",
    "builtin_function_or_method",
    "instance",
    "_Feature"
   ],
   "window_display": false
  }
 },
 "nbformat": 4,
 "nbformat_minor": 5
}
