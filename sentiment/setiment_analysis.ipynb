{
 "cells": [
  {
   "cell_type": "markdown",
   "id": "accepting-fashion",
   "metadata": {
    "id": "forced-commissioner"
   },
   "source": [
    "# Analyze the Media Sentiment from Predictions"
   ]
  },
  {
   "cell_type": "markdown",
   "id": "technological-anthropology",
   "metadata": {
    "id": "grand-bathroom"
   },
   "source": [
    "Analyze the sentiment from the predictions made with predict_sentiment.ipynb, paying attention to negative sentiment as possiblee indicator of greenwashing: <br>\n",
    "\n",
    "1. Replace in `df_pred['sentiment']` the numbers of the prediction with the correct `string` mapping of the sentiment, e. g. `1` has the value `neutral`. \n",
    "2. Sum up the `relevant` column of the data frame, get the total of the tweets and then calculate the percentage of the relevant tweets. \n",
    "3. Use the `groupby` function to sum up `['channel','sentiment']`. \n",
    "4. Complete the loop of the function below, so that we locate (`loc`), the `sentiment` that is == to the loops index and the `data[company] == 1`. \n",
    "5. Access the negative tweet of the dataframe above which is on the $4^{th}$ index of the dataframe. And then access the link of the tweet to validate that you can access the actual article about that negative news on the internet. "
   ]
  },
  {
   "cell_type": "code",
   "execution_count": 5,
   "id": "african-badge",
   "metadata": {
    "id": "tight-conversion"
   },
   "outputs": [],
   "source": [
    "# standard imports\n",
    "import pandas as pd\n",
    "#import gdown\n",
    "\n",
    "# plotting imports\n",
    "import matplotlib.pyplot as plt\n",
    "import seaborn as sns\n",
    "\n",
    "import warnings\n",
    "warnings.filterwarnings(action='ignore')\n"
   ]
  },
  {
   "cell_type": "markdown",
   "id": "happy-three",
   "metadata": {
    "id": "twenty-printer"
   },
   "source": [
    "# Get the prerdiction data"
   ]
  },
  {
   "cell_type": "code",
   "execution_count": 6,
   "id": "streaming-request",
   "metadata": {
    "id": "pursuant-mechanism"
   },
   "outputs": [],
   "source": [
    "PATH = 'data/'"
   ]
  },
  {
   "cell_type": "code",
   "execution_count": 7,
   "id": "moderate-stockholm",
   "metadata": {
    "id": "ecological-thumbnail",
    "outputId": "34e76651-fac2-44f8-9ea2-6225bf593ddd"
   },
   "outputs": [
    {
     "data": {
      "text/html": [
       "<div>\n",
       "<style scoped>\n",
       "    .dataframe tbody tr th:only-of-type {\n",
       "        vertical-align: middle;\n",
       "    }\n",
       "\n",
       "    .dataframe tbody tr th {\n",
       "        vertical-align: top;\n",
       "    }\n",
       "\n",
       "    .dataframe thead th {\n",
       "        text-align: right;\n",
       "    }\n",
       "</style>\n",
       "<table border=\"1\" class=\"dataframe\">\n",
       "  <thead>\n",
       "    <tr style=\"text-align: right;\">\n",
       "      <th></th>\n",
       "      <th>tweet</th>\n",
       "      <th>channel</th>\n",
       "      <th>apple</th>\n",
       "      <th>tesla</th>\n",
       "      <th>google</th>\n",
       "      <th>meta</th>\n",
       "      <th>input_ids</th>\n",
       "      <th>attention_mask</th>\n",
       "      <th>sentiment</th>\n",
       "    </tr>\n",
       "  </thead>\n",
       "  <tbody>\n",
       "    <tr>\n",
       "      <th>0</th>\n",
       "      <td>Adidas Headphones Announces Self-Charging Wire...</td>\n",
       "      <td>forbes</td>\n",
       "      <td>0</td>\n",
       "      <td>0</td>\n",
       "      <td>0</td>\n",
       "      <td>0</td>\n",
       "      <td>[    0  9167 19926  3928 15797  3921 24744 121...</td>\n",
       "      <td>[1 1 1 1 1 1 1 1 1 1 1 1 1 1 1 1 1 1 1 1 1 1 1...</td>\n",
       "      <td>1</td>\n",
       "    </tr>\n",
       "    <tr>\n",
       "      <th>1</th>\n",
       "      <td>Apple’s Coolest New iPhone Feature Just Got Be...</td>\n",
       "      <td>forbes</td>\n",
       "      <td>1</td>\n",
       "      <td>0</td>\n",
       "      <td>0</td>\n",
       "      <td>0</td>\n",
       "      <td>[    0 20770    17    27    29 12487   990   1...</td>\n",
       "      <td>[1 1 1 1 1 1 1 1 1 1 1 1 1 1 1 1 1 1 1 1 1 1 1...</td>\n",
       "      <td>2</td>\n",
       "    </tr>\n",
       "    <tr>\n",
       "      <th>2</th>\n",
       "      <td>The Hidden Power Of Samsung’s New Foldable Gal...</td>\n",
       "      <td>forbes</td>\n",
       "      <td>0</td>\n",
       "      <td>0</td>\n",
       "      <td>0</td>\n",
       "      <td>0</td>\n",
       "      <td>[    0   133 26234  3029  1525  3797    17    ...</td>\n",
       "      <td>[1 1 1 1 1 1 1 1 1 1 1 1 1 1 1 1 1 1 1 1 1 1 1...</td>\n",
       "      <td>1</td>\n",
       "    </tr>\n",
       "    <tr>\n",
       "      <th>3</th>\n",
       "      <td>AI Ethics And The Geopolitical Wrestling Match...</td>\n",
       "      <td>forbes</td>\n",
       "      <td>0</td>\n",
       "      <td>0</td>\n",
       "      <td>0</td>\n",
       "      <td>0</td>\n",
       "      <td>[    0 15238 20138   178    20  4177  1517 371...</td>\n",
       "      <td>[1 1 1 1 1 1 1 1 1 1 1 1 1 1 1 1 1 1 1 1 1 1 1...</td>\n",
       "      <td>1</td>\n",
       "    </tr>\n",
       "    <tr>\n",
       "      <th>4</th>\n",
       "      <td>Qualcomm AI Research Innovates 3D Perception T...</td>\n",
       "      <td>forbes</td>\n",
       "      <td>0</td>\n",
       "      <td>0</td>\n",
       "      <td>0</td>\n",
       "      <td>0</td>\n",
       "      <td>[    0 42170 24302  4687  1624 20067  1626   1...</td>\n",
       "      <td>[1 1 1 1 1 1 1 1 1 1 1 1 1 1 1 1 1 1 1 1 1 1 1...</td>\n",
       "      <td>1</td>\n",
       "    </tr>\n",
       "  </tbody>\n",
       "</table>\n",
       "</div>"
      ],
      "text/plain": [
       "                                               tweet channel  apple  tesla  \\\n",
       "0  Adidas Headphones Announces Self-Charging Wire...  forbes      0      0   \n",
       "1  Apple’s Coolest New iPhone Feature Just Got Be...  forbes      1      0   \n",
       "2  The Hidden Power Of Samsung’s New Foldable Gal...  forbes      0      0   \n",
       "3  AI Ethics And The Geopolitical Wrestling Match...  forbes      0      0   \n",
       "4  Qualcomm AI Research Innovates 3D Perception T...  forbes      0      0   \n",
       "\n",
       "   google  meta                                          input_ids  \\\n",
       "0       0     0  [    0  9167 19926  3928 15797  3921 24744 121...   \n",
       "1       0     0  [    0 20770    17    27    29 12487   990   1...   \n",
       "2       0     0  [    0   133 26234  3029  1525  3797    17    ...   \n",
       "3       0     0  [    0 15238 20138   178    20  4177  1517 371...   \n",
       "4       0     0  [    0 42170 24302  4687  1624 20067  1626   1...   \n",
       "\n",
       "                                      attention_mask  sentiment  \n",
       "0  [1 1 1 1 1 1 1 1 1 1 1 1 1 1 1 1 1 1 1 1 1 1 1...          1  \n",
       "1  [1 1 1 1 1 1 1 1 1 1 1 1 1 1 1 1 1 1 1 1 1 1 1...          2  \n",
       "2  [1 1 1 1 1 1 1 1 1 1 1 1 1 1 1 1 1 1 1 1 1 1 1...          1  \n",
       "3  [1 1 1 1 1 1 1 1 1 1 1 1 1 1 1 1 1 1 1 1 1 1 1...          1  \n",
       "4  [1 1 1 1 1 1 1 1 1 1 1 1 1 1 1 1 1 1 1 1 1 1 1...          1  "
      ]
     },
     "execution_count": 7,
     "metadata": {},
     "output_type": "execute_result"
    }
   ],
   "source": [
    "# load the sentiment prediction data generated in predict_sentiment.ipynb notebook\n",
    "df = pd.read_csv(PATH + 'results_df.csv')\n",
    "df.head()"
   ]
  },
  {
   "cell_type": "code",
   "execution_count": 9,
   "id": "structural-entrepreneur",
   "metadata": {
    "id": "worthy-preserve",
    "outputId": "256b4e3b-601b-4f39-9e61-cd2226d8bbb8"
   },
   "outputs": [
    {
     "data": {
      "text/html": [
       "<div>\n",
       "<style scoped>\n",
       "    .dataframe tbody tr th:only-of-type {\n",
       "        vertical-align: middle;\n",
       "    }\n",
       "\n",
       "    .dataframe tbody tr th {\n",
       "        vertical-align: top;\n",
       "    }\n",
       "\n",
       "    .dataframe thead th {\n",
       "        text-align: right;\n",
       "    }\n",
       "</style>\n",
       "<table border=\"1\" class=\"dataframe\">\n",
       "  <thead>\n",
       "    <tr style=\"text-align: right;\">\n",
       "      <th></th>\n",
       "      <th>channel</th>\n",
       "      <th>apple</th>\n",
       "      <th>tesla</th>\n",
       "      <th>google</th>\n",
       "      <th>meta</th>\n",
       "      <th>sentiment</th>\n",
       "    </tr>\n",
       "  </thead>\n",
       "  <tbody>\n",
       "    <tr>\n",
       "      <th>0</th>\n",
       "      <td>forbes</td>\n",
       "      <td>0</td>\n",
       "      <td>0</td>\n",
       "      <td>0</td>\n",
       "      <td>0</td>\n",
       "      <td>1</td>\n",
       "    </tr>\n",
       "    <tr>\n",
       "      <th>1</th>\n",
       "      <td>forbes</td>\n",
       "      <td>1</td>\n",
       "      <td>0</td>\n",
       "      <td>0</td>\n",
       "      <td>0</td>\n",
       "      <td>2</td>\n",
       "    </tr>\n",
       "    <tr>\n",
       "      <th>2</th>\n",
       "      <td>forbes</td>\n",
       "      <td>0</td>\n",
       "      <td>0</td>\n",
       "      <td>0</td>\n",
       "      <td>0</td>\n",
       "      <td>1</td>\n",
       "    </tr>\n",
       "    <tr>\n",
       "      <th>3</th>\n",
       "      <td>forbes</td>\n",
       "      <td>0</td>\n",
       "      <td>0</td>\n",
       "      <td>0</td>\n",
       "      <td>0</td>\n",
       "      <td>1</td>\n",
       "    </tr>\n",
       "    <tr>\n",
       "      <th>4</th>\n",
       "      <td>forbes</td>\n",
       "      <td>0</td>\n",
       "      <td>0</td>\n",
       "      <td>0</td>\n",
       "      <td>0</td>\n",
       "      <td>1</td>\n",
       "    </tr>\n",
       "  </tbody>\n",
       "</table>\n",
       "</div>"
      ],
      "text/plain": [
       "  channel  apple  tesla  google  meta  sentiment\n",
       "0  forbes      0      0       0     0          1\n",
       "1  forbes      1      0       0     0          2\n",
       "2  forbes      0      0       0     0          1\n",
       "3  forbes      0      0       0     0          1\n",
       "4  forbes      0      0       0     0          1"
      ]
     },
     "execution_count": 9,
     "metadata": {},
     "output_type": "execute_result"
    }
   ],
   "source": [
    "df_pred = df[['channel', 'apple', 'tesla','google', 'meta', 'sentiment']]\n",
    "df_pred.head()"
   ]
  },
  {
   "cell_type": "markdown",
   "id": "dense-length",
   "metadata": {
    "id": "honest-stuart"
   },
   "source": [
    "Replace in `df_pred['sentiment']` the numbers of the prediction with the correct `string` mapping of the sentiment, e. g. `1` has the value `neutral`. "
   ]
  },
  {
   "cell_type": "code",
   "execution_count": 10,
   "id": "ba8aec74",
   "metadata": {},
   "outputs": [
    {
     "data": {
      "text/html": [
       "<div>\n",
       "<style scoped>\n",
       "    .dataframe tbody tr th:only-of-type {\n",
       "        vertical-align: middle;\n",
       "    }\n",
       "\n",
       "    .dataframe tbody tr th {\n",
       "        vertical-align: top;\n",
       "    }\n",
       "\n",
       "    .dataframe thead th {\n",
       "        text-align: right;\n",
       "    }\n",
       "</style>\n",
       "<table border=\"1\" class=\"dataframe\">\n",
       "  <thead>\n",
       "    <tr style=\"text-align: right;\">\n",
       "      <th></th>\n",
       "      <th>channel</th>\n",
       "      <th>apple</th>\n",
       "      <th>tesla</th>\n",
       "      <th>google</th>\n",
       "      <th>meta</th>\n",
       "      <th>sentiment</th>\n",
       "    </tr>\n",
       "  </thead>\n",
       "  <tbody>\n",
       "    <tr>\n",
       "      <th>0</th>\n",
       "      <td>forbes</td>\n",
       "      <td>0</td>\n",
       "      <td>0</td>\n",
       "      <td>0</td>\n",
       "      <td>0</td>\n",
       "      <td>neutral</td>\n",
       "    </tr>\n",
       "    <tr>\n",
       "      <th>1</th>\n",
       "      <td>forbes</td>\n",
       "      <td>1</td>\n",
       "      <td>0</td>\n",
       "      <td>0</td>\n",
       "      <td>0</td>\n",
       "      <td>positive</td>\n",
       "    </tr>\n",
       "    <tr>\n",
       "      <th>2</th>\n",
       "      <td>forbes</td>\n",
       "      <td>0</td>\n",
       "      <td>0</td>\n",
       "      <td>0</td>\n",
       "      <td>0</td>\n",
       "      <td>neutral</td>\n",
       "    </tr>\n",
       "    <tr>\n",
       "      <th>3</th>\n",
       "      <td>forbes</td>\n",
       "      <td>0</td>\n",
       "      <td>0</td>\n",
       "      <td>0</td>\n",
       "      <td>0</td>\n",
       "      <td>neutral</td>\n",
       "    </tr>\n",
       "    <tr>\n",
       "      <th>4</th>\n",
       "      <td>forbes</td>\n",
       "      <td>0</td>\n",
       "      <td>0</td>\n",
       "      <td>0</td>\n",
       "      <td>0</td>\n",
       "      <td>neutral</td>\n",
       "    </tr>\n",
       "  </tbody>\n",
       "</table>\n",
       "</div>"
      ],
      "text/plain": [
       "  channel  apple  tesla  google  meta sentiment\n",
       "0  forbes      0      0       0     0   neutral\n",
       "1  forbes      1      0       0     0  positive\n",
       "2  forbes      0      0       0     0   neutral\n",
       "3  forbes      0      0       0     0   neutral\n",
       "4  forbes      0      0       0     0   neutral"
      ]
     },
     "execution_count": 10,
     "metadata": {},
     "output_type": "execute_result"
    }
   ],
   "source": [
    "df_pred['sentiment'].replace({1:'neutral', 2:'positive', 0:'negative'},inplace=True)\n",
    "df_pred.head()"
   ]
  },
  {
   "cell_type": "code",
   "execution_count": 11,
   "id": "continental-watson",
   "metadata": {
    "id": "small-principle",
    "outputId": "78eb9df8-df23-4056-a5fe-d5e19f282101"
   },
   "outputs": [
    {
     "data": {
      "text/html": [
       "<div>\n",
       "<style scoped>\n",
       "    .dataframe tbody tr th:only-of-type {\n",
       "        vertical-align: middle;\n",
       "    }\n",
       "\n",
       "    .dataframe tbody tr th {\n",
       "        vertical-align: top;\n",
       "    }\n",
       "\n",
       "    .dataframe thead th {\n",
       "        text-align: right;\n",
       "    }\n",
       "</style>\n",
       "<table border=\"1\" class=\"dataframe\">\n",
       "  <thead>\n",
       "    <tr style=\"text-align: right;\">\n",
       "      <th></th>\n",
       "      <th>channel</th>\n",
       "      <th>apple</th>\n",
       "      <th>tesla</th>\n",
       "      <th>google</th>\n",
       "      <th>meta</th>\n",
       "      <th>sentiment</th>\n",
       "      <th>relevant</th>\n",
       "    </tr>\n",
       "  </thead>\n",
       "  <tbody>\n",
       "    <tr>\n",
       "      <th>0</th>\n",
       "      <td>forbes</td>\n",
       "      <td>0</td>\n",
       "      <td>0</td>\n",
       "      <td>0</td>\n",
       "      <td>0</td>\n",
       "      <td>neutral</td>\n",
       "      <td>0</td>\n",
       "    </tr>\n",
       "    <tr>\n",
       "      <th>1</th>\n",
       "      <td>forbes</td>\n",
       "      <td>1</td>\n",
       "      <td>0</td>\n",
       "      <td>0</td>\n",
       "      <td>0</td>\n",
       "      <td>positive</td>\n",
       "      <td>1</td>\n",
       "    </tr>\n",
       "    <tr>\n",
       "      <th>2</th>\n",
       "      <td>forbes</td>\n",
       "      <td>0</td>\n",
       "      <td>0</td>\n",
       "      <td>0</td>\n",
       "      <td>0</td>\n",
       "      <td>neutral</td>\n",
       "      <td>0</td>\n",
       "    </tr>\n",
       "    <tr>\n",
       "      <th>3</th>\n",
       "      <td>forbes</td>\n",
       "      <td>0</td>\n",
       "      <td>0</td>\n",
       "      <td>0</td>\n",
       "      <td>0</td>\n",
       "      <td>neutral</td>\n",
       "      <td>0</td>\n",
       "    </tr>\n",
       "    <tr>\n",
       "      <th>4</th>\n",
       "      <td>forbes</td>\n",
       "      <td>0</td>\n",
       "      <td>0</td>\n",
       "      <td>0</td>\n",
       "      <td>0</td>\n",
       "      <td>neutral</td>\n",
       "      <td>0</td>\n",
       "    </tr>\n",
       "  </tbody>\n",
       "</table>\n",
       "</div>"
      ],
      "text/plain": [
       "  channel  apple  tesla  google  meta sentiment  relevant\n",
       "0  forbes      0      0       0     0   neutral         0\n",
       "1  forbes      1      0       0     0  positive         1\n",
       "2  forbes      0      0       0     0   neutral         0\n",
       "3  forbes      0      0       0     0   neutral         0\n",
       "4  forbes      0      0       0     0   neutral         0"
      ]
     },
     "execution_count": 11,
     "metadata": {},
     "output_type": "execute_result"
    }
   ],
   "source": [
    "# sum across columns only numeric columns \n",
    "df_pred['relevant'] = df_pred.sum(axis=1, numeric_only=True)\n",
    "\n",
    "df_pred.head()"
   ]
  },
  {
   "cell_type": "markdown",
   "id": "missing-mattress",
   "metadata": {
    "id": "rotary-thomas"
   },
   "source": [
    "# Analyze Tweets"
   ]
  },
  {
   "cell_type": "markdown",
   "id": "graphic-corrections",
   "metadata": {
    "id": "reverse-riding"
   },
   "source": [
    "Sum up the `relevant` column of the data frame, get the total of the tweets and then calculate the percentage of the relevant tweets. "
   ]
  },
  {
   "cell_type": "code",
   "execution_count": 12,
   "id": "dc1b29f9",
   "metadata": {},
   "outputs": [
    {
     "name": "stdout",
     "output_type": "stream",
     "text": [
      "total number of relevant tweets: 69\n",
      "number of relevant tweets per company\n",
      "apple     34\n",
      "tesla      8\n",
      "google    17\n",
      "meta      10\n",
      "dtype: int64\n",
      "total number of tweets: 1138\n",
      "percent of relevant tweets: 6.06%\n"
     ]
    }
   ],
   "source": [
    "print(f\"total number of relevant tweets: {df_pred['relevant'].sum()}\")\n",
    "print(f\"number of relevant tweets per company\\n{df_pred[['apple', 'tesla', 'google', 'meta']].sum()}\")\n",
    "print(f\"total number of tweets: {df_pred.shape[0]}\")\n",
    "print(f\"percent of relevant tweets: {df_pred['relevant'].sum()/df_pred.shape[0]*100:.2f}%\")"
   ]
  },
  {
   "cell_type": "code",
   "execution_count": 13,
   "id": "structured-crawford",
   "metadata": {
    "id": "boring-reward",
    "outputId": "2b8307bc-4968-4564-d676-95ab2876e1e6"
   },
   "outputs": [
    {
     "name": "stdout",
     "output_type": "stream",
     "text": [
      "Number of relevant tweets: 69\n",
      "Total number of tweets: 1138\n",
      "Percent of relevant tweets: 6.06%\n"
     ]
    }
   ],
   "source": [
    "num_relevant = df_pred['relevant'].sum()\n",
    "num_total = df_pred.shape[0]\n",
    "print(f\"Number of relevant tweets: {num_relevant}\")\n",
    "print(f\"Total number of tweets: {num_total}\")\n",
    "print(f\"Percent of relevant tweets: {num_relevant/num_total*100:.2f}%\")"
   ]
  },
  {
   "cell_type": "code",
   "execution_count": 14,
   "id": "selective-southeast",
   "metadata": {
    "id": "integral-request",
    "outputId": "037800f4-a639-4450-afef-e9ca728751ec"
   },
   "outputs": [
    {
     "data": {
      "text/html": [
       "<div>\n",
       "<style scoped>\n",
       "    .dataframe tbody tr th:only-of-type {\n",
       "        vertical-align: middle;\n",
       "    }\n",
       "\n",
       "    .dataframe tbody tr th {\n",
       "        vertical-align: top;\n",
       "    }\n",
       "\n",
       "    .dataframe thead th {\n",
       "        text-align: right;\n",
       "    }\n",
       "</style>\n",
       "<table border=\"1\" class=\"dataframe\">\n",
       "  <thead>\n",
       "    <tr style=\"text-align: right;\">\n",
       "      <th></th>\n",
       "      <th>relevant</th>\n",
       "      <th>total</th>\n",
       "      <th>percentage_relevant</th>\n",
       "    </tr>\n",
       "    <tr>\n",
       "      <th>channel</th>\n",
       "      <th></th>\n",
       "      <th></th>\n",
       "      <th></th>\n",
       "    </tr>\n",
       "  </thead>\n",
       "  <tbody>\n",
       "    <tr>\n",
       "      <th>forbes</th>\n",
       "      <td>13</td>\n",
       "      <td>60</td>\n",
       "      <td>21.67</td>\n",
       "    </tr>\n",
       "    <tr>\n",
       "      <th>bloomberg</th>\n",
       "      <td>19</td>\n",
       "      <td>178</td>\n",
       "      <td>10.67</td>\n",
       "    </tr>\n",
       "    <tr>\n",
       "      <th>BLaw</th>\n",
       "      <td>23</td>\n",
       "      <td>460</td>\n",
       "      <td>5.00</td>\n",
       "    </tr>\n",
       "    <tr>\n",
       "      <th>wired</th>\n",
       "      <td>14</td>\n",
       "      <td>440</td>\n",
       "      <td>3.18</td>\n",
       "    </tr>\n",
       "  </tbody>\n",
       "</table>\n",
       "</div>"
      ],
      "text/plain": [
       "           relevant  total  percentage_relevant\n",
       "channel                                        \n",
       "forbes           13     60                21.67\n",
       "bloomberg        19    178                10.67\n",
       "BLaw             23    460                 5.00\n",
       "wired            14    440                 3.18"
      ]
     },
     "execution_count": 14,
     "metadata": {},
     "output_type": "execute_result"
    }
   ],
   "source": [
    "channel_stats = pd.DataFrame({\n",
    "    'relevant': df_pred.groupby('channel').relevant.sum().astype(int),\n",
    "    'total': df_pred.groupby('channel').size()\n",
    "})\n",
    "channel_stats['percentage_relevant'] = (\n",
    "    100*channel_stats.relevant/channel_stats.total).round(2)\n",
    "channel_stats.sort_values('percentage_relevant', ascending=False)"
   ]
  },
  {
   "cell_type": "markdown",
   "id": "mathematical-fabric",
   "metadata": {
    "id": "several-boston"
   },
   "source": [
    "Use the `groupby` function to sum up `['channel','sentiment']`. "
   ]
  },
  {
   "cell_type": "code",
   "execution_count": 15,
   "id": "92a9ea3c",
   "metadata": {},
   "outputs": [
    {
     "data": {
      "text/html": [
       "<div>\n",
       "<style scoped>\n",
       "    .dataframe tbody tr th:only-of-type {\n",
       "        vertical-align: middle;\n",
       "    }\n",
       "\n",
       "    .dataframe tbody tr th {\n",
       "        vertical-align: top;\n",
       "    }\n",
       "\n",
       "    .dataframe thead th {\n",
       "        text-align: right;\n",
       "    }\n",
       "</style>\n",
       "<table border=\"1\" class=\"dataframe\">\n",
       "  <thead>\n",
       "    <tr style=\"text-align: right;\">\n",
       "      <th></th>\n",
       "      <th></th>\n",
       "      <th>apple</th>\n",
       "      <th>tesla</th>\n",
       "      <th>google</th>\n",
       "      <th>meta</th>\n",
       "      <th>relevant</th>\n",
       "    </tr>\n",
       "    <tr>\n",
       "      <th>channel</th>\n",
       "      <th>sentiment</th>\n",
       "      <th></th>\n",
       "      <th></th>\n",
       "      <th></th>\n",
       "      <th></th>\n",
       "      <th></th>\n",
       "    </tr>\n",
       "  </thead>\n",
       "  <tbody>\n",
       "    <tr>\n",
       "      <th rowspan=\"3\" valign=\"top\">BLaw</th>\n",
       "      <th>negative</th>\n",
       "      <td>5</td>\n",
       "      <td>0</td>\n",
       "      <td>4</td>\n",
       "      <td>3</td>\n",
       "      <td>12</td>\n",
       "    </tr>\n",
       "    <tr>\n",
       "      <th>neutral</th>\n",
       "      <td>5</td>\n",
       "      <td>3</td>\n",
       "      <td>2</td>\n",
       "      <td>1</td>\n",
       "      <td>11</td>\n",
       "    </tr>\n",
       "    <tr>\n",
       "      <th>positive</th>\n",
       "      <td>0</td>\n",
       "      <td>0</td>\n",
       "      <td>0</td>\n",
       "      <td>0</td>\n",
       "      <td>0</td>\n",
       "    </tr>\n",
       "    <tr>\n",
       "      <th rowspan=\"3\" valign=\"top\">bloomberg</th>\n",
       "      <th>negative</th>\n",
       "      <td>1</td>\n",
       "      <td>0</td>\n",
       "      <td>0</td>\n",
       "      <td>0</td>\n",
       "      <td>1</td>\n",
       "    </tr>\n",
       "    <tr>\n",
       "      <th>neutral</th>\n",
       "      <td>6</td>\n",
       "      <td>3</td>\n",
       "      <td>3</td>\n",
       "      <td>3</td>\n",
       "      <td>15</td>\n",
       "    </tr>\n",
       "    <tr>\n",
       "      <th>positive</th>\n",
       "      <td>2</td>\n",
       "      <td>0</td>\n",
       "      <td>1</td>\n",
       "      <td>0</td>\n",
       "      <td>3</td>\n",
       "    </tr>\n",
       "    <tr>\n",
       "      <th rowspan=\"3\" valign=\"top\">forbes</th>\n",
       "      <th>negative</th>\n",
       "      <td>1</td>\n",
       "      <td>0</td>\n",
       "      <td>2</td>\n",
       "      <td>0</td>\n",
       "      <td>3</td>\n",
       "    </tr>\n",
       "    <tr>\n",
       "      <th>neutral</th>\n",
       "      <td>3</td>\n",
       "      <td>2</td>\n",
       "      <td>0</td>\n",
       "      <td>0</td>\n",
       "      <td>5</td>\n",
       "    </tr>\n",
       "    <tr>\n",
       "      <th>positive</th>\n",
       "      <td>5</td>\n",
       "      <td>0</td>\n",
       "      <td>0</td>\n",
       "      <td>0</td>\n",
       "      <td>5</td>\n",
       "    </tr>\n",
       "    <tr>\n",
       "      <th rowspan=\"3\" valign=\"top\">wired</th>\n",
       "      <th>negative</th>\n",
       "      <td>1</td>\n",
       "      <td>0</td>\n",
       "      <td>1</td>\n",
       "      <td>1</td>\n",
       "      <td>3</td>\n",
       "    </tr>\n",
       "    <tr>\n",
       "      <th>neutral</th>\n",
       "      <td>2</td>\n",
       "      <td>0</td>\n",
       "      <td>3</td>\n",
       "      <td>2</td>\n",
       "      <td>7</td>\n",
       "    </tr>\n",
       "    <tr>\n",
       "      <th>positive</th>\n",
       "      <td>3</td>\n",
       "      <td>0</td>\n",
       "      <td>1</td>\n",
       "      <td>0</td>\n",
       "      <td>4</td>\n",
       "    </tr>\n",
       "  </tbody>\n",
       "</table>\n",
       "</div>"
      ],
      "text/plain": [
       "                     apple  tesla  google  meta  relevant\n",
       "channel   sentiment                                      \n",
       "BLaw      negative       5      0       4     3        12\n",
       "          neutral        5      3       2     1        11\n",
       "          positive       0      0       0     0         0\n",
       "bloomberg negative       1      0       0     0         1\n",
       "          neutral        6      3       3     3        15\n",
       "          positive       2      0       1     0         3\n",
       "forbes    negative       1      0       2     0         3\n",
       "          neutral        3      2       0     0         5\n",
       "          positive       5      0       0     0         5\n",
       "wired     negative       1      0       1     1         3\n",
       "          neutral        2      0       3     2         7\n",
       "          positive       3      0       1     0         4"
      ]
     },
     "execution_count": 15,
     "metadata": {},
     "output_type": "execute_result"
    }
   ],
   "source": [
    "df_pred.groupby(['channel', 'sentiment']).sum()"
   ]
  },
  {
   "cell_type": "markdown",
   "id": "voluntary-motel",
   "metadata": {
    "id": "lasting-honolulu"
   },
   "source": [
    "## Plot Amount of Relevant Tweets "
   ]
  },
  {
   "cell_type": "code",
   "execution_count": 17,
   "id": "initial-hawaii",
   "metadata": {
    "id": "vietnamese-design",
    "outputId": "9d610b77-5e79-4d94-9178-8c38a23e9153"
   },
   "outputs": [
    {
     "data": {
      "image/png": "[encoded data removed]",
      "text/plain": [
       "<Figure size 1400x1400 with 4 Axes>"
      ]
     },
     "metadata": {},
     "output_type": "display_data"
    }
   ],
   "source": [
    "plt.rc(\"font\", size=12)\n",
    "\n",
    "apple = df_pred.loc[df_pred['apple'] == 1]\n",
    "tesla = df_pred.loc[df_pred['tesla'] == 1]\n",
    "google = df_pred.loc[df_pred['google'] == 1]\n",
    "meta = df_pred.loc[df_pred['meta'] == 1]\n",
    "\n",
    "#print(apple['channel'].value_counts())\n",
    "#print(f\"max number tweets from chaneel: {apple['channel'].value_counts().max()}\")\n",
    "\n",
    "# compute max values of all plots to avoid \"magic numbers\"\n",
    "max_val_list = [apple['channel'].value_counts().max(), tesla['channel'].value_counts(\n",
    ").max(), google['channel'].value_counts().max(), meta['channel'].value_counts().max()]\n",
    "\n",
    "# get max value\n",
    "max_val = max(max_val_list) + 1\n",
    "\n",
    "fig, axes = plt.subplots(nrows=2, ncols=2, figsize=(14, 14))\n",
    "axes[0, 0].set_ylim(0, max_val)\n",
    "axes[0, 1].set_ylim(0, max_val)\n",
    "axes[1, 0].set_ylim(0, max_val)\n",
    "axes[1, 1].set_ylim(0, max_val)\n",
    "sns.countplot(x='channel', data=apple,\n",
    "              ax=axes[0][0], palette='Set2').set_title('Apple', fontsize=18)\n",
    "sns.countplot(x='channel', data=tesla,\n",
    "              ax=axes[0][1], palette='Set2').set_title('Tesla', fontsize=18)\n",
    "sns.countplot(x='channel', data=google,\n",
    "              ax=axes[1][0], palette='Set2').set_title('Google', fontsize=18)\n",
    "sns.countplot(x='channel', data=meta, ax=axes[1][1], palette='Set2').set_title(\n",
    "    'Meta', fontsize=18)\n",
    "\n",
    "fig.suptitle('Amount of Relevant Tweets', fontsize=22)\n",
    "plt.subplots_adjust(hspace=0.25)"
   ]
  },
  {
   "cell_type": "markdown",
   "id": "familiar-mills",
   "metadata": {
    "id": "bizarre-distinction"
   },
   "source": [
    "## Plot Amount of Sentiment per Company"
   ]
  },
  {
   "cell_type": "code",
   "execution_count": 18,
   "id": "expensive-showcase",
   "metadata": {
    "id": "global-reproduction"
   },
   "outputs": [],
   "source": [
    "def get_company_sent(df, company): \n",
    "    df['sentiment'].replace({1:'neutral',2:'positive',0:'negative'},inplace=True)\n",
    "    sent_list = list(df.sentiment.unique())\n",
    "    data = df[['tweet','channel', company, 'sentiment']]\n",
    "    print(data.head())\n",
    "    sent = []\n",
    "    # locate  the sentiment  that is equal to the loops index and the company is equal to 1\n",
    "    for i in sent_list:\n",
    "        # get the first value of the number of unique values in each column, of the rows choseen with boolean mask\n",
    "        sent.append(data.loc[(data['sentiment'] == i) & (data[company] == 1)].nunique()[0])\n",
    "\n",
    "    new_df = pd.DataFrame(sent, index=sent_list, columns=['value'])\n",
    "    print(new_df)\n",
    "    return new_df"
   ]
  },
  {
   "cell_type": "code",
   "execution_count": 48,
   "id": "f6eff926",
   "metadata": {},
   "outputs": [
    {
     "name": "stdout",
     "output_type": "stream",
     "text": [
      "                                               tweet channel  apple sentiment\n",
      "0  Adidas Headphones Announces Self-Charging Wire...  forbes      0   neutral\n",
      "1  Apple’s Coolest New iPhone Feature Just Got Be...  forbes      1  positive\n",
      "2  The Hidden Power Of Samsung’s New Foldable Gal...  forbes      0   neutral\n",
      "3  AI Ethics And The Geopolitical Wrestling Match...  forbes      0   neutral\n",
      "4  Qualcomm AI Research Innovates 3D Perception T...  forbes      0   neutral\n",
      "          value\n",
      "neutral      16\n",
      "positive     10\n",
      "negative      8\n"
     ]
    },
    {
     "data": {
      "text/html": [
       "<div>\n",
       "<style scoped>\n",
       "    .dataframe tbody tr th:only-of-type {\n",
       "        vertical-align: middle;\n",
       "    }\n",
       "\n",
       "    .dataframe tbody tr th {\n",
       "        vertical-align: top;\n",
       "    }\n",
       "\n",
       "    .dataframe thead th {\n",
       "        text-align: right;\n",
       "    }\n",
       "</style>\n",
       "<table border=\"1\" class=\"dataframe\">\n",
       "  <thead>\n",
       "    <tr style=\"text-align: right;\">\n",
       "      <th></th>\n",
       "      <th>value</th>\n",
       "    </tr>\n",
       "  </thead>\n",
       "  <tbody>\n",
       "    <tr>\n",
       "      <th>neutral</th>\n",
       "      <td>16</td>\n",
       "    </tr>\n",
       "    <tr>\n",
       "      <th>positive</th>\n",
       "      <td>10</td>\n",
       "    </tr>\n",
       "    <tr>\n",
       "      <th>negative</th>\n",
       "      <td>8</td>\n",
       "    </tr>\n",
       "  </tbody>\n",
       "</table>\n",
       "</div>"
      ],
      "text/plain": [
       "          value\n",
       "neutral      16\n",
       "positive     10\n",
       "negative      8"
      ]
     },
     "execution_count": 48,
     "metadata": {},
     "output_type": "execute_result"
    }
   ],
   "source": [
    "get_company_sent(df, 'apple')"
   ]
  },
  {
   "cell_type": "code",
   "execution_count": 20,
   "id": "built-purchase",
   "metadata": {
    "id": "undefined-member",
    "outputId": "430f20e8-027c-4e93-f0b7-eece66407703"
   },
   "outputs": [
    {
     "data": {
      "text/plain": [
       "['apple', 'tesla', 'google', 'meta']"
      ]
     },
     "execution_count": 20,
     "metadata": {},
     "output_type": "execute_result"
    }
   ],
   "source": [
    "names = df.iloc[:,[2,3,4,5]]\n",
    "names_list = names.columns.to_list()\n",
    "names_list"
   ]
  },
  {
   "cell_type": "code",
   "execution_count": 21,
   "id": "1b50d74f",
   "metadata": {},
   "outputs": [
    {
     "name": "stdout",
     "output_type": "stream",
     "text": [
      "                                               tweet channel  apple sentiment\n",
      "0  Adidas Headphones Announces Self-Charging Wire...  forbes      0   neutral\n",
      "1  Apple’s Coolest New iPhone Feature Just Got Be...  forbes      1  positive\n",
      "2  The Hidden Power Of Samsung’s New Foldable Gal...  forbes      0   neutral\n",
      "3  AI Ethics And The Geopolitical Wrestling Match...  forbes      0   neutral\n",
      "4  Qualcomm AI Research Innovates 3D Perception T...  forbes      0   neutral\n",
      "          value\n",
      "neutral      16\n",
      "positive     10\n",
      "negative      8\n",
      "                                               tweet channel  tesla sentiment\n",
      "0  Adidas Headphones Announces Self-Charging Wire...  forbes      0   neutral\n",
      "1  Apple’s Coolest New iPhone Feature Just Got Be...  forbes      0  positive\n",
      "2  The Hidden Power Of Samsung’s New Foldable Gal...  forbes      0   neutral\n",
      "3  AI Ethics And The Geopolitical Wrestling Match...  forbes      0   neutral\n",
      "4  Qualcomm AI Research Innovates 3D Perception T...  forbes      0   neutral\n",
      "          value\n",
      "neutral       8\n",
      "positive      0\n",
      "negative      0\n",
      "                                               tweet channel  google sentiment\n",
      "0  Adidas Headphones Announces Self-Charging Wire...  forbes       0   neutral\n",
      "1  Apple’s Coolest New iPhone Feature Just Got Be...  forbes       0  positive\n",
      "2  The Hidden Power Of Samsung’s New Foldable Gal...  forbes       0   neutral\n",
      "3  AI Ethics And The Geopolitical Wrestling Match...  forbes       0   neutral\n",
      "4  Qualcomm AI Research Innovates 3D Perception T...  forbes       0   neutral\n",
      "          value\n",
      "neutral       8\n",
      "positive      2\n",
      "negative      7\n",
      "                                               tweet channel  meta sentiment\n",
      "0  Adidas Headphones Announces Self-Charging Wire...  forbes     0   neutral\n",
      "1  Apple’s Coolest New iPhone Feature Just Got Be...  forbes     0  positive\n",
      "2  The Hidden Power Of Samsung’s New Foldable Gal...  forbes     0   neutral\n",
      "3  AI Ethics And The Geopolitical Wrestling Match...  forbes     0   neutral\n",
      "4  Qualcomm AI Research Innovates 3D Perception T...  forbes     0   neutral\n",
      "          value\n",
      "neutral       6\n",
      "positive      0\n",
      "negative      4\n"
     ]
    },
    {
     "data": {
      "image/png": "[encoded data removed]",
      "text/plain": [
       "<Figure size 640x480 with 1 Axes>"
      ]
     },
     "metadata": {},
     "output_type": "display_data"
    },
    {
     "data": {
      "image/png": "[encoded data removed]",
      "text/plain": [
       "<Figure size 640x480 with 1 Axes>"
      ]
     },
     "metadata": {},
     "output_type": "display_data"
    },
    {
     "data": {
      "image/png": "[encoded data removed]",
      "text/plain": [
       "<Figure size 640x480 with 1 Axes>"
      ]
     },
     "metadata": {},
     "output_type": "display_data"
    },
    {
     "data": {
      "image/png": "[encoded data removed]",
      "text/plain": [
       "<Figure size 640x480 with 1 Axes>"
      ]
     },
     "metadata": {},
     "output_type": "display_data"
    }
   ],
   "source": [
    "for name in names_list:\n",
    "    plot_df = get_company_sent(df, name)\n",
    "    plot_df.plot.bar(color='grey', rot=0, legend=False)\n",
    "    title_name = 'Twitter Sentiment Overview for ' + name.capitalize()\n",
    "    plt.title(title_name)\n",
    "    plt.grid()"
   ]
  },
  {
   "cell_type": "markdown",
   "id": "christian-player",
   "metadata": {
    "id": "measured-approval"
   },
   "source": [
    "# Analyze Apple"
   ]
  },
  {
   "cell_type": "code",
   "execution_count": 22,
   "id": "planned-impossible",
   "metadata": {
    "id": "dried-holder",
    "outputId": "7defc6cc-145f-4da2-b5c5-fe876520d25d"
   },
   "outputs": [
    {
     "data": {
      "text/html": [
       "<div>\n",
       "<style scoped>\n",
       "    .dataframe tbody tr th:only-of-type {\n",
       "        vertical-align: middle;\n",
       "    }\n",
       "\n",
       "    .dataframe tbody tr th {\n",
       "        vertical-align: top;\n",
       "    }\n",
       "\n",
       "    .dataframe thead th {\n",
       "        text-align: right;\n",
       "    }\n",
       "</style>\n",
       "<table border=\"1\" class=\"dataframe\">\n",
       "  <thead>\n",
       "    <tr style=\"text-align: right;\">\n",
       "      <th></th>\n",
       "      <th>tweet</th>\n",
       "      <th>channel</th>\n",
       "      <th>apple</th>\n",
       "      <th>sentiment</th>\n",
       "    </tr>\n",
       "  </thead>\n",
       "  <tbody>\n",
       "    <tr>\n",
       "      <th>0</th>\n",
       "      <td>Adidas Headphones Announces Self-Charging Wire...</td>\n",
       "      <td>forbes</td>\n",
       "      <td>0</td>\n",
       "      <td>neutral</td>\n",
       "    </tr>\n",
       "    <tr>\n",
       "      <th>1</th>\n",
       "      <td>Apple’s Coolest New iPhone Feature Just Got Be...</td>\n",
       "      <td>forbes</td>\n",
       "      <td>1</td>\n",
       "      <td>positive</td>\n",
       "    </tr>\n",
       "    <tr>\n",
       "      <th>2</th>\n",
       "      <td>The Hidden Power Of Samsung’s New Foldable Gal...</td>\n",
       "      <td>forbes</td>\n",
       "      <td>0</td>\n",
       "      <td>neutral</td>\n",
       "    </tr>\n",
       "    <tr>\n",
       "      <th>3</th>\n",
       "      <td>AI Ethics And The Geopolitical Wrestling Match...</td>\n",
       "      <td>forbes</td>\n",
       "      <td>0</td>\n",
       "      <td>neutral</td>\n",
       "    </tr>\n",
       "    <tr>\n",
       "      <th>4</th>\n",
       "      <td>Qualcomm AI Research Innovates 3D Perception T...</td>\n",
       "      <td>forbes</td>\n",
       "      <td>0</td>\n",
       "      <td>neutral</td>\n",
       "    </tr>\n",
       "    <tr>\n",
       "      <th>...</th>\n",
       "      <td>...</td>\n",
       "      <td>...</td>\n",
       "      <td>...</td>\n",
       "      <td>...</td>\n",
       "    </tr>\n",
       "    <tr>\n",
       "      <th>1133</th>\n",
       "      <td>The EU’s “right to be forgotten” privacy law i...</td>\n",
       "      <td>BLaw</td>\n",
       "      <td>0</td>\n",
       "      <td>neutral</td>\n",
       "    </tr>\n",
       "    <tr>\n",
       "      <th>1134</th>\n",
       "      <td>A Texas doctor who stood on the steps of the S...</td>\n",
       "      <td>BLaw</td>\n",
       "      <td>0</td>\n",
       "      <td>negative</td>\n",
       "    </tr>\n",
       "    <tr>\n",
       "      <th>1135</th>\n",
       "      <td>Robinhood’s cryptocurrency arm was fined $30 m...</td>\n",
       "      <td>BLaw</td>\n",
       "      <td>0</td>\n",
       "      <td>negative</td>\n",
       "    </tr>\n",
       "    <tr>\n",
       "      <th>1136</th>\n",
       "      <td>Most Covid-19 patients continue to test positi...</td>\n",
       "      <td>BLaw</td>\n",
       "      <td>0</td>\n",
       "      <td>neutral</td>\n",
       "    </tr>\n",
       "    <tr>\n",
       "      <th>1137</th>\n",
       "      <td>Conspiracy theorist Alex Jones must pay $4.11 ...</td>\n",
       "      <td>BLaw</td>\n",
       "      <td>0</td>\n",
       "      <td>negative</td>\n",
       "    </tr>\n",
       "  </tbody>\n",
       "</table>\n",
       "<p>1138 rows × 4 columns</p>\n",
       "</div>"
      ],
      "text/plain": [
       "                                                  tweet channel  apple  \\\n",
       "0     Adidas Headphones Announces Self-Charging Wire...  forbes      0   \n",
       "1     Apple’s Coolest New iPhone Feature Just Got Be...  forbes      1   \n",
       "2     The Hidden Power Of Samsung’s New Foldable Gal...  forbes      0   \n",
       "3     AI Ethics And The Geopolitical Wrestling Match...  forbes      0   \n",
       "4     Qualcomm AI Research Innovates 3D Perception T...  forbes      0   \n",
       "...                                                 ...     ...    ...   \n",
       "1133  The EU’s “right to be forgotten” privacy law i...    BLaw      0   \n",
       "1134  A Texas doctor who stood on the steps of the S...    BLaw      0   \n",
       "1135  Robinhood’s cryptocurrency arm was fined $30 m...    BLaw      0   \n",
       "1136  Most Covid-19 patients continue to test positi...    BLaw      0   \n",
       "1137  Conspiracy theorist Alex Jones must pay $4.11 ...    BLaw      0   \n",
       "\n",
       "     sentiment  \n",
       "0      neutral  \n",
       "1     positive  \n",
       "2      neutral  \n",
       "3      neutral  \n",
       "4      neutral  \n",
       "...        ...  \n",
       "1133   neutral  \n",
       "1134  negative  \n",
       "1135  negative  \n",
       "1136   neutral  \n",
       "1137  negative  \n",
       "\n",
       "[1138 rows x 4 columns]"
      ]
     },
     "execution_count": 22,
     "metadata": {},
     "output_type": "execute_result"
    }
   ],
   "source": [
    "df_apple = df[['tweet','channel', 'apple', 'sentiment']]\n",
    "df_apple['sentiment'].replace({1:'neutral',2:'positive',0:'negative'},inplace=True)\n",
    "df_apple"
   ]
  },
  {
   "cell_type": "markdown",
   "id": "champion-hypothetical",
   "metadata": {
    "id": "caring-silence"
   },
   "source": [
    "## Look at Negative Tweets"
   ]
  },
  {
   "cell_type": "code",
   "execution_count": 23,
   "id": "passing-square",
   "metadata": {
    "id": "awful-estonia",
    "outputId": "f05d4fac-0487-4d5e-cd1c-bf5429ca3f24"
   },
   "outputs": [
    {
     "data": {
      "text/html": [
       "<div>\n",
       "<style scoped>\n",
       "    .dataframe tbody tr th:only-of-type {\n",
       "        vertical-align: middle;\n",
       "    }\n",
       "\n",
       "    .dataframe tbody tr th {\n",
       "        vertical-align: top;\n",
       "    }\n",
       "\n",
       "    .dataframe thead th {\n",
       "        text-align: right;\n",
       "    }\n",
       "</style>\n",
       "<table border=\"1\" class=\"dataframe\">\n",
       "  <thead>\n",
       "    <tr style=\"text-align: right;\">\n",
       "      <th></th>\n",
       "      <th>tweet</th>\n",
       "      <th>channel</th>\n",
       "      <th>apple</th>\n",
       "      <th>sentiment</th>\n",
       "    </tr>\n",
       "  </thead>\n",
       "  <tbody>\n",
       "    <tr>\n",
       "      <th>0</th>\n",
       "      <td>Apple Loop: Sneaky iPhone 14 Decision, Latest Mac Mini Delay, Google’s iMessage Fight With Apple  https://t.co/d16AbjA3dP  https://t.co/GyYC6fbMGP</td>\n",
       "      <td>forbes</td>\n",
       "      <td>1</td>\n",
       "      <td>negative</td>\n",
       "    </tr>\n",
       "    <tr>\n",
       "      <th>1</th>\n",
       "      <td>Apple, which used to acquire a company every three or four weeks, has dramatically slowed its dealmaking in the past two years  https://t.co/wydVejFHhV</td>\n",
       "      <td>bloomberg</td>\n",
       "      <td>1</td>\n",
       "      <td>negative</td>\n",
       "    </tr>\n",
       "    <tr>\n",
       "      <th>2</th>\n",
       "      <td>Apple’s laptops are expensive. Here's what we think you should spend your hard-earned money on.  https://t.co/e96yCqrBCp</td>\n",
       "      <td>wired</td>\n",
       "      <td>1</td>\n",
       "      <td>negative</td>\n",
       "    </tr>\n",
       "    <tr>\n",
       "      <th>3</th>\n",
       "      <td>An Apple AirPods patent-infringement case, deemed a mistrial soon after a California jury began deliberating, was caused by one juror’s internet research and another’s surgery on a pair of earbuds.  https://t.co/x6kohhVVHS</td>\n",
       "      <td>BLaw</td>\n",
       "      <td>1</td>\n",
       "      <td>negative</td>\n",
       "    </tr>\n",
       "    <tr>\n",
       "      <th>4</th>\n",
       "      <td>Apple will pay $30.5 million to settle claims it didn’t pay store workers for time spent having their bags and iPhones searched at their end of the shifts.   https://t.co/w9X9Yq9h8T</td>\n",
       "      <td>BLaw</td>\n",
       "      <td>1</td>\n",
       "      <td>negative</td>\n",
       "    </tr>\n",
       "    <tr>\n",
       "      <th>5</th>\n",
       "      <td>Apple will pay $30.5 million to settle claims it didn’t pay store workers for time spent having their bags and iPhones searched at their end of the shifts.  https://t.co/yz3jjX5X7V</td>\n",
       "      <td>BLaw</td>\n",
       "      <td>1</td>\n",
       "      <td>negative</td>\n",
       "    </tr>\n",
       "    <tr>\n",
       "      <th>6</th>\n",
       "      <td>A company alleged in July 2020 that Apple’s charging cases infringe four of its patents by magnetically “coupling” the earbuds to them and switching the earbuds between an active and inactive state, among other functions.   https://t.co/rjOxgAXVht</td>\n",
       "      <td>BLaw</td>\n",
       "      <td>1</td>\n",
       "      <td>negative</td>\n",
       "    </tr>\n",
       "    <tr>\n",
       "      <th>7</th>\n",
       "      <td>An administrative tribunal gutted a patent covering wireless earbud charging cases, handing Apple an edge in an infringement lawsuit over its AirPod and Powerbeats Pro wireless earbud charging cases.  https://t.co/D4o7EccySh</td>\n",
       "      <td>BLaw</td>\n",
       "      <td>1</td>\n",
       "      <td>negative</td>\n",
       "    </tr>\n",
       "  </tbody>\n",
       "</table>\n",
       "</div>"
      ],
      "text/plain": [
       "                                                                                                                                                                                                                                                     tweet  \\\n",
       "0                                                                                                       Apple Loop: Sneaky iPhone 14 Decision, Latest Mac Mini Delay, Google’s iMessage Fight With Apple  https://t.co/d16AbjA3dP  https://t.co/GyYC6fbMGP   \n",
       "1                                                                                                  Apple, which used to acquire a company every three or four weeks, has dramatically slowed its dealmaking in the past two years  https://t.co/wydVejFHhV   \n",
       "2                                                                                                                                 Apple’s laptops are expensive. Here's what we think you should spend your hard-earned money on.  https://t.co/e96yCqrBCp   \n",
       "3                           An Apple AirPods patent-infringement case, deemed a mistrial soon after a California jury began deliberating, was caused by one juror’s internet research and another’s surgery on a pair of earbuds.  https://t.co/x6kohhVVHS   \n",
       "4                                                                    Apple will pay $30.5 million to settle claims it didn’t pay store workers for time spent having their bags and iPhones searched at their end of the shifts.   https://t.co/w9X9Yq9h8T   \n",
       "5                                                                     Apple will pay $30.5 million to settle claims it didn’t pay store workers for time spent having their bags and iPhones searched at their end of the shifts.  https://t.co/yz3jjX5X7V   \n",
       "6  A company alleged in July 2020 that Apple’s charging cases infringe four of its patents by magnetically “coupling” the earbuds to them and switching the earbuds between an active and inactive state, among other functions.   https://t.co/rjOxgAXVht   \n",
       "7                         An administrative tribunal gutted a patent covering wireless earbud charging cases, handing Apple an edge in an infringement lawsuit over its AirPod and Powerbeats Pro wireless earbud charging cases.  https://t.co/D4o7EccySh   \n",
       "\n",
       "     channel  apple sentiment  \n",
       "0     forbes      1  negative  \n",
       "1  bloomberg      1  negative  \n",
       "2      wired      1  negative  \n",
       "3       BLaw      1  negative  \n",
       "4       BLaw      1  negative  \n",
       "5       BLaw      1  negative  \n",
       "6       BLaw      1  negative  \n",
       "7       BLaw      1  negative  "
      ]
     },
     "execution_count": 23,
     "metadata": {},
     "output_type": "execute_result"
    }
   ],
   "source": [
    "apple_neg = df_apple.loc[(df_apple['sentiment'] == 'negative') & (df_apple['apple'] == 1)]\n",
    "apple_neg = apple_neg.reset_index(drop=True)\n",
    "pd.set_option('display.max_colwidth', None)\n",
    "apple_neg"
   ]
  },
  {
   "cell_type": "markdown",
   "id": "modified-edition",
   "metadata": {
    "id": "documentary-wayne"
   },
   "source": [
    "### Access Media Article of Negative Tweet"
   ]
  },
  {
   "cell_type": "markdown",
   "id": "minor-absence",
   "metadata": {
    "id": "political-quantum"
   },
   "source": [
    "Analyze the tweet about Apple's workforce and use the link to look at the article."
   ]
  },
  {
   "cell_type": "markdown",
   "id": "romance-beaver",
   "metadata": {
    "id": "double-research"
   },
   "source": [
    "Access the negative tweet of the dataframe above which is on the $4^{th}$ index of the dataframe, access the link of the tweet to validate the negative news on the internet. "
   ]
  },
  {
   "cell_type": "code",
   "execution_count": 24,
   "id": "2e5c90ee",
   "metadata": {},
   "outputs": [
    {
     "data": {
      "text/plain": [
       "tweet        Apple will pay $30.5 million to settle claims it didn’t pay store workers for time spent having their bags and iPhones searched at their end of the shifts.   https://t.co/w9X9Yq9h8T\n",
       "channel                                                                                                                                                                                       BLaw\n",
       "apple                                                                                                                                                                                            1\n",
       "sentiment                                                                                                                                                                                 negative\n",
       "Name: 4, dtype: object"
      ]
     },
     "execution_count": 24,
     "metadata": {},
     "output_type": "execute_result"
    }
   ],
   "source": [
    "apple_neg.iloc[4,:]"
   ]
  },
  {
   "cell_type": "code",
   "execution_count": 25,
   "id": "b04e858b",
   "metadata": {},
   "outputs": [
    {
     "name": "stdout",
     "output_type": "stream",
     "text": [
      "link to the article with negative sentiment: ['https://t.co/w9X9Yq9h8T']\n"
     ]
    }
   ],
   "source": [
    "# extract the link from the tweet spliting the tweet by space and then checking if the word starts with http\n",
    "link = [word for word in apple_neg.iloc[4,0].split() if word.startswith('http')]\n",
    "print(f\"link to the article with negative sentiment: {link}\")"
   ]
  }
 ],
 "metadata": {
  "colab": {
   "provenance": []
  },
  "kernelspec": {
   "display_name": "Python 3",
   "language": "python",
   "name": "python3"
  },
  "language_info": {
   "codemirror_mode": {
    "name": "ipython",
    "version": 3
   },
   "file_extension": ".py",
   "mimetype": "text/x-python",
   "name": "python",
   "nbconvert_exporter": "python",
   "pygments_lexer": "ipython3",
   "version": "3.11.5"
  },
  "toc": {
   "base_numbering": 1,
   "nav_menu": {},
   "number_sections": false,
   "sideBar": true,
   "skip_h1_title": false,
   "title_cell": "Table of Contents",
   "title_sidebar": "Contents",
   "toc_cell": false,
   "toc_position": {},
   "toc_section_display": true,
   "toc_window_display": true
  },
  "varInspector": {
   "cols": {
    "lenName": 16,
    "lenType": 16,
    "lenVar": 40
   },
   "kernels_config": {
    "python": {
     "delete_cmd_postfix": "",
     "delete_cmd_prefix": "del ",
     "library": "var_list.py",
     "varRefreshCmd": "print(var_dic_list())"
    },
    "r": {
     "delete_cmd_postfix": ") ",
     "delete_cmd_prefix": "rm(",
     "library": "var_list.r",
     "varRefreshCmd": "cat(var_dic_list()) "
    }
   },
   "types_to_exclude": [
    "module",
    "function",
    "builtin_function_or_method",
    "instance",
    "_Feature"
   ],
   "window_display": false
  }
 },
 "nbformat": 4,
 "nbformat_minor": 5
}
