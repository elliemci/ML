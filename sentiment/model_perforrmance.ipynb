{
 "cells": [
  {
   "cell_type": "markdown",
   "id": "exclusive-immigration",
   "metadata": {
    "id": "capable-heading"
   },
   "source": [
    "# Notebook Tasks"
   ]
  },
  {
   "cell_type": "markdown",
   "id": "intimate-earth",
   "metadata": {
    "id": "political-conservative"
   },
   "source": [
    "1. Computing conditional probability by hand\n",
    "2. Complete functions to compute precision, recall and the F1-Sscore"
   ]
  },
  {
   "cell_type": "markdown",
   "id": "living-blade",
   "metadata": {
    "id": "focused-treasurer"
   },
   "source": [
    "# Bayes's Theorem"
   ]
  },
  {
   "cell_type": "markdown",
   "id": "frank-limitation",
   "metadata": {
    "id": "norman-vertical"
   },
   "source": [
    "A systematic method for determining a conditional probability is provided by the Bayes' Theorem,  which can be used to quickly determine the conditional probability of situations where intuition frequently fails,also frequently employed in machine learning as Bayes Optimal Classifier and Naive Bayes model."
   ]
  },
  {
   "cell_type": "markdown",
   "id": "naughty-studio",
   "metadata": {
    "id": "persistent-program"
   },
   "source": [
    "Important concepts from the probability theory:\n",
    "\n",
    "- __Marginal probability:__ $P(B)$ -  The probability that B occurs.\n",
    "- __Joint probability:__ $P(A \\cap B)$ or $P(A, B)$ - The probability that A and B will occur.\n",
    "- __Conditional probability:__ “the probability of B given A.”The probability that event B occurs given that event A occurs is called a __conditional probability__, __P (B | A)__, “the probability of B given A” where A is the __given event__.\n",
    "\n",
    "\n",
    "<br>\n",
    "\n",
    "**Probability rules**\n",
    "\n",
    "- __Multiplication theorem:__ For events A and B, the probability, that both occur simultaneously (joint probability) is: $P(A \\cap B)=P(A \\mid B) \\cdot P(B)$\n",
    "- __Two events are independent__ if their probability is: $P(A \\cap B)=P(A) \\cdot P(B)$ (that holds true for: $P(A|B) = P(A)$)\n",
    "\n",
    "__Note:__ The conditional probability for continuous random variables <a name=\"cite_ref-1\"></a>[<sup>[1]</sup>](#cite_note-1) can be calculated using the joint probability: $P(A \\mid B)=\\frac{P(A \\cap B)}{P(B)}$.\n",
    "\n",
    "\n",
    "Another way of computing the conditional probability is the __Bayes' Theorem__, which is sometimes also referred to as the __Bayes Rule__ and named after Thomas Bayes. This way of computing the conditional probability is useful, if, for instance, the reverse conditional probability is available or easy to compute, or the joint probability is challenging to compute. Hence, the __Bayes' Theorem__ is an easy way of computing the conditional probability without the need to compute the joint probability, which most of the time is hard to calculate. \n",
    "\n",
    "<br>\n",
    "<font size=4>\n",
    "    \n",
    "<b>Formula for Bayes' Theorem:</b>\n",
    "\n",
    "\n",
    "$$P(A \\mid B)=\\frac{P(B \\mid A) \\cdot P(A)}{P(B)}$$\n",
    "</font>\n",
    "\n",
    "where, <br>\n",
    "- A, B are the events\n",
    "- P(A | B) is the probability of A given B is true.\n",
    "- P(B | A) is the probability of B given A is true.\n",
    "- P(A), P(B) are the independent probablities of A and B, respectively\n",
    "\n",
    "<br>\n",
    "<br>\n",
    "\n",
    "<a name=\"cite_note-1\"></a>1. [^](#cite_ref-1) **Random Variables** - A random variable is a real-valued variable whose possible values are determined by a random experiment. The probability of such variables is also called the experimental probability. "
   ]
  },
  {
   "cell_type": "markdown",
   "id": "pressed-kidney",
   "metadata": {
    "id": "intimate-malta"
   },
   "source": [
    "### General Terms:\n",
    "\n",
    "- **Posterior probability: P(A|B)** $\\Rightarrow$ How likely A happens given that B has happened (Posterior)\n",
    "- **Prior probability: P(A)** $\\Rightarrow$ How likely A happens (Prior knowledge)\n",
    "- **Likelihood: P(B|A)** $\\Rightarrow$ How likely B happens given that A has happened (Likelihood)\n",
    "- **Evidence: P(B)** $\\Rightarrow$ How likely B happens (Marginalization)- The probability of observing the evidence.\n",
    "- **Independent events:** $\\Rightarrow$ Event B is said to be independent of event $A$ if $P(B | A) = P(B)$."
   ]
  },
  {
   "cell_type": "markdown",
   "id": "encouraging-correction",
   "metadata": {
    "id": "massive-cassette"
   },
   "source": [
    "Test Accuracy is two numbers __sensitivity__ and __specifity__: \n",
    "\n",
    "__Sensitivity:__ How often is the test correrct on those with the disease; how sensitive is the test to detecting the disease\n",
    "A sensitivity of 100% means that all feature carriers have a true positive test result and that no feature carrier has a false negative test result (remains in the group). \n",
    "\n",
    "In machine learning, this identifies how well a machine learning model can identify __positive examples__. The __true positive rate (TPR)__ or __recall__ are other names for it.\n",
    "\n",
    "__Mathmatical formula to determine the sensitivity:__ \n",
    "<br>\n",
    "$$Sensitivity = \\frac{True Positive}{True Positive + False Negative}$$\n",
    "<br>\n",
    "\n",
    "__Specificity:__ How often is the test correrct on those without the disease. \n",
    "\n",
    "In regard to machine learning, the percentage of true negatives that the model properly detects is known as __specificity__. This suggests that a further percentage of __true negatives__ — which were once thought to be positive and may be referred to as __false positives__ — will be reported. This percentage may also be referred to as a __True Negative Rate (TNR)__. __Specificity (actual negative rate) and false positive rate added together would always equal one__. A model with high specificity will accurately identify the majority of the negative outcomes, whereas one with low specificity may mistakenly classify many negative results as positive.\n",
    "\n",
    "__Mathmatical formula to determine specificity:__\n",
    "<br>\n",
    "$$Specificity = \\frac{True Negative}{True Negative + False Positive}$$\n",
    "<br>"
   ]
  },
  {
   "cell_type": "markdown",
   "id": "medium-sullivan",
   "metadata": {
    "id": "described-guest"
   },
   "source": [
    "# Example Use Case"
   ]
  },
  {
   "cell_type": "markdown",
   "id": "owned-superintendent",
   "metadata": {
    "id": "color-vanilla"
   },
   "source": [
    "Bayes' Theorem can be used to analyze a medical diagnostic test. Consider the scenario that a patient may or may not have a specific disease. \n",
    "\n",
    "__Scenario:__ If a random patient is chosen to undergo medical diagnostic test, what is the probability is that this patient actually has the tested disease. \n",
    "\n",
    "<br> <br>\n",
    "Given the folowing information:\n",
    "- Sensitivity: 0.85 \n",
    "- Specificity: 0.95\n",
    "- Base rate: 0.02% of people have the disease.\n",
    "\n",
    "Use the Bayes' Theorem to calculate how many of those who test  positive, actually have the diseease, i.e the likelihood that a randomly chosen individual will have the given disease if their test is positive:\n",
    "    \n",
    "$$P(A \\mid B)=\\frac{P(B \\mid A) \\cdot P(A)}{P(B)}\n",
    "\\Rightarrow  P(disease=true\\mid test=positive)=\\frac{P(test=positive \\; \\mid \\; disease=true) \\cdot P(disease=true)}{P(test=positive)}$$\n",
    "\n",
    "__Note:__ We do not have $P(test=positive)$, but we can compute it as follows\n",
    "\n",
    "$$P(B) = P(B|A) \\cdot P(A) + P(B | A^{\\prime} ) \\cdot P(A^{\\prime})$$ \n",
    "\n",
    "which translates to: <br><br>\n",
    "$P(\\text{{disease=false}}) = 1 - P(\\text{{disease=true}})$\n",
    "\n",
    "(which is just our base rate)\n",
    "\n",
    "$\\Rightarrow 1 - 0.0002 = \\underline{\\underline{0.9998}}$\n",
    "\n",
    "The same goes for the probability of a positive test result given no disease, i.e. _\"false alarm\"_. Which we can derive as follows:\n",
    "$$P(\\text{{test=positive}} | \\text{{disease=false}}) = 1 - P(\\text{{test=negative}} | \\text{{disease=false}}) (our specificity) \\Rightarrow 1 - 0.95 = \\underline{\\underline{0.05}}$$\n",
    "\n",
    "Plug into equation:\n",
    "\n",
    "$P(test=positive) = 0.85 \\cdot 0.0002 + 0.05 \\cdot 0.9998 = 0.05016 $ $\\Rightarrow$ This is the probability (5%) of the test returning a positive result, regardless of whether the person has the disease or not.\n",
    "\n",
    "Use the Bayes' Theorem to determine if a randomly chosen person has a positive test result, what is the likelihood that they have the disease?\n",
    "\n",
    "Which can be expressed as follows:\n",
    "<br>\n",
    "\n",
    "$P(disease=true \\mid test=positive) = \\frac {P(test=positive \\; \\mid \\; disease=true) \\cdot P(disease=true)} {P(test=positive)} $ $\\Rightarrow$ $\\frac{0.85 \\cdot 0.0002}{0.05016} = \\underline{\\underline{0.003389}}$\n",
    "\n",
    "Or there is only a $0.34\\%$ likelihood that the patient has the condition."
   ]
  },
  {
   "cell_type": "markdown",
   "id": "latest-repeat",
   "metadata": {
    "id": "golden-thirty"
   },
   "source": [
    "---"
   ]
  },
  {
   "cell_type": "markdown",
   "id": "bibliographic-fraud",
   "metadata": {
    "id": "alternate-buffalo"
   },
   "source": [
    "Consider a simple toy example for binary classification with a logistic regression example. Translate the previous example onto a binary classification example. Define a confusion matrix (also known as an error matrix, and it is a type of contingency table):\n",
    "\n",
    "\n",
    "|  | Positive Class | Negative Class |\n",
    "| --- | --- | --- |\n",
    "Positive prediction | True positive (TP)  | False positive (FP)|\n",
    "Negative prediction | False negative (FN) | True negative (TN) |\n",
    "\n",
    "<br> <br>\n",
    "\n",
    "Now let's define some terminology of the confusion matrix: \n",
    "- True positive rate (TPR) = $\\frac {TP} {(TP + FN)}$ $\\Rightarrow$ sensitivity $\\Rightarrow$ __recall__ <br><br> \n",
    "- False positive rate (FPR) = $\\frac {FP} {(FP + TN)}$ <br><br>\n",
    "- True negative rate (TNR) = $\\frac {TN} {(TN + FP)}$  $\\Rightarrow$ __specificity__ <br><br>\n",
    "- False negative rate (FNR) = $\\frac {FN} {(FN + TP)}$ <br><br>\n",
    "- The proportion of the instances we correctly labeled as positive (per total positive prediction) is given by $\\frac {TP}{(TP+FP)}$ and is called __precision__.\n",
    "\n",
    "These terms are called rates, but they can also be interpreted as probabilities an be maped to the Bayes' Theorem:\n",
    "\n",
    "- $P(B|A)$ $\\Rightarrow$ True positive rate (TPR).\n",
    "- $P(not B|not A)$ $\\Rightarrow$ True negative rate (TNR).\n",
    "- $P(B|not A)$ $\\Rightarrow$ False positive rate (FPR).\n",
    "- $P(not B|A)$ $\\Rightarrow$ False negative rate (FNR).\n",
    "\n",
    "In accordance with the Bayes' Theorem, translate the base rates for the condition (class) and the treatment (prediction) as follows: \n",
    "\n",
    "- $P(A)$ $\\Rightarrow$ probability of a positive class (PC).\n",
    "- $P(A^{\\prime})$ $\\Rightarrow$ probability of a negative class (NC).\n",
    "- $P(B)$ $\\Rightarrow$ probability of a positive prediction (PP).\n",
    "- $P(B^{\\prime})$ $\\Rightarrow$ probability of a negative prediction (NP).\n",
    "\n"
   ]
  },
  {
   "cell_type": "markdown",
   "id": "indoor-defense",
   "metadata": {
    "id": "regional-accident"
   },
   "source": [
    "Now let's use the Bayes' Theorem: \n",
    "\n",
    "<font size=4> <br>\n",
    "- $P(A|B) = \\frac{P(B|A) \\;\\cdot\\; P(A)} { P(B)}$ $ \\;\\Rightarrow \\;$ $\\frac{TPR\\; \\cdot\\;  PC} { PP}$ <br><br>\n",
    "</font>\n",
    "Often, we can't compute $P(B)$ directly, so we have to use an alternative way:\n",
    "\n",
    "<font size=4> <br>\n",
    "- $P(B) = P(B|A) \\;\\cdot\\; P(A) +  P(B | A^{\\prime}) \\; \\cdot \\; P(A^{\\prime})$ $\\;\\Rightarrow \\;$ $TPR \\; \\cdot \\; PC \\; + \\; FPR \\; \\cdot \\; NC$ <br><br>\n",
    "</font>\n",
    "\n",
    "Consider the case where, tested for the disease: \n",
    "\n",
    "- True positive rate (TPR): 85%\n",
    "- False positive rate (FPR): 5%\n",
    "- True negative rate (TNR): 95%\n",
    "- False negative rate (FNR): 15%\n",
    "\n",
    "And: \n",
    "\n",
    "- Positive class (PC): 0.02%\n",
    "- Negative class (NC): 99.98%\n",
    "- Positive prediction (PP): 5.016%\n",
    "- Negative prediction (NP): 94.984%\n",
    "\n",
    "Putting it all together:\n",
    "<font size=2> <br>\n",
    "- P(B) = $P(B|A) \\;\\cdot\\; P(A) + P(B|A^{\\prime}) \\;\\cdot\\; P(A^{\\prime})$ $\\;\\Rightarrow \\;$ $TPR \\;\\cdot\\; PC + FPR \\;\\cdot\\; NC$ $\\;\\Rightarrow \\;$ $85\\% \\;\\cdot\\; 0.02\\% + 5\\% \\;\\cdot\\; 99.98\\% =  \\underline{\\underline{5.016\\%}}  $\n",
    "\n",
    "</font>\n",
    "\n",
    "Apply the Bayes' Theorem to the szenario: \n",
    "\n",
    "<font size=2> <br>\n",
    "$ P(A|B) = \\frac {P(B|A) \\;\\cdot\\; P(A)}{ P(B)} $ $\\;\\Rightarrow \\;$ $ \\frac {TPR \\;\\cdot\\; PC} { PP} $ $\\;\\Rightarrow \\;$ $\\frac {85\\% \\;\\cdot\\; 0.02\\%} { 5.016\\%} = \\underline{\\underline{0.339\\%}}$\n",
    "</font>\n",
    "\n",
    "As it turns out, the precision, also known as the positive predictive value (PPV) of the confusion matrix, is similar to the posterior probability computed with the Bayes' Theorem:\n",
    "\n",
    "<font size=4> <br>\n",
    "$PPV = \\frac {TP}{(TP+FP)}$ $\\;\\Rightarrow \\;$ $P(A|B)$ $\\;\\Rightarrow \\;$ $ \\frac {TPR \\; \\cdot \\;PC }{PP}$\n",
    "</font>\n",
    "\n",
    "In practice, the confusion matrix is not avilable for a population who have been tested and haven't been tested, both with and without a condition, but only few priors and probabilities for the population and test are avilable."
   ]
  },
  {
   "cell_type": "markdown",
   "id": "f6509a38",
   "metadata": {},
   "source": [
    "## Compute likelihood by hand"
   ]
  },
  {
   "cell_type": "markdown",
   "id": "dirty-roberts",
   "metadata": {
    "id": "incorrect-center"
   },
   "source": [
    "Given the following information: <br>\n",
    "- Sensitivity: 0.95 \n",
    "- Specificity: 0.98\n",
    "- Base rate: 0.005% of people have the disease.\n",
    "\n",
    "Compute the likelihood that the patient has the condition if they are told they have so through the test. \n",
    "\n"
   ]
  },
  {
   "cell_type": "markdown",
   "id": "de897465",
   "metadata": {},
   "source": [
    "$P(A|B) = \\frac{P(B|A) \\;\\cdot\\; P(A)} { P(B)}$\n",
    "where\n",
    "- $P(A)$ = 0.005\n",
    "- $P(A^c)$ = 1 - 0.005 = 0.995\n",
    "- $P(B|A)$ = Sensitivity = 0.95\n",
    "- $P(B | A^c)$ = 1 - $P(B^c | A^{c})$ = 1 - specificity = 0.02\n",
    "- $P(B) = P(B|A) \\;\\cdot\\; P(A) +  P(B | A^{c}) \\; \\cdot \\; P(A^{c})$ $\\;\\Rightarrow \\;$ $P(B) =  TPR \\; \\cdot \\; P(A) \\; + \\; FPR \\; \\cdot \\; P(A^c)$ <br><br> hance <br>\n",
    "  P(B)  = 0.95 . 0.005 + 0.02 . 0.995 = 0.02465 <br><br>\n",
    "  and so \n",
    "  $P(A|B) = \\frac{0.95 (0.005)}{0.02465}$ =  0.19269 <br><br>\n",
    "  approximetly 19% likelihood a patient has the condition if his/her test is positive.\n"
   ]
  },
  {
   "cell_type": "markdown",
   "id": "usual-blowing",
   "metadata": {
    "id": "aging-collins"
   },
   "source": [
    "---"
   ]
  },
  {
   "cell_type": "markdown",
   "id": "varied-asset",
   "metadata": {
    "id": "elder-bahamas"
   },
   "source": [
    "# Classification Performance"
   ]
  },
  {
   "cell_type": "code",
   "execution_count": 4,
   "id": "civic-benefit",
   "metadata": {
    "id": "mediterranean-double"
   },
   "outputs": [],
   "source": [
    "# imports\n",
    "import numpy as np\n",
    "import pandas as pd\n",
    "from itertools import product\n",
    "import math\n",
    "\n",
    "\n",
    "# imports fro plotting\n",
    "import matplotlib.pyplot as plt\n",
    "\n",
    "# imports fron sklearn\n",
    "from sklearn.metrics import confusion_matrix\n",
    "from sklearn.linear_model import LogisticRegression\n",
    "\n",
    "# ignore warnings\n",
    "import warnings\n",
    "warnings.filterwarnings(action='ignore')\n",
    "\n",
    "# specifics for plotting\n",
    "\n",
    "%matplotlib inline\n",
    "\n",
    "# custom imports\n",
    "import utils as ut\n",
    "import plotting as pl"
   ]
  },
  {
   "cell_type": "markdown",
   "id": "asian-northern",
   "metadata": {
    "id": "younger-major"
   },
   "source": [
    "# Helper Functions"
   ]
  },
  {
   "cell_type": "markdown",
   "id": "south-exclusion",
   "metadata": {
    "id": "scheduled-cargo"
   },
   "source": [
    "Formulas used:"
   ]
  },
  {
   "cell_type": "markdown",
   "id": "yellow-captain",
   "metadata": {
    "id": "interracial-mexico"
   },
   "source": [
    "- True positive rate (TPR) = $\\frac {TP} {(TP + FN)}$ $\\Rightarrow$ sensitivity $\\Rightarrow$ __recall__ <br><br> \n",
    "- False positive rate (FPR) = $\\frac {FP} {(FP + TN)}$ <br><br>\n",
    "- True negative rate (TNR) = $\\frac {TN} {(TN + FP)}$  $\\Rightarrow$ __specificity__ <br><br>\n",
    "- False negative rate (FNR) = $\\frac {FN} {(FN + TP)}$ <br><br>\n",
    "- The proportion of the instances we correctly labeled as positive (per total positive prediction) is given by $\\frac {TP}{(TP+FP)}$ and is called __precision__. <br><br>\n",
    "- The __F1-score__ combines the precision and recall into a single metric: $\\frac{2 \\; \\cdot \\;(precision\\; \\cdot \\; recall)}{precision \\; + \\; recall}$"
   ]
  },
  {
   "cell_type": "code",
   "execution_count": 6,
   "id": "drawn-links",
   "metadata": {
    "id": "attractive-coaching"
   },
   "outputs": [],
   "source": [
    "# calculate the models metrics for evaluating the model\n",
    "\n",
    "def true_pos(pred,y) : # number of true positives (TP)\n",
    "    return np.sum((y==1) & (pred==1))\n",
    "\n",
    "def true_neg(pred,y) : # number of true negatives (TN)\n",
    "    return np.sum((y==0) & (pred==0))\n",
    "\n",
    "def false_pos(pred,y) : # number of false positives (FP)\n",
    "    return np.sum((y==0) & (pred==1))\n",
    "\n",
    "def false_neg(pred,y) : # number of false negatives (FN)\n",
    "    return np.sum((y==1) & (pred==0))\n",
    "        \n",
    "def precision(pred,y) : # precision = TP/(TP+FP)\n",
    "    return np.sum((y==1) & (pred==1))/(np.sum((y==1) & (pred==1)) + np.sum((y==0) & (pred==1)))\n",
    "\n",
    "def recall(pred,y) : # recall = TP/(TP+FN)\n",
    "    return np.sum((y==1) & (pred==1))/(np.sum((y==1) & (pred==1)) + np.sum((y==1) & (pred==0)))\n",
    "\n",
    "def accuracy_pos(pred,y) : # accuracy on positive cases\n",
    "    return np.sum(y[pred==1] == 1)/y[y==1].size * 100\n",
    "    \n",
    "def accuracy_neg(pred,y) : # accuracy on negative cases\n",
    "    return np.sum(y[pred==0] == 0)/y[y==0].size * 100\n",
    "\n",
    "def accuracy(pred,y) : # overall accuracy of model\n",
    "    return np.sum(pred==y)/y.size * 100 \n",
    "\n",
    "def f1_score(pred,y):\n",
    "    f1_score = 2 * (precision(pred,y) * recall(pred,y))/(precision(pred,y) + recall(pred,y))\n",
    "    return f1_score"
   ]
  },
  {
   "cell_type": "code",
   "execution_count": 7,
   "id": "operational-essay",
   "metadata": {
    "id": "comparable-stylus"
   },
   "outputs": [],
   "source": [
    "# pretty print the evaluation results\n",
    "def print_model_quality(title, pred, y): \n",
    "    print('\\n',title.center(60,' '))\n",
    "    print('\\n==============================================================\\n')\n",
    "    print( 'Total number of data points:    \\t{}'.format(y.size))\n",
    "    print( 'Number of Positive values(1s):  \\t{}'.format(y[y==1].size))\n",
    "    print( 'Number of Negative values(0s): \\t\\t{}'.format(y[y==0].size))\n",
    "    print( '\\nNumber of True Positives: \\t\\t{}'.format(true_pos(pred,y)))\n",
    "    print( 'Number of False Positives: \\t\\t{}'.format(false_pos(pred,y)))\n",
    "    print( '\\nNumber of True Negatives:  \\t\\t{}'.format(true_neg(pred,y)))\n",
    "    print( 'Number of False Negatives: \\t\\t{}'.format(false_neg(pred,y)))\n",
    "    print('\\n--------------------------------------------------------------\\n')\n",
    "    print( '\\nModel Accuracy: \\t\\t\\t{:.2f}%'.format(accuracy(pred,y)))\n",
    "    print( 'Model Recall Sensivity: \\t\\t{:.2f}%'.format(accuracy_pos(pred,y)))\n",
    "    print( 'Model Specificity: \\t\\t\\t{:.2f}%'.format(accuracy_neg(pred,y)))\n",
    "    print( '\\nModel Precision: \\t\\t\\t{:.2f}'.format(precision(pred,y)))\n",
    "    print( '\\nModel Recall: \\t\\t\\t\\t{:.2f}'.format(recall(pred,y)))\n",
    "    print('\\n--------------------------------------------------------------\\n')\n",
    "    print( '\\nModel F1 Score: \\t\\t\\t{:.2f}'.format(f1_score(pred,y)))\n",
    "    print('\\n==============================================================')"
   ]
  },
  {
   "cell_type": "markdown",
   "id": "timely-windows",
   "metadata": {
    "id": "rental-operation"
   },
   "source": [
    "## Generate Synthetic Dataset"
   ]
  },
  {
   "cell_type": "code",
   "execution_count": 8,
   "id": "presidential-crowd",
   "metadata": {
    "id": "static-dependence"
   },
   "outputs": [],
   "source": [
    "mu = [(-4.0, 1.0), (2.0, 3.0)]\n",
    "sigma = [(1.2, 0.8), (0.7, 1.0)]\n",
    "points = [50, 50]\n",
    "num_cluster = 2\n",
    "X, y = ut.make_classification(mu, sigma, num_cluster , points, dimensions=2, multi=False)"
   ]
  },
  {
   "cell_type": "code",
   "execution_count": 9,
   "id": "extended-spoke",
   "metadata": {
    "id": "invisible-alarm",
    "outputId": "99504167-4c9a-46c7-cccd-9dd46adfa5a4"
   },
   "outputs": [
    {
     "name": "stdout",
     "output_type": "stream",
     "text": [
      "(100, 2)\n",
      "(100,)\n"
     ]
    }
   ],
   "source": [
    "# check if the dimension are correct - 50 datapoints for each class\n",
    "print(X.shape)\n",
    "print(y.shape)"
   ]
  },
  {
   "cell_type": "markdown",
   "id": "killing-right",
   "metadata": {
    "id": "functioning-microphone"
   },
   "source": [
    "## Plot the Dataset"
   ]
  },
  {
   "cell_type": "code",
   "execution_count": 10,
   "id": "adaptive-activation",
   "metadata": {
    "id": "dress-demonstration",
    "outputId": "9ca77905-f4c9-4610-cc70-b0a886c1b768"
   },
   "outputs": [
    {
     "data": {
      "image/png": "[encoded data removed]",
      "text/plain": [
       "<Figure size 1000x700 with 1 Axes>"
      ]
     },
     "metadata": {},
     "output_type": "display_data"
    }
   ],
   "source": [
    "pl.plot_distribution(X,y, 'Synthetic Logistic Regression Data', 'Synthetic_Dataset')"
   ]
  },
  {
   "cell_type": "code",
   "execution_count": 11,
   "id": "neutral-material",
   "metadata": {
    "id": "heard-penalty",
    "outputId": "b59880b4-4d77-4959-8fc1-17bdb7b7c97b"
   },
   "outputs": [
    {
     "data": {
      "text/html": [
       "<style>#sk-container-id-1 {\n",
       "  /* Definition of color scheme common for light and dark mode */\n",
       "  --sklearn-color-text: black;\n",
       "  --sklearn-color-line: gray;\n",
       "  /* Definition of color scheme for unfitted estimators */\n",
       "  --sklearn-color-unfitted-level-0: #fff5e6;\n",
       "  --sklearn-color-unfitted-level-1: #f6e4d2;\n",
       "  --sklearn-color-unfitted-level-2: #ffe0b3;\n",
       "  --sklearn-color-unfitted-level-3: chocolate;\n",
       "  /* Definition of color scheme for fitted estimators */\n",
       "  --sklearn-color-fitted-level-0: #f0f8ff;\n",
       "  --sklearn-color-fitted-level-1: #d4ebff;\n",
       "  --sklearn-color-fitted-level-2: #b3dbfd;\n",
       "  --sklearn-color-fitted-level-3: cornflowerblue;\n",
       "\n",
       "  /* Specific color for light theme */\n",
       "  --sklearn-color-text-on-default-background: var(--sg-text-color, var(--theme-code-foreground, var(--jp-content-font-color1, black)));\n",
       "  --sklearn-color-background: var(--sg-background-color, var(--theme-background, var(--jp-layout-color0, white)));\n",
       "  --sklearn-color-border-box: var(--sg-text-color, var(--theme-code-foreground, var(--jp-content-font-color1, black)));\n",
       "  --sklearn-color-icon: #696969;\n",
       "\n",
       "  @media (prefers-color-scheme: dark) {\n",
       "    /* Redefinition of color scheme for dark theme */\n",
       "    --sklearn-color-text-on-default-background: var(--sg-text-color, var(--theme-code-foreground, var(--jp-content-font-color1, white)));\n",
       "    --sklearn-color-background: var(--sg-background-color, var(--theme-background, var(--jp-layout-color0, #111)));\n",
       "    --sklearn-color-border-box: var(--sg-text-color, var(--theme-code-foreground, var(--jp-content-font-color1, white)));\n",
       "    --sklearn-color-icon: #878787;\n",
       "  }\n",
       "}\n",
       "\n",
       "#sk-container-id-1 {\n",
       "  color: var(--sklearn-color-text);\n",
       "}\n",
       "\n",
       "#sk-container-id-1 pre {\n",
       "  padding: 0;\n",
       "}\n",
       "\n",
       "#sk-container-id-1 input.sk-hidden--visually {\n",
       "  border: 0;\n",
       "  clip: rect(1px 1px 1px 1px);\n",
       "  clip: rect(1px, 1px, 1px, 1px);\n",
       "  height: 1px;\n",
       "  margin: -1px;\n",
       "  overflow: hidden;\n",
       "  padding: 0;\n",
       "  position: absolute;\n",
       "  width: 1px;\n",
       "}\n",
       "\n",
       "#sk-container-id-1 div.sk-dashed-wrapped {\n",
       "  border: 1px dashed var(--sklearn-color-line);\n",
       "  margin: 0 0.4em 0.5em 0.4em;\n",
       "  box-sizing: border-box;\n",
       "  padding-bottom: 0.4em;\n",
       "  background-color: var(--sklearn-color-background);\n",
       "}\n",
       "\n",
       "#sk-container-id-1 div.sk-container {\n",
       "  /* jupyter's `normalize.less` sets `[hidden] { display: none; }`\n",
       "     but bootstrap.min.css set `[hidden] { display: none !important; }`\n",
       "     so we also need the `!important` here to be able to override the\n",
       "     default hidden behavior on the sphinx rendered scikit-learn.org.\n",
       "     See: https://github.com/scikit-learn/scikit-learn/issues/21755 */\n",
       "  display: inline-block !important;\n",
       "  position: relative;\n",
       "}\n",
       "\n",
       "#sk-container-id-1 div.sk-text-repr-fallback {\n",
       "  display: none;\n",
       "}\n",
       "\n",
       "div.sk-parallel-item,\n",
       "div.sk-serial,\n",
       "div.sk-item {\n",
       "  /* draw centered vertical line to link estimators */\n",
       "  background-image: linear-gradient(var(--sklearn-color-text-on-default-background), var(--sklearn-color-text-on-default-background));\n",
       "  background-size: 2px 100%;\n",
       "  background-repeat: no-repeat;\n",
       "  background-position: center center;\n",
       "}\n",
       "\n",
       "/* Parallel-specific style estimator block */\n",
       "\n",
       "#sk-container-id-1 div.sk-parallel-item::after {\n",
       "  content: \"\";\n",
       "  width: 100%;\n",
       "  border-bottom: 2px solid var(--sklearn-color-text-on-default-background);\n",
       "  flex-grow: 1;\n",
       "}\n",
       "\n",
       "#sk-container-id-1 div.sk-parallel {\n",
       "  display: flex;\n",
       "  align-items: stretch;\n",
       "  justify-content: center;\n",
       "  background-color: var(--sklearn-color-background);\n",
       "  position: relative;\n",
       "}\n",
       "\n",
       "#sk-container-id-1 div.sk-parallel-item {\n",
       "  display: flex;\n",
       "  flex-direction: column;\n",
       "}\n",
       "\n",
       "#sk-container-id-1 div.sk-parallel-item:first-child::after {\n",
       "  align-self: flex-end;\n",
       "  width: 50%;\n",
       "}\n",
       "\n",
       "#sk-container-id-1 div.sk-parallel-item:last-child::after {\n",
       "  align-self: flex-start;\n",
       "  width: 50%;\n",
       "}\n",
       "\n",
       "#sk-container-id-1 div.sk-parallel-item:only-child::after {\n",
       "  width: 0;\n",
       "}\n",
       "\n",
       "/* Serial-specific style estimator block */\n",
       "\n",
       "#sk-container-id-1 div.sk-serial {\n",
       "  display: flex;\n",
       "  flex-direction: column;\n",
       "  align-items: center;\n",
       "  background-color: var(--sklearn-color-background);\n",
       "  padding-right: 1em;\n",
       "  padding-left: 1em;\n",
       "}\n",
       "\n",
       "\n",
       "/* Toggleable style: style used for estimator/Pipeline/ColumnTransformer box that is\n",
       "clickable and can be expanded/collapsed.\n",
       "- Pipeline and ColumnTransformer use this feature and define the default style\n",
       "- Estimators will overwrite some part of the style using the `sk-estimator` class\n",
       "*/\n",
       "\n",
       "/* Pipeline and ColumnTransformer style (default) */\n",
       "\n",
       "#sk-container-id-1 div.sk-toggleable {\n",
       "  /* Default theme specific background. It is overwritten whether we have a\n",
       "  specific estimator or a Pipeline/ColumnTransformer */\n",
       "  background-color: var(--sklearn-color-background);\n",
       "}\n",
       "\n",
       "/* Toggleable label */\n",
       "#sk-container-id-1 label.sk-toggleable__label {\n",
       "  cursor: pointer;\n",
       "  display: block;\n",
       "  width: 100%;\n",
       "  margin-bottom: 0;\n",
       "  padding: 0.5em;\n",
       "  box-sizing: border-box;\n",
       "  text-align: center;\n",
       "}\n",
       "\n",
       "#sk-container-id-1 label.sk-toggleable__label-arrow:before {\n",
       "  /* Arrow on the left of the label */\n",
       "  content: \"▸\";\n",
       "  float: left;\n",
       "  margin-right: 0.25em;\n",
       "  color: var(--sklearn-color-icon);\n",
       "}\n",
       "\n",
       "#sk-container-id-1 label.sk-toggleable__label-arrow:hover:before {\n",
       "  color: var(--sklearn-color-text);\n",
       "}\n",
       "\n",
       "/* Toggleable content - dropdown */\n",
       "\n",
       "#sk-container-id-1 div.sk-toggleable__content {\n",
       "  max-height: 0;\n",
       "  max-width: 0;\n",
       "  overflow: hidden;\n",
       "  text-align: left;\n",
       "  /* unfitted */\n",
       "  background-color: var(--sklearn-color-unfitted-level-0);\n",
       "}\n",
       "\n",
       "#sk-container-id-1 div.sk-toggleable__content.fitted {\n",
       "  /* fitted */\n",
       "  background-color: var(--sklearn-color-fitted-level-0);\n",
       "}\n",
       "\n",
       "#sk-container-id-1 div.sk-toggleable__content pre {\n",
       "  margin: 0.2em;\n",
       "  border-radius: 0.25em;\n",
       "  color: var(--sklearn-color-text);\n",
       "  /* unfitted */\n",
       "  background-color: var(--sklearn-color-unfitted-level-0);\n",
       "}\n",
       "\n",
       "#sk-container-id-1 div.sk-toggleable__content.fitted pre {\n",
       "  /* unfitted */\n",
       "  background-color: var(--sklearn-color-fitted-level-0);\n",
       "}\n",
       "\n",
       "#sk-container-id-1 input.sk-toggleable__control:checked~div.sk-toggleable__content {\n",
       "  /* Expand drop-down */\n",
       "  max-height: 200px;\n",
       "  max-width: 100%;\n",
       "  overflow: auto;\n",
       "}\n",
       "\n",
       "#sk-container-id-1 input.sk-toggleable__control:checked~label.sk-toggleable__label-arrow:before {\n",
       "  content: \"▾\";\n",
       "}\n",
       "\n",
       "/* Pipeline/ColumnTransformer-specific style */\n",
       "\n",
       "#sk-container-id-1 div.sk-label input.sk-toggleable__control:checked~label.sk-toggleable__label {\n",
       "  color: var(--sklearn-color-text);\n",
       "  background-color: var(--sklearn-color-unfitted-level-2);\n",
       "}\n",
       "\n",
       "#sk-container-id-1 div.sk-label.fitted input.sk-toggleable__control:checked~label.sk-toggleable__label {\n",
       "  background-color: var(--sklearn-color-fitted-level-2);\n",
       "}\n",
       "\n",
       "/* Estimator-specific style */\n",
       "\n",
       "/* Colorize estimator box */\n",
       "#sk-container-id-1 div.sk-estimator input.sk-toggleable__control:checked~label.sk-toggleable__label {\n",
       "  /* unfitted */\n",
       "  background-color: var(--sklearn-color-unfitted-level-2);\n",
       "}\n",
       "\n",
       "#sk-container-id-1 div.sk-estimator.fitted input.sk-toggleable__control:checked~label.sk-toggleable__label {\n",
       "  /* fitted */\n",
       "  background-color: var(--sklearn-color-fitted-level-2);\n",
       "}\n",
       "\n",
       "#sk-container-id-1 div.sk-label label.sk-toggleable__label,\n",
       "#sk-container-id-1 div.sk-label label {\n",
       "  /* The background is the default theme color */\n",
       "  color: var(--sklearn-color-text-on-default-background);\n",
       "}\n",
       "\n",
       "/* On hover, darken the color of the background */\n",
       "#sk-container-id-1 div.sk-label:hover label.sk-toggleable__label {\n",
       "  color: var(--sklearn-color-text);\n",
       "  background-color: var(--sklearn-color-unfitted-level-2);\n",
       "}\n",
       "\n",
       "/* Label box, darken color on hover, fitted */\n",
       "#sk-container-id-1 div.sk-label.fitted:hover label.sk-toggleable__label.fitted {\n",
       "  color: var(--sklearn-color-text);\n",
       "  background-color: var(--sklearn-color-fitted-level-2);\n",
       "}\n",
       "\n",
       "/* Estimator label */\n",
       "\n",
       "#sk-container-id-1 div.sk-label label {\n",
       "  font-family: monospace;\n",
       "  font-weight: bold;\n",
       "  display: inline-block;\n",
       "  line-height: 1.2em;\n",
       "}\n",
       "\n",
       "#sk-container-id-1 div.sk-label-container {\n",
       "  text-align: center;\n",
       "}\n",
       "\n",
       "/* Estimator-specific */\n",
       "#sk-container-id-1 div.sk-estimator {\n",
       "  font-family: monospace;\n",
       "  border: 1px dotted var(--sklearn-color-border-box);\n",
       "  border-radius: 0.25em;\n",
       "  box-sizing: border-box;\n",
       "  margin-bottom: 0.5em;\n",
       "  /* unfitted */\n",
       "  background-color: var(--sklearn-color-unfitted-level-0);\n",
       "}\n",
       "\n",
       "#sk-container-id-1 div.sk-estimator.fitted {\n",
       "  /* fitted */\n",
       "  background-color: var(--sklearn-color-fitted-level-0);\n",
       "}\n",
       "\n",
       "/* on hover */\n",
       "#sk-container-id-1 div.sk-estimator:hover {\n",
       "  /* unfitted */\n",
       "  background-color: var(--sklearn-color-unfitted-level-2);\n",
       "}\n",
       "\n",
       "#sk-container-id-1 div.sk-estimator.fitted:hover {\n",
       "  /* fitted */\n",
       "  background-color: var(--sklearn-color-fitted-level-2);\n",
       "}\n",
       "\n",
       "/* Specification for estimator info (e.g. \"i\" and \"?\") */\n",
       "\n",
       "/* Common style for \"i\" and \"?\" */\n",
       "\n",
       ".sk-estimator-doc-link,\n",
       "a:link.sk-estimator-doc-link,\n",
       "a:visited.sk-estimator-doc-link {\n",
       "  float: right;\n",
       "  font-size: smaller;\n",
       "  line-height: 1em;\n",
       "  font-family: monospace;\n",
       "  background-color: var(--sklearn-color-background);\n",
       "  border-radius: 1em;\n",
       "  height: 1em;\n",
       "  width: 1em;\n",
       "  text-decoration: none !important;\n",
       "  margin-left: 1ex;\n",
       "  /* unfitted */\n",
       "  border: var(--sklearn-color-unfitted-level-1) 1pt solid;\n",
       "  color: var(--sklearn-color-unfitted-level-1);\n",
       "}\n",
       "\n",
       ".sk-estimator-doc-link.fitted,\n",
       "a:link.sk-estimator-doc-link.fitted,\n",
       "a:visited.sk-estimator-doc-link.fitted {\n",
       "  /* fitted */\n",
       "  border: var(--sklearn-color-fitted-level-1) 1pt solid;\n",
       "  color: var(--sklearn-color-fitted-level-1);\n",
       "}\n",
       "\n",
       "/* On hover */\n",
       "div.sk-estimator:hover .sk-estimator-doc-link:hover,\n",
       ".sk-estimator-doc-link:hover,\n",
       "div.sk-label-container:hover .sk-estimator-doc-link:hover,\n",
       ".sk-estimator-doc-link:hover {\n",
       "  /* unfitted */\n",
       "  background-color: var(--sklearn-color-unfitted-level-3);\n",
       "  color: var(--sklearn-color-background);\n",
       "  text-decoration: none;\n",
       "}\n",
       "\n",
       "div.sk-estimator.fitted:hover .sk-estimator-doc-link.fitted:hover,\n",
       ".sk-estimator-doc-link.fitted:hover,\n",
       "div.sk-label-container:hover .sk-estimator-doc-link.fitted:hover,\n",
       ".sk-estimator-doc-link.fitted:hover {\n",
       "  /* fitted */\n",
       "  background-color: var(--sklearn-color-fitted-level-3);\n",
       "  color: var(--sklearn-color-background);\n",
       "  text-decoration: none;\n",
       "}\n",
       "\n",
       "/* Span, style for the box shown on hovering the info icon */\n",
       ".sk-estimator-doc-link span {\n",
       "  display: none;\n",
       "  z-index: 9999;\n",
       "  position: relative;\n",
       "  font-weight: normal;\n",
       "  right: .2ex;\n",
       "  padding: .5ex;\n",
       "  margin: .5ex;\n",
       "  width: min-content;\n",
       "  min-width: 20ex;\n",
       "  max-width: 50ex;\n",
       "  color: var(--sklearn-color-text);\n",
       "  box-shadow: 2pt 2pt 4pt #999;\n",
       "  /* unfitted */\n",
       "  background: var(--sklearn-color-unfitted-level-0);\n",
       "  border: .5pt solid var(--sklearn-color-unfitted-level-3);\n",
       "}\n",
       "\n",
       ".sk-estimator-doc-link.fitted span {\n",
       "  /* fitted */\n",
       "  background: var(--sklearn-color-fitted-level-0);\n",
       "  border: var(--sklearn-color-fitted-level-3);\n",
       "}\n",
       "\n",
       ".sk-estimator-doc-link:hover span {\n",
       "  display: block;\n",
       "}\n",
       "\n",
       "/* \"?\"-specific style due to the `<a>` HTML tag */\n",
       "\n",
       "#sk-container-id-1 a.estimator_doc_link {\n",
       "  float: right;\n",
       "  font-size: 1rem;\n",
       "  line-height: 1em;\n",
       "  font-family: monospace;\n",
       "  background-color: var(--sklearn-color-background);\n",
       "  border-radius: 1rem;\n",
       "  height: 1rem;\n",
       "  width: 1rem;\n",
       "  text-decoration: none;\n",
       "  /* unfitted */\n",
       "  color: var(--sklearn-color-unfitted-level-1);\n",
       "  border: var(--sklearn-color-unfitted-level-1) 1pt solid;\n",
       "}\n",
       "\n",
       "#sk-container-id-1 a.estimator_doc_link.fitted {\n",
       "  /* fitted */\n",
       "  border: var(--sklearn-color-fitted-level-1) 1pt solid;\n",
       "  color: var(--sklearn-color-fitted-level-1);\n",
       "}\n",
       "\n",
       "/* On hover */\n",
       "#sk-container-id-1 a.estimator_doc_link:hover {\n",
       "  /* unfitted */\n",
       "  background-color: var(--sklearn-color-unfitted-level-3);\n",
       "  color: var(--sklearn-color-background);\n",
       "  text-decoration: none;\n",
       "}\n",
       "\n",
       "#sk-container-id-1 a.estimator_doc_link.fitted:hover {\n",
       "  /* fitted */\n",
       "  background-color: var(--sklearn-color-fitted-level-3);\n",
       "}\n",
       "</style><div id=\"sk-container-id-1\" class=\"sk-top-container\"><div class=\"sk-text-repr-fallback\"><pre>LogisticRegression(random_state=0, solver=&#x27;liblinear&#x27;)</pre><b>In a Jupyter environment, please rerun this cell to show the HTML representation or trust the notebook. <br />On GitHub, the HTML representation is unable to render, please try loading this page with nbviewer.org.</b></div><div class=\"sk-container\" hidden><div class=\"sk-item\"><div class=\"sk-estimator fitted sk-toggleable\"><input class=\"sk-toggleable__control sk-hidden--visually\" id=\"sk-estimator-id-1\" type=\"checkbox\" checked><label for=\"sk-estimator-id-1\" class=\"sk-toggleable__label fitted sk-toggleable__label-arrow fitted\">&nbsp;&nbsp;LogisticRegression<a class=\"sk-estimator-doc-link fitted\" rel=\"noreferrer\" target=\"_blank\" href=\"https://scikit-learn.org/1.4/modules/generated/sklearn.linear_model.LogisticRegression.html\">?<span>Documentation for LogisticRegression</span></a><span class=\"sk-estimator-doc-link fitted\">i<span>Fitted</span></span></label><div class=\"sk-toggleable__content fitted\"><pre>LogisticRegression(random_state=0, solver=&#x27;liblinear&#x27;)</pre></div> </div></div></div></div>"
      ],
      "text/plain": [
       "LogisticRegression(random_state=0, solver='liblinear')"
      ]
     },
     "execution_count": 11,
     "metadata": {},
     "output_type": "execute_result"
    }
   ],
   "source": [
    "model = LogisticRegression(solver='liblinear', random_state=0)\n",
    "model.fit(X, y)"
   ]
  },
  {
   "cell_type": "code",
   "execution_count": 12,
   "id": "enabling-authorization",
   "metadata": {
    "id": "tribal-actress",
    "outputId": "52aa1e4c-e0a2-4e9d-ae84-6df4a66c5119"
   },
   "outputs": [
    {
     "data": {
      "image/png": "[encoded data removed]",
      "text/plain": [
       "<Figure size 1200x700 with 1 Axes>"
      ]
     },
     "metadata": {},
     "output_type": "display_data"
    }
   ],
   "source": [
    "# show a plot with the desision regions\n",
    "pl.plot_decision_boundries(X, y, model,'Logistic Regression - Decision Boundry','Decision_boundry_reg_0' )\n"
   ]
  },
  {
   "cell_type": "markdown",
   "id": "damaged-address",
   "metadata": {
    "id": "acoustic-calendar"
   },
   "source": [
    "# Evaluate the Models Performance"
   ]
  },
  {
   "cell_type": "markdown",
   "id": "acting-edwards",
   "metadata": {
    "id": "revolutionary-parker"
   },
   "source": [
    "## Predict the Labels and Print Performance Metrics"
   ]
  },
  {
   "cell_type": "code",
   "execution_count": 13,
   "id": "academic-fellow",
   "metadata": {
    "id": "congressional-noise",
    "outputId": "781cdc48-2a5d-4d33-c3d6-84fee0bec1cc"
   },
   "outputs": [
    {
     "name": "stdout",
     "output_type": "stream",
     "text": [
      "\n",
      "               Binary Logistic Regression Model              \n",
      "\n",
      "==============================================================\n",
      "\n",
      "Total number of data points:    \t100\n",
      "Number of Positive values(1s):  \t50\n",
      "Number of Negative values(0s): \t\t50\n",
      "\n",
      "Number of True Positives: \t\t50\n",
      "Number of False Positives: \t\t0\n",
      "\n",
      "Number of True Negatives:  \t\t50\n",
      "Number of False Negatives: \t\t0\n",
      "\n",
      "--------------------------------------------------------------\n",
      "\n",
      "\n",
      "Model Accuracy: \t\t\t100.00%\n",
      "Model Recall Sensivity: \t\t100.00%\n",
      "Model Specificity: \t\t\t100.00%\n",
      "\n",
      "Model Precision: \t\t\t1.00\n",
      "\n",
      "Model Recall: \t\t\t\t1.00\n",
      "\n",
      "--------------------------------------------------------------\n",
      "\n",
      "\n",
      "Model F1 Score: \t\t\t1.00\n",
      "\n",
      "==============================================================\n"
     ]
    }
   ],
   "source": [
    "pred = model.predict(X)\n",
    "\n",
    "# show model metrics\n",
    "print_model_quality('Binary Logistic Regression Model', pred, y)"
   ]
  },
  {
   "cell_type": "markdown",
   "id": "finished-therapist",
   "metadata": {
    "id": "streaming-adventure"
   },
   "source": [
    "## Plot Confusion Matrix"
   ]
  },
  {
   "cell_type": "code",
   "execution_count": 14,
   "id": "black-sailing",
   "metadata": {
    "id": "fabulous-packaging",
    "outputId": "a8bf5f36-d0b5-4af1-e10d-3b024902c41b"
   },
   "outputs": [
    {
     "data": {
      "image/png": "[encoded data removed]",
      "text/plain": [
       "<Figure size 800x800 with 1 Axes>"
      ]
     },
     "metadata": {},
     "output_type": "display_data"
    }
   ],
   "source": [
    "cm = confusion_matrix(y, model.predict(X))\n",
    "\n",
    "pl.plot_confusion_matrix(cm, classes=[0, 1],\n",
    "                      title='Confusion matrix, Binary Model', fig_title='first_toy_data')"
   ]
  }
 ],
 "metadata": {
  "colab": {
   "provenance": []
  },
  "kernelspec": {
   "display_name": "Python 3",
   "language": "python",
   "name": "python3"
  },
  "language_info": {
   "codemirror_mode": {
    "name": "ipython",
    "version": 3
   },
   "file_extension": ".py",
   "mimetype": "text/x-python",
   "name": "python",
   "nbconvert_exporter": "python",
   "pygments_lexer": "ipython3",
   "version": "3.11.5"
  },
  "toc": {
   "base_numbering": 1,
   "nav_menu": {},
   "number_sections": false,
   "sideBar": true,
   "skip_h1_title": false,
   "title_cell": "Table of Contents",
   "title_sidebar": "Contents",
   "toc_cell": false,
   "toc_position": {},
   "toc_section_display": true,
   "toc_window_display": true
  },
  "varInspector": {
   "cols": {
    "lenName": 16,
    "lenType": 16,
    "lenVar": 40
   },
   "kernels_config": {
    "python": {
     "delete_cmd_postfix": "",
     "delete_cmd_prefix": "del ",
     "library": "var_list.py",
     "varRefreshCmd": "print(var_dic_list())"
    },
    "r": {
     "delete_cmd_postfix": ") ",
     "delete_cmd_prefix": "rm(",
     "library": "var_list.r",
     "varRefreshCmd": "cat(var_dic_list()) "
    }
   },
   "types_to_exclude": [
    "module",
    "function",
    "builtin_function_or_method",
    "instance",
    "_Feature"
   ],
   "window_display": false
  }
 },
 "nbformat": 4,
 "nbformat_minor": 5
}
